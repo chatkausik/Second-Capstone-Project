{
 "cells": [
  {
   "cell_type": "markdown",
   "metadata": {},
   "source": [
    "<div class=\"span5 alert alert-info\">\n",
    "<h3>Artist Identication from Arts</h3>\n",
    "<br/>\n",
    "<b>Introduction:</b> Artist identification of fine art paintings is a challenging problem primarily handled by art historians with extensive training and expertise. Artist identification is the task of identifying the artist ofa painting given no other information about it. This is an important requirement for cataloguing art, especially as art is increasingly digitized. One of the most comprehensive datasets, Wikiart, has around 150,000 artworks by 2,500 artists [30]. Artsy has a growing collection with the aim of making all art easily available and accessible online [1]. As these collections grow, it becomes increasingly important to be able to efficiently label and identify newly digitized art pieces. A reliable way to identify artists is not only useful for labeling art pieces but also for identifying forgeries, another important art historical problem.\n",
    "<br/>\n",
    "<b>Dataset Overview:</b> In order to train a CNN to identify artists, i first obtain a large dataset of art compiled by Kaggle that is based on the WikiArt dataset [13]. This dataset contains roughly 100,000 paintings by 2,300 artists spanning a variety of time periods and styles.The images vary widely in size and shape. Every image is labeled with its artist in a separate .csv file.\n",
    "</div>"
   ]
  },
  {
   "cell_type": "code",
   "execution_count": 1,
   "metadata": {
    "collapsed": false
   },
   "outputs": [],
   "source": [
    "#Importing all the libraries.\n",
    "import pickle\n",
    "import os\n",
    "from os import listdir\n",
    "from PIL import Image as PImage\n",
    "import numpy as np\n",
    "import pandas as pd\n",
    "import itertools\n",
    "import matplotlib.pyplot as plt\n",
    "%matplotlib inline\n",
    "import seaborn as sns\n",
    "from IPython.display import Image\n",
    "from sklearn import svm\n",
    "from scipy.misc import imresize\n",
    "import patoolib\n",
    "import os, sys, tarfile\n",
    "import cv2    #opencv for image/video manipulation"
   ]
  },
  {
   "cell_type": "code",
   "execution_count": null,
   "metadata": {
    "collapsed": true
   },
   "outputs": [],
   "source": [
    "#dump all the paintings in one folder from wikiart."
   ]
  },
  {
   "cell_type": "code",
   "execution_count": 18,
   "metadata": {
    "collapsed": false
   },
   "outputs": [],
   "source": [
    "#Unzipping the tar .tgz files\n",
    "'''\n",
    "def extract_file(path, to_directory='.'):\n",
    "    if path.endswith('.zip'):\n",
    "        opener, mode = zipfile.ZipFile, 'r'\n",
    "    elif path.endswith('.tar.gz') or path.endswith('.tgz'):\n",
    "        opener, mode = tarfile.open, 'r:gz'\n",
    "    elif path.endswith('.tar.bz2') or path.endswith('.tbz'):\n",
    "        opener, mode = tarfile.open, 'r:bz2'\n",
    "    else: \n",
    "        print(\"path\" +  path)\n",
    "\n",
    "    cwd = os.getcwd()\n",
    "    os.chdir(to_directory)\n",
    "\n",
    "    try:\n",
    "        file = opener(path, mode)\n",
    "        try: file.extractall()\n",
    "        finally: file.close()\n",
    "    finally:\n",
    "        os.chdir(cwd)\n",
    "'''"
   ]
  },
  {
   "cell_type": "code",
   "execution_count": 2,
   "metadata": {
    "collapsed": false
   },
   "outputs": [
    {
     "data": {
      "text/html": [
       "<div>\n",
       "<style>\n",
       "    .dataframe thead tr:only-child th {\n",
       "        text-align: right;\n",
       "    }\n",
       "\n",
       "    .dataframe thead th {\n",
       "        text-align: left;\n",
       "    }\n",
       "\n",
       "    .dataframe tbody tr th {\n",
       "        vertical-align: top;\n",
       "    }\n",
       "</style>\n",
       "<table border=\"1\" class=\"dataframe\">\n",
       "  <thead>\n",
       "    <tr style=\"text-align: right;\">\n",
       "      <th></th>\n",
       "      <th>artist</th>\n",
       "      <th>date</th>\n",
       "      <th>genre</th>\n",
       "      <th>pixelsx</th>\n",
       "      <th>pixelsy</th>\n",
       "      <th>size_bytes</th>\n",
       "      <th>source</th>\n",
       "      <th>style</th>\n",
       "      <th>title</th>\n",
       "      <th>artist_group</th>\n",
       "      <th>in_train</th>\n",
       "      <th>new_filename</th>\n",
       "    </tr>\n",
       "  </thead>\n",
       "  <tbody>\n",
       "    <tr>\n",
       "      <th>0</th>\n",
       "      <td>Barnett Newman</td>\n",
       "      <td>1955.0</td>\n",
       "      <td>abstract</td>\n",
       "      <td>15530.0</td>\n",
       "      <td>6911.0</td>\n",
       "      <td>9201912.0</td>\n",
       "      <td>wikiart</td>\n",
       "      <td>Color Field Painting</td>\n",
       "      <td>Uriel</td>\n",
       "      <td>train_only</td>\n",
       "      <td>True</td>\n",
       "      <td>102257.jpg</td>\n",
       "    </tr>\n",
       "    <tr>\n",
       "      <th>1</th>\n",
       "      <td>Barnett Newman</td>\n",
       "      <td>1950.0</td>\n",
       "      <td>abstract</td>\n",
       "      <td>14559.0</td>\n",
       "      <td>6866.0</td>\n",
       "      <td>8867532.0</td>\n",
       "      <td>wikiart</td>\n",
       "      <td>Color Field Painting</td>\n",
       "      <td>Vir Heroicus Sublimis</td>\n",
       "      <td>train_only</td>\n",
       "      <td>True</td>\n",
       "      <td>75232.jpg</td>\n",
       "    </tr>\n",
       "    <tr>\n",
       "      <th>2</th>\n",
       "      <td>kiri nichol</td>\n",
       "      <td>2013.0</td>\n",
       "      <td>NaN</td>\n",
       "      <td>9003.0</td>\n",
       "      <td>9004.0</td>\n",
       "      <td>1756681.0</td>\n",
       "      <td>NaN</td>\n",
       "      <td>Neoplasticism</td>\n",
       "      <td>NaN</td>\n",
       "      <td>test_only</td>\n",
       "      <td>False</td>\n",
       "      <td>32145.jpg</td>\n",
       "    </tr>\n",
       "    <tr>\n",
       "      <th>3</th>\n",
       "      <td>kiri nichol</td>\n",
       "      <td>2013.0</td>\n",
       "      <td>NaN</td>\n",
       "      <td>9003.0</td>\n",
       "      <td>9004.0</td>\n",
       "      <td>1942046.0</td>\n",
       "      <td>NaN</td>\n",
       "      <td>Neoplasticism</td>\n",
       "      <td>NaN</td>\n",
       "      <td>test_only</td>\n",
       "      <td>False</td>\n",
       "      <td>20304.jpg</td>\n",
       "    </tr>\n",
       "    <tr>\n",
       "      <th>4</th>\n",
       "      <td>kiri nichol</td>\n",
       "      <td>2013.0</td>\n",
       "      <td>NaN</td>\n",
       "      <td>9003.0</td>\n",
       "      <td>9004.0</td>\n",
       "      <td>1526212.0</td>\n",
       "      <td>NaN</td>\n",
       "      <td>Neoplasticism</td>\n",
       "      <td>NaN</td>\n",
       "      <td>test_only</td>\n",
       "      <td>False</td>\n",
       "      <td>836.jpg</td>\n",
       "    </tr>\n",
       "  </tbody>\n",
       "</table>\n",
       "</div>"
      ],
      "text/plain": [
       "           artist    date     genre  pixelsx  pixelsy  size_bytes   source  \\\n",
       "0  Barnett Newman  1955.0  abstract  15530.0   6911.0   9201912.0  wikiart   \n",
       "1  Barnett Newman  1950.0  abstract  14559.0   6866.0   8867532.0  wikiart   \n",
       "2     kiri nichol  2013.0       NaN   9003.0   9004.0   1756681.0      NaN   \n",
       "3     kiri nichol  2013.0       NaN   9003.0   9004.0   1942046.0      NaN   \n",
       "4     kiri nichol  2013.0       NaN   9003.0   9004.0   1526212.0      NaN   \n",
       "\n",
       "                  style                  title artist_group  in_train  \\\n",
       "0  Color Field Painting                  Uriel   train_only      True   \n",
       "1  Color Field Painting  Vir Heroicus Sublimis   train_only      True   \n",
       "2         Neoplasticism                    NaN    test_only     False   \n",
       "3         Neoplasticism                    NaN    test_only     False   \n",
       "4         Neoplasticism                    NaN    test_only     False   \n",
       "\n",
       "  new_filename  \n",
       "0   102257.jpg  \n",
       "1    75232.jpg  \n",
       "2    32145.jpg  \n",
       "3    20304.jpg  \n",
       "4      836.jpg  "
      ]
     },
     "execution_count": 2,
     "metadata": {},
     "output_type": "execute_result"
    }
   ],
   "source": [
    "df = pd.read_csv('all_data_info.csv')\n",
    "df.head()"
   ]
  },
  {
   "cell_type": "code",
   "execution_count": 3,
   "metadata": {
    "collapsed": false
   },
   "outputs": [
    {
     "data": {
      "text/plain": [
       "(103250, 12)"
      ]
     },
     "execution_count": 3,
     "metadata": {},
     "output_type": "execute_result"
    }
   ],
   "source": [
    "df.shape"
   ]
  },
  {
   "cell_type": "markdown",
   "metadata": {},
   "source": [
    "<div class=\"span5 alert alert-info\">\n",
    "<b>Art selection:</b> The vast majority of artists in the full dataset have fewer than 50 paintings, so in order to ensure sufficient sample sizes for training networks we use only the artists with 300 or more paintings in the dataset. Therefore, our dataset consists of 300 paintings per artist from 50 artists (about 22,629 total paintings) from a wide variety of styles and time periods.\n",
    "</div>"
   ]
  },
  {
   "cell_type": "code",
   "execution_count": 4,
   "metadata": {
    "collapsed": true
   },
   "outputs": [],
   "source": [
    "#Selecting only top 50 artists and their paintings.\n",
    "\n",
    "n_artist = df['artist'].value_counts().head(50)\n",
    "d1=pd.Series(n_artist.index)\n",
    "df_artist = pd.DataFrame(data=d1,columns=['artist'],index=range(len(d1)))\n",
    "df = df.merge(df_artist)\n"
   ]
  },
  {
   "cell_type": "code",
   "execution_count": 5,
   "metadata": {
    "collapsed": false
   },
   "outputs": [
    {
     "data": {
      "text/plain": [
       "Marc Chagall                  500\n",
       "Ivan Aivazovsky               500\n",
       "Ilya Repin                    500\n",
       "Albrecht Durer                500\n",
       "Zdislav Beksinski             500\n",
       "Rembrandt                     500\n",
       "Pierre-Auguste Renoir         500\n",
       "Pablo Picasso                 500\n",
       "Giovanni Battista Piranesi    500\n",
       "Gustave Dore                  500\n",
       "John Singer Sargent           500\n",
       "Ivan Shishkin                 500\n",
       "Camille Pissarro              499\n",
       "Pyotr Konchalovsky            499\n",
       "Martiros Saryan               499\n",
       "Paul Cezanne                  499\n",
       "Paul Gauguin                  498\n",
       "Claude Monet                  498\n",
       "Boris Kustodiev               498\n",
       "Raphael Kirchner              497\n",
       "Nicholas Roerich              496\n",
       "Eugene Boudin                 496\n",
       "Henri Matisse                 495\n",
       "Edgar Degas                   495\n",
       "Vincent van Gogh              494\n",
       "Childe Hassam                 493\n",
       "Camille Corot                 488\n",
       "Theophile Steinlen            485\n",
       "Salvador Dali                 485\n",
       "Alfred Sisley                 464\n",
       "Odilon Redon                  451\n",
       "Isaac Levitan                 449\n",
       "Fernand Leger                 437\n",
       "James Tissot                  427\n",
       "Eyvind Earle                  422\n",
       "Zinaida Serebriakova          412\n",
       "Henri Martin                  405\n",
       "Ernst Ludwig Kirchner         388\n",
       "Francisco Goya                386\n",
       "Maurice Prendergast           379\n",
       "Peter Paul Rubens             375\n",
       "Henri de Toulouse-Lautrec     369\n",
       "Konstantin Makovsky           364\n",
       "Erte                          364\n",
       "William Merritt Chase         363\n",
       "David Burliuk                 360\n",
       "Rene Magritte                 358\n",
       "Theodor Severin Kittelsen     351\n",
       "Utagawa Kuniyoshi             347\n",
       "Max Ernst                     344\n",
       "Name: artist, dtype: int64"
      ]
     },
     "execution_count": 5,
     "metadata": {},
     "output_type": "execute_result"
    }
   ],
   "source": [
    "n_artist"
   ]
  },
  {
   "cell_type": "code",
   "execution_count": 4,
   "metadata": {
    "collapsed": true
   },
   "outputs": [],
   "source": [
    "import shutil\n",
    "img_folder='Data/images/'\n",
    "for i in df['new_filename']:\n",
    "    img = cv2.imread(img_folder + i)\n",
    "    shutil.copy2(img_folder + i, 'Data/image50/')"
   ]
  },
  {
   "cell_type": "code",
   "execution_count": 141,
   "metadata": {
    "collapsed": false
   },
   "outputs": [],
   "source": [
    "#Creating list of rest of artists those painting will be removed from my dataset.\n",
    "'''d2=pd.Series(df['artist'].value_counts().tail(2269).index)\n",
    "df_remove = pd.DataFrame(data=d2,columns=['artist'],index=range(len(d2)))\n",
    "df1 = df.merge(df_remove)'''"
   ]
  },
  {
   "cell_type": "code",
   "execution_count": 13,
   "metadata": {
    "collapsed": false
   },
   "outputs": [
    {
     "data": {
      "text/plain": [
       "(22629, 12)"
      ]
     },
     "execution_count": 13,
     "metadata": {},
     "output_type": "execute_result"
    }
   ],
   "source": [
    "df.shape"
   ]
  },
  {
   "cell_type": "code",
   "execution_count": 146,
   "metadata": {
    "collapsed": false
   },
   "outputs": [
    {
     "data": {
      "text/html": [
       "<div>\n",
       "<style>\n",
       "    .dataframe thead tr:only-child th {\n",
       "        text-align: right;\n",
       "    }\n",
       "\n",
       "    .dataframe thead th {\n",
       "        text-align: left;\n",
       "    }\n",
       "\n",
       "    .dataframe tbody tr th {\n",
       "        vertical-align: top;\n",
       "    }\n",
       "</style>\n",
       "<table border=\"1\" class=\"dataframe\">\n",
       "  <thead>\n",
       "    <tr style=\"text-align: right;\">\n",
       "      <th></th>\n",
       "      <th>new_filename</th>\n",
       "    </tr>\n",
       "  </thead>\n",
       "  <tbody>\n",
       "    <tr>\n",
       "      <th>0</th>\n",
       "      <td>102257.jpg</td>\n",
       "    </tr>\n",
       "    <tr>\n",
       "      <th>1</th>\n",
       "      <td>75232.jpg</td>\n",
       "    </tr>\n",
       "    <tr>\n",
       "      <th>2</th>\n",
       "      <td>62252.jpg</td>\n",
       "    </tr>\n",
       "    <tr>\n",
       "      <th>3</th>\n",
       "      <td>63861.jpg</td>\n",
       "    </tr>\n",
       "    <tr>\n",
       "      <th>4</th>\n",
       "      <td>59145.jpg</td>\n",
       "    </tr>\n",
       "  </tbody>\n",
       "</table>\n",
       "</div>"
      ],
      "text/plain": [
       "  new_filename\n",
       "0   102257.jpg\n",
       "1    75232.jpg\n",
       "2    62252.jpg\n",
       "3    63861.jpg\n",
       "4    59145.jpg"
      ]
     },
     "execution_count": 146,
     "metadata": {},
     "output_type": "execute_result"
    }
   ],
   "source": [
    "'''df1 = df1[['new_filename']]\n",
    "df1.head()'''"
   ]
  },
  {
   "cell_type": "code",
   "execution_count": null,
   "metadata": {
    "collapsed": false
   },
   "outputs": [],
   "source": [
    "#Removing the unwanted images.\n",
    "'''%%time\n",
    "for i in df1['new_filename']:\n",
    "    path = 'Selected_Data/train/train/train/' + i\n",
    "    if os.path.isfile(path):\n",
    "        os.remove(path) \n",
    "        print(\"removing\" + i)\n",
    "    else:\n",
    "        print(\"path not found\" + i)'''\n",
    "    "
   ]
  },
  {
   "cell_type": "code",
   "execution_count": 7,
   "metadata": {
    "collapsed": false
   },
   "outputs": [
    {
     "data": {
      "text/plain": [
       "True     17396\n",
       "False     5233\n",
       "Name: in_train, dtype: int64"
      ]
     },
     "execution_count": 7,
     "metadata": {},
     "output_type": "execute_result"
    }
   ],
   "source": [
    "df['in_train'].value_counts()"
   ]
  },
  {
   "cell_type": "code",
   "execution_count": 16,
   "metadata": {
    "collapsed": false
   },
   "outputs": [
    {
     "data": {
      "text/html": [
       "<div>\n",
       "<style>\n",
       "    .dataframe thead tr:only-child th {\n",
       "        text-align: right;\n",
       "    }\n",
       "\n",
       "    .dataframe thead th {\n",
       "        text-align: left;\n",
       "    }\n",
       "\n",
       "    .dataframe tbody tr th {\n",
       "        vertical-align: top;\n",
       "    }\n",
       "</style>\n",
       "<table border=\"1\" class=\"dataframe\">\n",
       "  <thead>\n",
       "    <tr style=\"text-align: right;\">\n",
       "      <th></th>\n",
       "      <th>new_filename</th>\n",
       "      <th>new_file_name</th>\n",
       "    </tr>\n",
       "  </thead>\n",
       "  <tbody>\n",
       "    <tr>\n",
       "      <th>21198</th>\n",
       "      <td>100003.jpg</td>\n",
       "      <td>Marc_Chagall_100003.jpg</td>\n",
       "    </tr>\n",
       "    <tr>\n",
       "      <th>5134</th>\n",
       "      <td>100006.jpg</td>\n",
       "      <td>Pierre-Auguste_Renoir_100006.jpg</td>\n",
       "    </tr>\n",
       "    <tr>\n",
       "      <th>14390</th>\n",
       "      <td>10001.jpg</td>\n",
       "      <td>Fernand_Leger_10001.jpg</td>\n",
       "    </tr>\n",
       "    <tr>\n",
       "      <th>12619</th>\n",
       "      <td>100014.jpg</td>\n",
       "      <td>Isaac_Levitan_100014.jpg</td>\n",
       "    </tr>\n",
       "    <tr>\n",
       "      <th>9452</th>\n",
       "      <td>100018.jpg</td>\n",
       "      <td>Raphael_Kirchner_100018.jpg</td>\n",
       "    </tr>\n",
       "  </tbody>\n",
       "</table>\n",
       "</div>"
      ],
      "text/plain": [
       "      new_filename                     new_file_name\n",
       "21198   100003.jpg           Marc_Chagall_100003.jpg\n",
       "5134    100006.jpg  Pierre-Auguste_Renoir_100006.jpg\n",
       "14390    10001.jpg           Fernand_Leger_10001.jpg\n",
       "12619   100014.jpg          Isaac_Levitan_100014.jpg\n",
       "9452    100018.jpg       Raphael_Kirchner_100018.jpg"
      ]
     },
     "execution_count": 16,
     "metadata": {},
     "output_type": "execute_result"
    }
   ],
   "source": [
    "df.head()"
   ]
  },
  {
   "cell_type": "code",
   "execution_count": 14,
   "metadata": {
    "collapsed": false
   },
   "outputs": [],
   "source": [
    "# This step will append corresponding artist name for each and very paintings \n",
    "df = df[['artist', 'new_filename']].sort_values(by='new_filename')\n",
    "#Creating new columns with updaed file names\n",
    "new_file = df['artist'].apply(lambda x: (x.replace(\" \", \"_\") + \"_\"))\n",
    "df['new_file'] = new_file\n",
    "df['new_file_name'] = df['new_file'] + df['new_filename']\n",
    "df = df[['new_filename', 'new_file_name']]\n"
   ]
  },
  {
   "cell_type": "code",
   "execution_count": 112,
   "metadata": {
    "collapsed": false
   },
   "outputs": [],
   "source": [
    "#lst = list(df_ts.loc[df_ts['new_filename'].isin(test_images['new_filename'].tolist())]['new_filename'])"
   ]
  },
  {
   "cell_type": "code",
   "execution_count": 155,
   "metadata": {
    "collapsed": true
   },
   "outputs": [],
   "source": [
    "#Labelling the painting names with it's artist name.\n",
    "#rename(\"Selected_Data/train/train/train/\")\n"
   ]
  },
  {
   "cell_type": "markdown",
   "metadata": {},
   "source": [
    "<div class=\"span5 alert alert-info\">\n",
    "<b></b> So we have 22629 Paintings for 50 artists.\n",
    "</div>"
   ]
  },
  {
   "cell_type": "code",
   "execution_count": 159,
   "metadata": {
    "collapsed": false
   },
   "outputs": [],
   "source": [
    "#Moving the images to Selected_Data/images folder.\n",
    "'''\n",
    "import shutil\n",
    "for i in listdir(\"Selected_Data/train/train/train/\"):\n",
    "    shutil.move(\"Selected_Data/train/train/train/\" + i, \"Selected_Data/images/\" + i)\n",
    "    '''"
   ]
  },
  {
   "cell_type": "code",
   "execution_count": 7,
   "metadata": {
    "collapsed": false
   },
   "outputs": [],
   "source": [
    "#PImage.open('Selected_Data/images/William_Merritt_Chase_9803.jpg')\n",
    "image=cv2.imread('Selected_Data/images/Zinaida_Serebriakova_102964.jpg')\n",
    "#print(image.T)\n",
    "cv2.imshow('102964.jpg', image)\n",
    "#r,g,b = cv2.split(image)\n",
    "#res=cv2.resize(image,(250,250))\n",
    "#gray_image = cv2.cvtColor(res, cv2.COLOR_BGR2GRAY)\n",
    "#cv2.imshow('gray',gray_image)\n",
    "\n",
    "#The intensity of red is 166, green is 175 and blue is 204!"
   ]
  },
  {
   "cell_type": "code",
   "execution_count": 42,
   "metadata": {
    "collapsed": false
   },
   "outputs": [],
   "source": [
    "crop=image[200:500, 600:900]\n",
    "cv2.imshow('crop',crop)"
   ]
  },
  {
   "cell_type": "markdown",
   "metadata": {
    "collapsed": true
   },
   "source": [
    "# GLCM feature extraction to reduce dimentionality"
   ]
  },
  {
   "cell_type": "markdown",
   "metadata": {},
   "source": [
    "Grey Level Co-occurence matrix:  GLCM considers the spatial relationship of pixels and characterizes the\n",
    "texture of an image by calculating how often pairs of pixel with specific values\n",
    "and spatial relationships occur in an image. Once the GLCM is constructed,\n",
    "statistical measures are extracted from the matrix."
   ]
  },
  {
   "cell_type": "code",
   "execution_count": 6,
   "metadata": {
    "collapsed": false
   },
   "outputs": [],
   "source": [
    "import cv2\n",
    "import skimage.feature as sk\n",
    "import mahotas.features as feature"
   ]
  },
  {
   "cell_type": "code",
   "execution_count": 9,
   "metadata": {
    "collapsed": false
   },
   "outputs": [
    {
     "data": {
      "text/plain": [
       "array([[51, 50, 48, ..., 50, 53, 53],\n",
       "       [60, 54, 48, ..., 42, 44, 44],\n",
       "       [54, 45, 37, ..., 34, 35, 36],\n",
       "       ..., \n",
       "       [92, 85, 59, ..., 35, 34, 36],\n",
       "       [76, 83, 60, ..., 39, 36, 36],\n",
       "       [79, 74, 75, ..., 42, 35, 42]], dtype=uint8)"
      ]
     },
     "execution_count": 9,
     "metadata": {},
     "output_type": "execute_result"
    }
   ],
   "source": [
    "img=cv2.imread('Selected_Data/images/William_Merritt_Chase_9803.jpg',0)\n",
    "img"
   ]
  },
  {
   "cell_type": "code",
   "execution_count": 10,
   "metadata": {
    "collapsed": true
   },
   "outputs": [],
   "source": [
    "cv2.imshow('pic',img)"
   ]
  },
  {
   "cell_type": "code",
   "execution_count": 4,
   "metadata": {
    "collapsed": false
   },
   "outputs": [
    {
     "data": {
      "text/plain": [
       "(337, 256)"
      ]
     },
     "execution_count": 4,
     "metadata": {},
     "output_type": "execute_result"
    }
   ],
   "source": [
    "img.shape"
   ]
  },
  {
   "cell_type": "code",
   "execution_count": 5,
   "metadata": {
    "collapsed": false
   },
   "outputs": [],
   "source": [
    "glcm=sk.greycomatrix(image=img,distances=[1],angles=[0,np.pi/4,np.pi/2,3*np.pi/4])"
   ]
  },
  {
   "cell_type": "code",
   "execution_count": 6,
   "metadata": {
    "collapsed": false
   },
   "outputs": [
    {
     "data": {
      "text/plain": [
       "array([[[ 1,  5,  3,  0],\n",
       "        [ 0,  1,  0,  0],\n",
       "        [ 1,  0,  2,  0],\n",
       "        ..., \n",
       "        [ 0,  0,  0,  0],\n",
       "        [ 0,  0,  0,  0],\n",
       "        [ 0,  0,  0,  0]],\n",
       "\n",
       "       [[ 0,  0,  0,  0],\n",
       "        [ 0,  0,  0,  0],\n",
       "        [ 0,  0,  1,  0],\n",
       "        ..., \n",
       "        [ 0,  0,  0,  0],\n",
       "        [ 0,  0,  0,  0],\n",
       "        [ 0,  0,  0,  0]],\n",
       "\n",
       "       [[ 1,  0,  1,  1],\n",
       "        [ 0,  0,  0,  0],\n",
       "        [ 0,  0,  0,  1],\n",
       "        ..., \n",
       "        [ 0,  0,  0,  0],\n",
       "        [ 0,  0,  0,  0],\n",
       "        [ 0,  0,  0,  0]],\n",
       "\n",
       "       ..., \n",
       "       [[ 0,  0,  0,  0],\n",
       "        [ 0,  0,  0,  0],\n",
       "        [ 0,  0,  0,  0],\n",
       "        ..., \n",
       "        [ 2,  3,  5,  1],\n",
       "        [ 5,  3,  1,  4],\n",
       "        [18,  8,  7,  4]],\n",
       "\n",
       "       [[ 0,  0,  0,  0],\n",
       "        [ 0,  0,  0,  0],\n",
       "        [ 0,  0,  0,  0],\n",
       "        ..., \n",
       "        [ 3,  4,  1,  0],\n",
       "        [ 5,  2,  3,  5],\n",
       "        [10, 11, 10,  6]],\n",
       "\n",
       "       [[ 0,  0,  0,  0],\n",
       "        [ 0,  0,  0,  0],\n",
       "        [ 0,  0,  0,  0],\n",
       "        ..., \n",
       "        [ 7,  7,  7,  9],\n",
       "        [13,  8, 11,  4],\n",
       "        [40, 35, 31, 21]]], dtype=uint32)"
      ]
     },
     "execution_count": 6,
     "metadata": {},
     "output_type": "execute_result"
    }
   ],
   "source": [
    "glcm[:,:,0]"
   ]
  },
  {
   "cell_type": "code",
   "execution_count": 7,
   "metadata": {
    "collapsed": true
   },
   "outputs": [],
   "source": [
    "F14 = feature.haralick(img).mean(0)"
   ]
  },
  {
   "cell_type": "code",
   "execution_count": 8,
   "metadata": {
    "collapsed": false
   },
   "outputs": [
    {
     "data": {
      "text/plain": [
       "array([  4.86743530e-04,   3.40974930e+02,   9.62950718e-01,\n",
       "         4.60097897e+03,   1.61278887e-01,   1.54637113e+02,\n",
       "         1.80629409e+04,   8.17469155e+00,   1.25522912e+01,\n",
       "         2.08094516e-04,   4.80212330e+00,  -2.59818659e-01,\n",
       "         9.87685703e-01])"
      ]
     },
     "execution_count": 8,
     "metadata": {},
     "output_type": "execute_result"
    }
   ],
   "source": [
    "F14"
   ]
  },
  {
   "cell_type": "code",
   "execution_count": 7,
   "metadata": {
    "collapsed": true
   },
   "outputs": [],
   "source": [
    "def glcm(img):\n",
    "    F14 = feature.haralick(img).mean(0)\n",
    "    return F14\n",
    "    "
   ]
  },
  {
   "cell_type": "markdown",
   "metadata": {},
   "source": [
    "# Local Binary Pattern(LBP) Feature Extraction for reduction of dimentions"
   ]
  },
  {
   "cell_type": "markdown",
   "metadata": {},
   "source": [
    "\"To calculate the LBP value for a pixel in the grayscale image,\n",
    "we compare the central pixel value with the neighbouring pixel values. We\n",
    "can start from any neighbouring pixel and then we can transverse either in\n",
    "clockwise or anti-clockwise direction but we must use the same order for all\n",
    "the pixels. Since there are 8 neighbouring pixels – for each pixel, we will\n",
    "perform 8 comparisons. The results of the comparisons are stored in a 8-bit\n",
    "binary array.\n",
    "If the current pixel value is greater or equal to the neighbouring pixel\n",
    "value, the corresponding bit in the binary array is set to 1 else if the current\n",
    "pixel value is less than the neighbouring pixel value, the corresponding bit\n",
    "in the binary array is set to 0.\""
   ]
  },
  {
   "cell_type": "markdown",
   "metadata": {},
   "source": [
    "# Local Directional Pattern(LDP) Feature Extraction for dimention reduction"
   ]
  },
  {
   "cell_type": "markdown",
   "metadata": {},
   "source": [
    "The local binary pattern (LBP) operator depends on the change of the intensity around the pixel to encode the micro-level information of spot, edges and other local features in the image (Jabid et al., 2010a). The gradient is known to be more stable than the gray level; that is why some researches have replaced the intensity value at a pixel position with its gradient magnitude and calculated the LBP (Ferrer et al., 2010). The local directional pattern (LDP) was proposed by Jabid et al. (2010b) to resolve the problem with LBP, mentioned earlier. Since the LBP depends on the neighboring pixels’ intensity which makes it unstable. Instead, LDP considers the edge response value in different direction. LDP features are based on eight bit binary codes assigned to each pixel of an input image."
   ]
  },
  {
   "cell_type": "code",
   "execution_count": null,
   "metadata": {
    "collapsed": true
   },
   "outputs": [],
   "source": []
  },
  {
   "cell_type": "markdown",
   "metadata": {},
   "source": [
    "<div class=\"span5 alert alert-info\">\n",
    "<h3>Support Vector Machine(SVM) for Image Classification</h3>\n",
    "<br/>\n",
    "<b>Overview:</b> Our goal is to evaluate the accuracy of a performant classifier such as Support Vector Machine on\n",
    "object recognition and image classification.\n",
    "<b>Introduction:</b>The general framework to measure the accuracy of a SVM on a given database is composed of the\n",
    "following stages :\n",
    "\n",
    "<ol>\n",
    "<li> Preprocessing of the images.\n",
    "<li> Separation of the images in training and test sets\n",
    "<li> train the classifier over the training set and test on the test set\n",
    "<li> print the accuracy scores for both the training and the test sets\n",
    "</ol>\n",
    "\n",
    "</div>"
   ]
  },
  {
   "cell_type": "markdown",
   "metadata": {},
   "source": [
    "# Transforming the paintings "
   ]
  },
  {
   "cell_type": "markdown",
   "metadata": {},
   "source": [
    "So now we have 22629 images with labels. Next we need to put these images into a format suitable for analysis.\n",
    "\n",
    "One way to represent images in a numerical format is to convert each image to a series of RGB pixels. For example, if we had a 300x150 px image, we'd convert it to a series of 45,000 RGB pixels. We could also explore other numerical measures like hue and saturation, but let's keep it simple for now.\n",
    "\n",
    "we flatten the images using the flatten_image function, so each is represented as a row in a 2D array."
   ]
  },
  {
   "cell_type": "code",
   "execution_count": 17,
   "metadata": {
    "collapsed": false
   },
   "outputs": [],
   "source": [
    "#setup a standard image size; this will distort some images but will get everything into the same shape\n",
    "STANDARD_SIZE = (28, 28)\n",
    "def img_to_matrix(filename, verbose=False):\n",
    "    \"\"\"\n",
    "    takes a filename and turns it into a numpy array of RGB pixels\n",
    "    \"\"\"\n",
    "    #img = PImage.open(filename)\n",
    "    img = cv2.imread(filename,0)\n",
    "    #img = cv2.cvtColor(img, cv2.COLOR_BGR2GRAY)\n",
    "    if verbose==True:\n",
    "        print (\"changing size from %s to %s\" % (str(img.size), str(STANDARD_SIZE)))\n",
    "    #img = img.resize(STANDARD_SIZE)\n",
    "    img=cv2.resize(img, STANDARD_SIZE)\n",
    "    #img = list(img.getdata())\n",
    "    #img = map(list, img)\n",
    "    img = np.array(img)\n",
    "    return img\n",
    "\n",
    "def flatten_image(img):\n",
    "    \"\"\"\n",
    "    takes in an (m, n) numpy array and flattens it \n",
    "    into an array of shape (1, m * n)\n",
    "    \"\"\"\n",
    "    s = img.shape[0] * img.shape[1]\n",
    "    #print(img.shape[0])\n",
    "    #print(img.shape[1])\n",
    "    #print(img.shape)\n",
    "    img_wide = img.reshape(1, s)\n",
    "    #print(img_wide[0])\n",
    "    return img_wide[0]"
   ]
  },
  {
   "cell_type": "code",
   "execution_count": 7,
   "metadata": {
    "collapsed": false
   },
   "outputs": [
    {
     "name": "stdout",
     "output_type": "stream",
     "text": [
      "changing size from 83456 to (28, 28)\n",
      "Gray Scale Image[[200 206 205 209 207 229 206 226 235 231 231 236 237 237 239 236 236 235\n",
      "  240 239 228 236 202 183 148 191 198 193]\n",
      " [179 181 189 211 210 218 226 238 234 231 232 236 238 238 238 237 235 236\n",
      "  237 238 238 235 232 205 180 169 187 184]\n",
      " [159 198 190 193 207 202 229 236 234 234 238 233 235 237 237 236 238 238\n",
      "  238 238 238 235 237 224 164 137 152 169]\n",
      " [162 196 193 197 205 214 230 231 226 233 215 237 236 232 237 236 237 233\n",
      "  229 233 235 232 235 220 169  95 146 123]\n",
      " [186 212 204 217 206 208 225 223 226 223 226 227 233 233 230 220 234 229\n",
      "  236 237 237 237 237 227 188 172 141 177]\n",
      " [189 211 196 219 215 229 224 233 238 226 232 230 235 236 238 229 237 235\n",
      "  235 235 233 238 148 139 150 169 153 152]\n",
      " [196 198 177 214 211 223 236 230 240 232 236 232 237 237 234 238 236 235\n",
      "  237 229 189 153 162 139 113 166 139 126]\n",
      " [165 192 100 210 233 214 235 236 234 236 236 238 231 236 237 237 238 238\n",
      "  237 178 176  90 139 124 118 151 143 130]\n",
      " [141  45 182 209 221 224 233 227 237 237 234 235 237 237 237 238 238 238\n",
      "  238 198 131 132 121  98 127  94 102 126]\n",
      " [ 43  97 128 141 208 228 227 232 237 234 235 236 237 237 238 238 238 238\n",
      "  236 226 205 109 100 118 130 104 101 101]\n",
      " [ 65 118  99  83 132 225 220 231 232 234 233 236 236 238 239 238 237 236\n",
      "  231 208 138 140 110  91 111  73  89 129]\n",
      " [117 123 118  51 205 173 226 208 220 218 234 234 233 232 235 237 236 234\n",
      "  168 147 111 140 125  76  77 123 142 115]\n",
      " [153  91  66  70 152 132 144 197 197 199 196 223 234 236 236 233 235 228\n",
      "  148 126 145 153 131  73  23  83 136 110]\n",
      " [ 77  20  39 107  81 107 164 135 195 198 184 202 233 231 234 235 237 229\n",
      "  133 113 135 138 116  66  12 101 112  49]\n",
      " [ 98  84  83 114  55  70 127 133 132 174 189 193 198 224 233 217 216 221\n",
      "  188 147 108 117  94  37  24  66  88  40]\n",
      " [135  91   2  87  84  97  84  68 143 124 162 141 168 173 146 214 181 156\n",
      "  202 183  96 120  41  22  14  28  71  56]\n",
      " [117 162   1  13  64  81  51  15 126  98  95 146 152 193 188 173 145 191\n",
      "  168 176 100  85  14  16  28  44  55  31]\n",
      " [ 58  51   3   5  65   7  18  75 116 124  97  15 144 163 102 163 146 111\n",
      "  148 134 106 107  54  16  43  51 141  56]\n",
      " [ 71  57  23  13  61  20  45  61 111 125  63  76  99 113 136 116 160 136\n",
      "  115 173 138  27  16 169  25  11  62 101]\n",
      " [ 21  30  64  20  45  11  22  57  36  26  71 137 162 137 116  33 135 167\n",
      "  108  83  97 112  38  85  67  15  97  57]\n",
      " [  7   2   3  54  14  44  18  49   3  21  51  79 165 123 110  79 143 147\n",
      "  165  84  78  76  12  37  21 229 100  95]\n",
      " [ 83  13   3  48   1  55  19  98 170  17 118 130  71  96  54 156 111 144\n",
      "  115  92  67  58  57  78  45  23 127  91]\n",
      " [ 65  32  55   1 135  23  76 134  77  93 111 128  85 115  75 164  92  33\n",
      "  184 204 129  82 133  67  33 103  52  48]\n",
      " [ 10  27  15  52  76  30   6   3  52  62 121 114  97 122  16  88  99 104\n",
      "   20 135  68 198  53  47  31  43 114  83]\n",
      " [108  64  95  53 171  41  68  91 116 137 117 132 155  59   4 100  72 105\n",
      "  138 128 108  44  52  59 108  52  57  68]\n",
      " [117  63 118  45  22  32  35 106 123  62  41 115  71 111  97 118 148 190\n",
      "  177 144  61  60  94 148 102 129 163 112]\n",
      " [ 98  67  43  29  16  23  16  98 166 138  33 142 116  83 125  80 138 168\n",
      "  112 119 125 164 128 145 128 154 122 154]\n",
      " [ 93  82  69  46 104 112 117 132 122 129  63 157 193 181 136  81 138 157\n",
      "  180 152 148 173 145 163 175 161 148 129]]\n",
      "Flatten Image[200 206 205 209 207 229 206 226 235 231 231 236 237 237 239 236 236 235\n",
      " 240 239 228 236 202 183 148 191 198 193 179 181 189 211 210 218 226 238\n",
      " 234 231 232 236 238 238 238 237 235 236 237 238 238 235 232 205 180 169\n",
      " 187 184 159 198 190 193 207 202 229 236 234 234 238 233 235 237 237 236\n",
      " 238 238 238 238 238 235 237 224 164 137 152 169 162 196 193 197 205 214\n",
      " 230 231 226 233 215 237 236 232 237 236 237 233 229 233 235 232 235 220\n",
      " 169  95 146 123 186 212 204 217 206 208 225 223 226 223 226 227 233 233\n",
      " 230 220 234 229 236 237 237 237 237 227 188 172 141 177 189 211 196 219\n",
      " 215 229 224 233 238 226 232 230 235 236 238 229 237 235 235 235 233 238\n",
      " 148 139 150 169 153 152 196 198 177 214 211 223 236 230 240 232 236 232\n",
      " 237 237 234 238 236 235 237 229 189 153 162 139 113 166 139 126 165 192\n",
      " 100 210 233 214 235 236 234 236 236 238 231 236 237 237 238 238 237 178\n",
      " 176  90 139 124 118 151 143 130 141  45 182 209 221 224 233 227 237 237\n",
      " 234 235 237 237 237 238 238 238 238 198 131 132 121  98 127  94 102 126\n",
      "  43  97 128 141 208 228 227 232 237 234 235 236 237 237 238 238 238 238\n",
      " 236 226 205 109 100 118 130 104 101 101  65 118  99  83 132 225 220 231\n",
      " 232 234 233 236 236 238 239 238 237 236 231 208 138 140 110  91 111  73\n",
      "  89 129 117 123 118  51 205 173 226 208 220 218 234 234 233 232 235 237\n",
      " 236 234 168 147 111 140 125  76  77 123 142 115 153  91  66  70 152 132\n",
      " 144 197 197 199 196 223 234 236 236 233 235 228 148 126 145 153 131  73\n",
      "  23  83 136 110  77  20  39 107  81 107 164 135 195 198 184 202 233 231\n",
      " 234 235 237 229 133 113 135 138 116  66  12 101 112  49  98  84  83 114\n",
      "  55  70 127 133 132 174 189 193 198 224 233 217 216 221 188 147 108 117\n",
      "  94  37  24  66  88  40 135  91   2  87  84  97  84  68 143 124 162 141\n",
      " 168 173 146 214 181 156 202 183  96 120  41  22  14  28  71  56 117 162\n",
      "   1  13  64  81  51  15 126  98  95 146 152 193 188 173 145 191 168 176\n",
      " 100  85  14  16  28  44  55  31  58  51   3   5  65   7  18  75 116 124\n",
      "  97  15 144 163 102 163 146 111 148 134 106 107  54  16  43  51 141  56\n",
      "  71  57  23  13  61  20  45  61 111 125  63  76  99 113 136 116 160 136\n",
      " 115 173 138  27  16 169  25  11  62 101  21  30  64  20  45  11  22  57\n",
      "  36  26  71 137 162 137 116  33 135 167 108  83  97 112  38  85  67  15\n",
      "  97  57   7   2   3  54  14  44  18  49   3  21  51  79 165 123 110  79\n",
      " 143 147 165  84  78  76  12  37  21 229 100  95  83  13   3  48   1  55\n",
      "  19  98 170  17 118 130  71  96  54 156 111 144 115  92  67  58  57  78\n",
      "  45  23 127  91  65  32  55   1 135  23  76 134  77  93 111 128  85 115\n",
      "  75 164  92  33 184 204 129  82 133  67  33 103  52  48  10  27  15  52\n",
      "  76  30   6   3  52  62 121 114  97 122  16  88  99 104  20 135  68 198\n",
      "  53  47  31  43 114  83 108  64  95  53 171  41  68  91 116 137 117 132\n",
      " 155  59   4 100  72 105 138 128 108  44  52  59 108  52  57  68 117  63\n",
      " 118  45  22  32  35 106 123  62  41 115  71 111  97 118 148 190 177 144\n",
      "  61  60  94 148 102 129 163 112  98  67  43  29  16  23  16  98 166 138\n",
      "  33 142 116  83 125  80 138 168 112 119 125 164 128 145 128 154 122 154\n",
      "  93  82  69  46 104 112 117 132 122 129  63 157 193 181 136  81 138 157\n",
      " 180 152 148 173 145 163 175 161 148 129]\n"
     ]
    }
   ],
   "source": [
    "#Checking one image\n",
    "\n",
    "filename='images/Pierre-Auguste_Renoir_99721.jpg'\n",
    "img_gray=img_to_matrix(filename, verbose=True)\n",
    "print(\"Gray Scale Image\"  + str(img_gray))\n",
    "#glcimg=glcm(img_gray)\n",
    "#print('glc image' + str(glcimg))\n",
    "img=flatten_image(img_gray)\n",
    "print(\"Flatten Image\" + str(img))\n",
    "#img.size\n",
    "#test_imgs.shape\n",
    "#print(img)\n",
    "#cv2.imshow('show',glcimg)"
   ]
  },
  {
   "cell_type": "markdown",
   "metadata": {},
   "source": [
    "# Normalize the data"
   ]
  },
  {
   "cell_type": "markdown",
   "metadata": {},
   "source": [
    "We need to normalize the images so they're in the same shape. To do that, we resize each observation to 233X233 px."
   ]
  },
  {
   "cell_type": "code",
   "execution_count": 18,
   "metadata": {
    "collapsed": false
   },
   "outputs": [
    {
     "data": {
      "text/plain": [
       "array([[177, 185, 180, ...,  87,  89,  97],\n",
       "       [  3,   0,   0, ...,  79,  85,  46],\n",
       "       [201, 201, 159, ..., 251, 252, 252],\n",
       "       ..., \n",
       "       [207, 177, 206, ..., 208, 188, 205],\n",
       "       [210, 210, 211, ..., 189, 201, 205],\n",
       "       [113, 129, 152, ..., 152,  70, 164]], dtype=uint8)"
      ]
     },
     "execution_count": 18,
     "metadata": {},
     "output_type": "execute_result"
    }
   ],
   "source": [
    "#Nomalize the data\n",
    "\n",
    "img_dir = \"Selected_Data/images/\"\n",
    "images = [img_dir + f for f in os.listdir(img_dir)]\n",
    "\n",
    "data = []\n",
    "for image in images:\n",
    "    img = img_to_matrix(image)\n",
    "    img = flatten_image(img)\n",
    "    #img = glcm(img)\n",
    "    data.append(img)\n",
    "\n",
    "data = np.array(data)\n",
    "data"
   ]
  },
  {
   "cell_type": "code",
   "execution_count": 19,
   "metadata": {
    "collapsed": false
   },
   "outputs": [
    {
     "data": {
      "text/plain": [
       "(22629, 784)"
      ]
     },
     "execution_count": 19,
     "metadata": {},
     "output_type": "execute_result"
    }
   ],
   "source": [
    "data.shape"
   ]
  },
  {
   "cell_type": "code",
   "execution_count": 20,
   "metadata": {
    "collapsed": false
   },
   "outputs": [
    {
     "data": {
      "text/plain": [
       "<matplotlib.text.Text at 0x2992cd04128>"
      ]
     },
     "execution_count": 20,
     "metadata": {},
     "output_type": "execute_result"
    },
    {
     "data": {
      "image/png": "[encoded data removed]",
      "text/plain": [
       "<matplotlib.figure.Figure at 0x2992bdb4ba8>"
      ]
     },
     "metadata": {},
     "output_type": "display_data"
    }
   ],
   "source": [
    "from sklearn.decomposition import PCA\n",
    "\n",
    "pca = PCA().fit(data)\n",
    "plt.plot(np.cumsum(pca.explained_variance_ratio_))\n",
    "#plt.xlim(0,300,1)\n",
    "plt.xlabel('Number of components')\n",
    "plt.ylabel('Cumulative explained variance')"
   ]
  },
  {
   "cell_type": "code",
   "execution_count": 21,
   "metadata": {
    "collapsed": true
   },
   "outputs": [],
   "source": [
    "sklearn_pca=PCA(n_components=700)\n",
    "X = sklearn_pca.fit_transform(data)"
   ]
  },
  {
   "cell_type": "code",
   "execution_count": 22,
   "metadata": {
    "collapsed": false
   },
   "outputs": [],
   "source": [
    "'''data_df = pd.DataFrame(data)\n",
    "data_df.to_csv('Selected_Data/inputdata.csv')'''"
   ]
  },
  {
   "cell_type": "markdown",
   "metadata": {},
   "source": [
    "Creating Label array"
   ]
  },
  {
   "cell_type": "code",
   "execution_count": 22,
   "metadata": {
    "collapsed": false
   },
   "outputs": [],
   "source": [
    "test_images = pd.DataFrame(next(os.walk('Selected_Data/images'))[2], columns=['new_filename'])\n",
    "test_images = test_images.sort_values(by='new_filename')"
   ]
  },
  {
   "cell_type": "code",
   "execution_count": 23,
   "metadata": {
    "collapsed": false
   },
   "outputs": [
    {
     "data": {
      "text/plain": [
       "(22629, 1)"
      ]
     },
     "execution_count": 23,
     "metadata": {},
     "output_type": "execute_result"
    }
   ],
   "source": [
    "test_images.shape"
   ]
  },
  {
   "cell_type": "code",
   "execution_count": 24,
   "metadata": {
    "collapsed": false
   },
   "outputs": [
    {
     "data": {
      "text/html": [
       "<div>\n",
       "<style>\n",
       "    .dataframe thead tr:only-child th {\n",
       "        text-align: right;\n",
       "    }\n",
       "\n",
       "    .dataframe thead th {\n",
       "        text-align: left;\n",
       "    }\n",
       "\n",
       "    .dataframe tbody tr th {\n",
       "        vertical-align: top;\n",
       "    }\n",
       "</style>\n",
       "<table border=\"1\" class=\"dataframe\">\n",
       "  <thead>\n",
       "    <tr style=\"text-align: right;\">\n",
       "      <th></th>\n",
       "      <th>new_filename</th>\n",
       "    </tr>\n",
       "  </thead>\n",
       "  <tbody>\n",
       "    <tr>\n",
       "      <th>0</th>\n",
       "      <td>Albrecht_Durer_100046.jpg</td>\n",
       "    </tr>\n",
       "    <tr>\n",
       "      <th>1</th>\n",
       "      <td>Albrecht_Durer_100712.jpg</td>\n",
       "    </tr>\n",
       "    <tr>\n",
       "      <th>2</th>\n",
       "      <td>Albrecht_Durer_100743.jpg</td>\n",
       "    </tr>\n",
       "    <tr>\n",
       "      <th>3</th>\n",
       "      <td>Albrecht_Durer_101009.jpg</td>\n",
       "    </tr>\n",
       "    <tr>\n",
       "      <th>4</th>\n",
       "      <td>Albrecht_Durer_10135.jpg</td>\n",
       "    </tr>\n",
       "  </tbody>\n",
       "</table>\n",
       "</div>"
      ],
      "text/plain": [
       "                new_filename\n",
       "0  Albrecht_Durer_100046.jpg\n",
       "1  Albrecht_Durer_100712.jpg\n",
       "2  Albrecht_Durer_100743.jpg\n",
       "3  Albrecht_Durer_101009.jpg\n",
       "4   Albrecht_Durer_10135.jpg"
      ]
     },
     "execution_count": 24,
     "metadata": {},
     "output_type": "execute_result"
    }
   ],
   "source": [
    "test_images.head()"
   ]
  },
  {
   "cell_type": "code",
   "execution_count": 25,
   "metadata": {
    "collapsed": false
   },
   "outputs": [],
   "source": [
    "test_images = test_images['new_filename'].apply(lambda x: x.replace(x.split('_')[-1],''))"
   ]
  },
  {
   "cell_type": "code",
   "execution_count": 26,
   "metadata": {
    "collapsed": false
   },
   "outputs": [],
   "source": [
    "test_images = test_images.apply(lambda x: x.replace('_', ' '))"
   ]
  },
  {
   "cell_type": "code",
   "execution_count": 42,
   "metadata": {
    "collapsed": false
   },
   "outputs": [
    {
     "data": {
      "text/plain": [
       "numpy.ndarray"
      ]
     },
     "execution_count": 42,
     "metadata": {},
     "output_type": "execute_result"
    }
   ],
   "source": [
    "type(test_images)"
   ]
  },
  {
   "cell_type": "code",
   "execution_count": 28,
   "metadata": {
    "collapsed": false
   },
   "outputs": [
    {
     "data": {
      "text/plain": [
       "array(['Albrecht Durer ', 'Albrecht Durer ', 'Albrecht Durer ', ...,\n",
       "       'Zinaida Serebriakova ', 'Zinaida Serebriakova ',\n",
       "       'Zinaida Serebriakova '], dtype=object)"
      ]
     },
     "execution_count": 28,
     "metadata": {},
     "output_type": "execute_result"
    }
   ],
   "source": [
    "test_images=test_images.ravel()\n",
    "test_images"
   ]
  },
  {
   "cell_type": "code",
   "execution_count": 19,
   "metadata": {
    "collapsed": false
   },
   "outputs": [],
   "source": [
    "y_lookup = pd.DataFrame(test_images, columns=['artist'])"
   ]
  },
  {
   "cell_type": "code",
   "execution_count": 24,
   "metadata": {
    "collapsed": false
   },
   "outputs": [
    {
     "name": "stdout",
     "output_type": "stream",
     "text": [
      "            artist  artist_encode\n",
      "0  Albrecht Durer               0\n",
      "             artist  artist_encode\n",
      "500  Alfred Sisley               1\n",
      "               artist  artist_encode\n",
      "964  Boris Kustodiev               2\n",
      "              artist  artist_encode\n",
      "1462  Camille Corot               3\n",
      "                 artist  artist_encode\n",
      "1950  Camille Pissarro               4\n",
      "              artist  artist_encode\n",
      "2449  Childe Hassam               5\n",
      "             artist  artist_encode\n",
      "2942  Claude Monet               6\n",
      "              artist  artist_encode\n",
      "3440  David Burliuk               7\n",
      "            artist  artist_encode\n",
      "3800  Edgar Degas               8\n",
      "                      artist  artist_encode\n",
      "4295  Ernst Ludwig Kirchner               9\n",
      "     artist  artist_encode\n",
      "4683  Erte              10\n",
      "              artist  artist_encode\n",
      "5047  Eugene Boudin              11\n",
      "             artist  artist_encode\n",
      "5543  Eyvind Earle              12\n",
      "              artist  artist_encode\n",
      "5965  Fernand Leger              13\n",
      "               artist  artist_encode\n",
      "6402  Francisco Goya              14\n",
      "                           artist  artist_encode\n",
      "6788  Giovanni Battista Piranesi              15\n",
      "             artist  artist_encode\n",
      "7288  Gustave Dore              16\n",
      "             artist  artist_encode\n",
      "7788  Henri Martin              17\n",
      "              artist  artist_encode\n",
      "8193  Henri Matisse              18\n",
      "                          artist  artist_encode\n",
      "8688  Henri de Toulouse-Lautrec              19\n",
      "           artist  artist_encode\n",
      "9057  Ilya Repin              20\n",
      "              artist  artist_encode\n",
      "9557  Isaac Levitan              21\n",
      "                 artist  artist_encode\n",
      "10006  Ivan Aivazovsky              22\n",
      "               artist  artist_encode\n",
      "10506  Ivan Shishkin              23\n",
      "              artist  artist_encode\n",
      "11006  James Tissot              24\n",
      "                     artist  artist_encode\n",
      "11433  John Singer Sargent              25\n",
      "                     artist  artist_encode\n",
      "11933  Konstantin Makovsky              26\n",
      "              artist  artist_encode\n",
      "12297  Marc Chagall              27\n",
      "                 artist  artist_encode\n",
      "12797  Martiros Saryan              28\n",
      "                     artist  artist_encode\n",
      "13296  Maurice Prendergast              29\n",
      "           artist  artist_encode\n",
      "13675  Max Ernst              30\n",
      "                  artist  artist_encode\n",
      "14019  Nicholas Roerich              31\n",
      "              artist  artist_encode\n",
      "14515  Odilon Redon              32\n",
      "               artist  artist_encode\n",
      "14966  Pablo Picasso              33\n",
      "              artist  artist_encode\n",
      "15466  Paul Cezanne              34\n",
      "              artist  artist_encode\n",
      "15965  Paul Gauguin              35\n",
      "                   artist  artist_encode\n",
      "16463  Peter Paul Rubens              36\n",
      "                       artist  artist_encode\n",
      "16838  Pierre-Auguste Renoir              37\n",
      "                    artist  artist_encode\n",
      "17338  Pyotr Konchalovsky              38\n",
      "                  artist  artist_encode\n",
      "17837  Raphael Kirchner              39\n",
      "           artist  artist_encode\n",
      "18334  Rembrandt              40\n",
      "               artist  artist_encode\n",
      "18834  Rene Magritte              41\n",
      "               artist  artist_encode\n",
      "19192  Salvador Dali              42\n",
      "                           artist  artist_encode\n",
      "19677  Theodor Severin Kittelsen              43\n",
      "                    artist  artist_encode\n",
      "20028  Theophile Steinlen              44\n",
      "                   artist  artist_encode\n",
      "20513  Utagawa Kuniyoshi              45\n",
      "                  artist  artist_encode\n",
      "20860  Vincent van Gogh              46\n",
      "                       artist  artist_encode\n",
      "21354  William Merritt Chase              47\n",
      "                   artist  artist_encode\n",
      "21717  Zdislav Beksinski              48\n",
      "                      artist  artist_encode\n",
      "22217  Zinaida Serebriakova              49\n"
     ]
    }
   ],
   "source": [
    "for i in range(50):\n",
    "    print(y_lookup[y_lookup.artist_encode == i].head(1))"
   ]
  },
  {
   "cell_type": "code",
   "execution_count": 23,
   "metadata": {
    "collapsed": false
   },
   "outputs": [
    {
     "data": {
      "text/plain": [
       "Max Ernst                      344\n",
       "Utagawa Kuniyoshi              347\n",
       "Theodor Severin Kittelsen      351\n",
       "Rene Magritte                  358\n",
       "David Burliuk                  360\n",
       "William Merritt Chase          363\n",
       "Konstantin Makovsky            364\n",
       "Erte                           364\n",
       "Henri de Toulouse-Lautrec      369\n",
       "Peter Paul Rubens              375\n",
       "Maurice Prendergast            379\n",
       "Francisco Goya                 386\n",
       "Ernst Ludwig Kirchner          388\n",
       "Henri Martin                   405\n",
       "Zinaida Serebriakova           412\n",
       "Eyvind Earle                   422\n",
       "James Tissot                   427\n",
       "Fernand Leger                  437\n",
       "Isaac Levitan                  449\n",
       "Odilon Redon                   451\n",
       "Alfred Sisley                  464\n",
       "Theophile Steinlen             485\n",
       "Salvador Dali                  485\n",
       "Camille Corot                  488\n",
       "Childe Hassam                  493\n",
       "Vincent van Gogh               494\n",
       "Henri Matisse                  495\n",
       "Edgar Degas                    495\n",
       "Nicholas Roerich               496\n",
       "Eugene Boudin                  496\n",
       "Raphael Kirchner               497\n",
       "Boris Kustodiev                498\n",
       "Claude Monet                   498\n",
       "Paul Gauguin                   498\n",
       "Camille Pissarro               499\n",
       "Paul Cezanne                   499\n",
       "Martiros Saryan                499\n",
       "Pyotr Konchalovsky             499\n",
       "Albrecht Durer                 500\n",
       "Pierre-Auguste Renoir          500\n",
       "Ivan Aivazovsky                500\n",
       "Marc Chagall                   500\n",
       "Giovanni Battista Piranesi     500\n",
       "Ivan Shishkin                  500\n",
       "Gustave Dore                   500\n",
       "John Singer Sargent            500\n",
       "Zdislav Beksinski              500\n",
       "Pablo Picasso                  500\n",
       "Ilya Repin                     500\n",
       "Rembrandt                      500\n",
       "Name: artist, dtype: int64"
      ]
     },
     "execution_count": 23,
     "metadata": {},
     "output_type": "execute_result"
    }
   ],
   "source": [
    "y_lookup['artist'].value_counts().sort_values()"
   ]
  },
  {
   "cell_type": "code",
   "execution_count": 24,
   "metadata": {
    "collapsed": false
   },
   "outputs": [],
   "source": [
    "'''data_df1 = pd.DataFrame(test_images)\n",
    "data_df1.to_csv('Selected_Data/labeldata.csv')'''"
   ]
  },
  {
   "cell_type": "code",
   "execution_count": 22,
   "metadata": {
    "collapsed": true
   },
   "outputs": [],
   "source": [
    "y_lookup['artist_encode'] = y"
   ]
  },
  {
   "cell_type": "code",
   "execution_count": 73,
   "metadata": {
    "collapsed": false
   },
   "outputs": [],
   "source": [
    "from sklearn.preprocessing import LabelEncoder, OneHotEncoder\n",
    "labelencoder = LabelEncoder()\n",
    "\n",
    "#y = pd.get_dummies(test_images)\n",
    "\n",
    "y = labelencoder.fit_transform(test_images)\n",
    "#onehotencoder= OneHotEncoder()\n",
    "#y = onehotencoder.fit_transform(y).toarray()"
   ]
  },
  {
   "cell_type": "code",
   "execution_count": 74,
   "metadata": {
    "collapsed": false
   },
   "outputs": [
    {
     "data": {
      "text/plain": [
       "array([ 0,  0,  0, ..., 49, 49, 49], dtype=int64)"
      ]
     },
     "execution_count": 74,
     "metadata": {},
     "output_type": "execute_result"
    }
   ],
   "source": [
    "y"
   ]
  },
  {
   "cell_type": "code",
   "execution_count": null,
   "metadata": {
    "collapsed": true
   },
   "outputs": [],
   "source": [
    "import pickle\n",
    "\n",
    "with open('X_std_50.pickle', 'wb') as f:\n",
    "    # Pickle the 'data' dictionary using the highest protocol available.\n",
    "    pickle.dump(X_std, f, pickle.HIGHEST_PROTOCOL)\n",
    "\n",
    "with open('X_std1_50.pickle', 'wb') as f:\n",
    "    # Pickle the 'data' dictionary using the highest protocol available.\n",
    "    pickle.dump(X_std1, f, pickle.HIGHEST_PROTOCOL)\n",
    "\n",
    "with open('y_train_50.pickle', 'wb') as f:\n",
    "    # Pickle the 'data' dictionary using the highest protocol available.\n",
    "    pickle.dump(y_train, f, pickle.HIGHEST_PROTOCOL)"
   ]
  },
  {
   "cell_type": "code",
   "execution_count": null,
   "metadata": {
    "collapsed": true
   },
   "outputs": [],
   "source": []
  },
  {
   "cell_type": "code",
   "execution_count": 75,
   "metadata": {
    "collapsed": false
   },
   "outputs": [],
   "source": [
    "from sklearn.model_selection import train_test_split\n",
    "\n",
    "X_train, X_test, y_train, y_test = train_test_split(X, y, test_size=0.20, random_state=0)"
   ]
  },
  {
   "cell_type": "code",
   "execution_count": 76,
   "metadata": {
    "collapsed": false
   },
   "outputs": [
    {
     "name": "stdout",
     "output_type": "stream",
     "text": [
      "X_train shape:  (18103, 700)\n",
      "y_train shape:  (18103,)\n",
      "X_test shape:  (4526, 700)\n",
      "y_test shape:  (4526,)\n"
     ]
    }
   ],
   "source": [
    "print(\"X_train shape:  \" + str(X_train.shape))\n",
    "print(\"y_train shape:  \" + str(y_train.shape))\n",
    "print(\"X_test shape:  \" + str(X_test.shape))\n",
    "print(\"y_test shape:  \" + str(y_test.shape))"
   ]
  },
  {
   "cell_type": "code",
   "execution_count": 77,
   "metadata": {
    "collapsed": true
   },
   "outputs": [],
   "source": [
    "# Feature Scaling\n",
    "from sklearn.preprocessing import StandardScaler\n",
    "sc_X = StandardScaler()\n",
    "X_std = sc_X.fit_transform(X_train)\n",
    "X_std1 = sc_X.fit_transform(X_test)"
   ]
  },
  {
   "cell_type": "code",
   "execution_count": 5,
   "metadata": {
    "collapsed": true
   },
   "outputs": [],
   "source": [
    "#The following example reads the resulting pickled data."
   ]
  },
  {
   "cell_type": "code",
   "execution_count": 2,
   "metadata": {
    "collapsed": true
   },
   "outputs": [],
   "source": [
    "with open('X_std_50.pickle', 'rb') as f:\n",
    "    # The protocol version used is detected automatically, so we do not\n",
    "    # have to specify it.\n",
    "    X_std = pickle.load(f)\n",
    "\n",
    "with open('X_std1_50.pickle', 'rb') as f:\n",
    "    # The protocol version used is detected automatically, so we do not\n",
    "    # have to specify it.\n",
    "    X_std1 = pickle.load(f)\n",
    "    \n",
    "with open('y_test_50.pickle', 'rb') as f:\n",
    "    # The protocol version used is detected automatically, so we do not\n",
    "    # have to specify it.\n",
    "    y_test = pickle.load(f)\n",
    "    \n",
    "with open('y_train_50.pickle', 'rb') as f:\n",
    "    # The protocol version used is detected automatically, so we do not\n",
    "    # have to specify it.\n",
    "    y_train = pickle.load(f)"
   ]
  },
  {
   "cell_type": "code",
   "execution_count": 3,
   "metadata": {
    "collapsed": false
   },
   "outputs": [
    {
     "name": "stderr",
     "output_type": "stream",
     "text": [
      "C:\\Users\\Amrita\\Anaconda342\\lib\\site-packages\\sklearn\\cross_validation.py:44: DeprecationWarning: This module was deprecated in version 0.18 in favor of the model_selection module into which all the refactored classes and functions are moved. Also note that the interface of the new CV iterators are different from that of this module. This module will be removed in 0.20.\n",
      "  \"This module will be removed in 0.20.\", DeprecationWarning)\n"
     ]
    }
   ],
   "source": [
    "from sklearn import preprocessing\n",
    "from sklearn import cross_validation\n",
    "from sklearn.ensemble import RandomForestClassifier, AdaBoostClassifier\n",
    "from sklearn.metrics import accuracy_score,confusion_matrix\n",
    "from sklearn.naive_bayes import GaussianNB\n",
    "from sklearn.neighbors import KNeighborsClassifier\n",
    "from sklearn.svm import SVC\n",
    "from sklearn.tree import DecisionTreeClassifier"
   ]
  },
  {
   "cell_type": "code",
   "execution_count": 4,
   "metadata": {
    "collapsed": false
   },
   "outputs": [
    {
     "name": "stdout",
     "output_type": "stream",
     "text": [
      " Accuracy_score:: 0.0377817057004\n",
      " Accuracy_score:: 0.0877154220062\n",
      " Accuracy_score:: 0.0656208572691\n",
      " Accuracy_score:: 0.0486080424216\n",
      " Accuracy_score:: 0.0890410958904\n",
      " Accuracy_score:: 0.11931064958\n"
     ]
    }
   ],
   "source": [
    "\n",
    "classifier = [\n",
    "    KNeighborsClassifier(2),\n",
    "    #SVC(kernel='linear', C=0.025),\n",
    "    #SVC(kernel='rbf', gamma=2, C=1),\n",
    "    #SVC(kernel='poly', degree=50, C=1),\n",
    "    DecisionTreeClassifier(max_depth=5),\n",
    "    DecisionTreeClassifier(criterion='entropy',min_samples_split=10),\n",
    "    RandomForestClassifier(max_depth=5,n_estimators=10,max_features=1),\n",
    "    AdaBoostClassifier(),\n",
    "    GaussianNB()]\n",
    "\n",
    "for clf in classifier:\n",
    "    clf.fit(X_std, y_train)\n",
    "    pred=clf.predict(X_std1)\n",
    "    print(\" Accuracy_score:: \" + str(accuracy_score(y_test,pred)))"
   ]
  },
  {
   "cell_type": "code",
   "execution_count": 27,
   "metadata": {
    "collapsed": false
   },
   "outputs": [
    {
     "data": {
      "text/plain": [
       "(0.18493150684931506, {'C': 3, 'gamma': 0.01})"
      ]
     },
     "execution_count": 27,
     "metadata": {},
     "output_type": "execute_result"
    }
   ],
   "source": [
    "#Gridsearch: Hyperparameter Optimization\n",
    "C_values = [0.01, 0.03, 0.1, 0.3, 1, 3, 10, 30, 100]  \n",
    "gamma_values = [0.01, 0.03, 0.1, 0.3, 1, 3, 10, 30, 100]\n",
    "\n",
    "best_score = 0  \n",
    "best_params = {'C': None, 'gamma': None}\n",
    "\n",
    "for C in C_values:  \n",
    "    for gamma in gamma_values:\n",
    "        svc = svm.SVC(C=C, gamma=gamma)\n",
    "        svc.fit(X_std, y_train)\n",
    "        score = svc.score(X_std1, y_test)\n",
    "\n",
    "        if score > best_score:\n",
    "            best_score = score\n",
    "            best_params['C'] = C\n",
    "            best_params['gamma'] = gamma\n",
    "\n",
    "best_score, best_params"
   ]
  },
  {
   "cell_type": "code",
   "execution_count": null,
   "metadata": {
    "collapsed": true
   },
   "outputs": [],
   "source": [
    "#Gridsearch: Hyperparameter Optimization with Adaboost classifier\n",
    "n_estimators_values = np.arange(10,100,20)\n",
    "learning_rate_values = np.arange(0.1,2,.1)\n",
    "\n",
    "best_score = 0  \n",
    "best_params = {'n_estimators': None, 'learning_rate': None}\n",
    "\n",
    "for n in n_estimators_values:  \n",
    "    for lrn in learning_rate_values:\n",
    "        clf=AdaBoostClassifier(n_estimators=n, learning_rate=lrn)\n",
    "        clf.fit(X_std, y_train)\n",
    "        score = clf.score(X_std1, y_test)\n",
    "\n",
    "        if score > best_score:\n",
    "            best_score = score\n",
    "            best_params['n_estimators'] = n\n",
    "            best_params['learning_rate'] = lrn\n",
    "\n",
    "best_score, best_params"
   ]
  },
  {
   "cell_type": "code",
   "execution_count": null,
   "metadata": {
    "collapsed": true
   },
   "outputs": [],
   "source": [
    "#Gridsearch: Hyperparameter Optimization for DecisionTree Classifier\n",
    "from sklearn.model_selection import GridSearchCV\n",
    "\n",
    "param_grid={'max_depth': np.arange(1,50)}\n",
    "\n",
    "tree=DecisionTreeClassifier()\n",
    "tree_cv = GridSearchCV(tree,param_grid,cv=5)\n",
    "tree_cv.fit(X_std, y_train)\n",
    "\n",
    "print(tree_cv.best_params_)\n",
    "print(tree_cv.best_score_)"
   ]
  },
  {
   "cell_type": "code",
   "execution_count": null,
   "metadata": {
    "collapsed": true
   },
   "outputs": [],
   "source": [
    "#Random Search Hyperparameter Optimization\n",
    "from random import randint\n",
    "best_score = 0  \n",
    "best_params = {'C': None, 'gamma': None}\n",
    "\n",
    "#for a preset number of iterations\n",
    "for i in range(10):\n",
    "    #try random values for each hyperparameter\n",
    "    svc = svm.SVC(C=randint(1, 9), gamma=randint(0, 3))\n",
    "    svc.fit(X_std, y_train)\n",
    "    score = svc.score(X_std1, y_test)\n",
    "\n",
    "    if score > best_score:\n",
    "        best_score = score\n",
    "        best_params['C'] = C\n",
    "        best_params['gamma'] = gamma\n",
    "\n",
    "best_score, best_params "
   ]
  },
  {
   "cell_type": "code",
   "execution_count": 29,
   "metadata": {
    "collapsed": false
   },
   "outputs": [
    {
     "data": {
      "text/plain": [
       "SVC(C=3, cache_size=200, class_weight=None, coef0=0.0,\n",
       "  decision_function_shape=None, degree=3, gamma=0.01, kernel='rbf',\n",
       "  max_iter=-1, probability=False, random_state=None, shrinking=True,\n",
       "  tol=0.001, verbose=False)"
      ]
     },
     "execution_count": 29,
     "metadata": {},
     "output_type": "execute_result"
    }
   ],
   "source": [
    "clf=SVC(gamma=0.01, C=3)\n",
    "clf.fit(X_std, y_train)"
   ]
  },
  {
   "cell_type": "code",
   "execution_count": 30,
   "metadata": {
    "collapsed": false
   },
   "outputs": [
    {
     "data": {
      "text/plain": [
       "0.18493150684931506"
      ]
     },
     "execution_count": 30,
     "metadata": {},
     "output_type": "execute_result"
    }
   ],
   "source": [
    "clf.score(X_std1, y_test)"
   ]
  },
  {
   "cell_type": "markdown",
   "metadata": {
    "collapsed": true
   },
   "source": [
    "# Evaluating the model"
   ]
  },
  {
   "cell_type": "markdown",
   "metadata": {},
   "source": [
    "When we make predictions on our holdout set, we find the the classifier performs well."
   ]
  },
  {
   "cell_type": "code",
   "execution_count": 31,
   "metadata": {
    "collapsed": false
   },
   "outputs": [
    {
     "data": {
      "text/html": [
       "<div>\n",
       "<style>\n",
       "    .dataframe thead tr:only-child th {\n",
       "        text-align: right;\n",
       "    }\n",
       "\n",
       "    .dataframe thead th {\n",
       "        text-align: left;\n",
       "    }\n",
       "\n",
       "    .dataframe tbody tr th {\n",
       "        vertical-align: top;\n",
       "    }\n",
       "</style>\n",
       "<table border=\"1\" class=\"dataframe\">\n",
       "  <thead>\n",
       "    <tr style=\"text-align: right;\">\n",
       "      <th>Predicted</th>\n",
       "      <th>0</th>\n",
       "      <th>1</th>\n",
       "      <th>2</th>\n",
       "      <th>3</th>\n",
       "      <th>4</th>\n",
       "      <th>5</th>\n",
       "      <th>6</th>\n",
       "      <th>7</th>\n",
       "      <th>8</th>\n",
       "      <th>9</th>\n",
       "      <th>...</th>\n",
       "      <th>40</th>\n",
       "      <th>41</th>\n",
       "      <th>42</th>\n",
       "      <th>43</th>\n",
       "      <th>44</th>\n",
       "      <th>45</th>\n",
       "      <th>46</th>\n",
       "      <th>47</th>\n",
       "      <th>48</th>\n",
       "      <th>49</th>\n",
       "    </tr>\n",
       "    <tr>\n",
       "      <th>Actual</th>\n",
       "      <th></th>\n",
       "      <th></th>\n",
       "      <th></th>\n",
       "      <th></th>\n",
       "      <th></th>\n",
       "      <th></th>\n",
       "      <th></th>\n",
       "      <th></th>\n",
       "      <th></th>\n",
       "      <th></th>\n",
       "      <th></th>\n",
       "      <th></th>\n",
       "      <th></th>\n",
       "      <th></th>\n",
       "      <th></th>\n",
       "      <th></th>\n",
       "      <th></th>\n",
       "      <th></th>\n",
       "      <th></th>\n",
       "      <th></th>\n",
       "      <th></th>\n",
       "    </tr>\n",
       "  </thead>\n",
       "  <tbody>\n",
       "    <tr>\n",
       "      <th>0</th>\n",
       "      <td>37</td>\n",
       "      <td>0</td>\n",
       "      <td>1</td>\n",
       "      <td>0</td>\n",
       "      <td>2</td>\n",
       "      <td>4</td>\n",
       "      <td>2</td>\n",
       "      <td>0</td>\n",
       "      <td>1</td>\n",
       "      <td>1</td>\n",
       "      <td>...</td>\n",
       "      <td>1</td>\n",
       "      <td>1</td>\n",
       "      <td>3</td>\n",
       "      <td>2</td>\n",
       "      <td>3</td>\n",
       "      <td>2</td>\n",
       "      <td>0</td>\n",
       "      <td>0</td>\n",
       "      <td>0</td>\n",
       "      <td>0</td>\n",
       "    </tr>\n",
       "    <tr>\n",
       "      <th>1</th>\n",
       "      <td>0</td>\n",
       "      <td>24</td>\n",
       "      <td>2</td>\n",
       "      <td>2</td>\n",
       "      <td>5</td>\n",
       "      <td>3</td>\n",
       "      <td>7</td>\n",
       "      <td>1</td>\n",
       "      <td>1</td>\n",
       "      <td>0</td>\n",
       "      <td>...</td>\n",
       "      <td>0</td>\n",
       "      <td>0</td>\n",
       "      <td>3</td>\n",
       "      <td>0</td>\n",
       "      <td>0</td>\n",
       "      <td>1</td>\n",
       "      <td>1</td>\n",
       "      <td>0</td>\n",
       "      <td>1</td>\n",
       "      <td>1</td>\n",
       "    </tr>\n",
       "    <tr>\n",
       "      <th>2</th>\n",
       "      <td>4</td>\n",
       "      <td>2</td>\n",
       "      <td>5</td>\n",
       "      <td>2</td>\n",
       "      <td>1</td>\n",
       "      <td>4</td>\n",
       "      <td>0</td>\n",
       "      <td>2</td>\n",
       "      <td>1</td>\n",
       "      <td>0</td>\n",
       "      <td>...</td>\n",
       "      <td>0</td>\n",
       "      <td>2</td>\n",
       "      <td>2</td>\n",
       "      <td>1</td>\n",
       "      <td>3</td>\n",
       "      <td>5</td>\n",
       "      <td>1</td>\n",
       "      <td>0</td>\n",
       "      <td>1</td>\n",
       "      <td>0</td>\n",
       "    </tr>\n",
       "    <tr>\n",
       "      <th>3</th>\n",
       "      <td>0</td>\n",
       "      <td>4</td>\n",
       "      <td>1</td>\n",
       "      <td>29</td>\n",
       "      <td>9</td>\n",
       "      <td>4</td>\n",
       "      <td>0</td>\n",
       "      <td>0</td>\n",
       "      <td>2</td>\n",
       "      <td>0</td>\n",
       "      <td>...</td>\n",
       "      <td>1</td>\n",
       "      <td>0</td>\n",
       "      <td>0</td>\n",
       "      <td>0</td>\n",
       "      <td>0</td>\n",
       "      <td>1</td>\n",
       "      <td>1</td>\n",
       "      <td>2</td>\n",
       "      <td>2</td>\n",
       "      <td>0</td>\n",
       "    </tr>\n",
       "    <tr>\n",
       "      <th>4</th>\n",
       "      <td>0</td>\n",
       "      <td>11</td>\n",
       "      <td>1</td>\n",
       "      <td>5</td>\n",
       "      <td>22</td>\n",
       "      <td>6</td>\n",
       "      <td>7</td>\n",
       "      <td>1</td>\n",
       "      <td>0</td>\n",
       "      <td>0</td>\n",
       "      <td>...</td>\n",
       "      <td>0</td>\n",
       "      <td>1</td>\n",
       "      <td>0</td>\n",
       "      <td>0</td>\n",
       "      <td>0</td>\n",
       "      <td>1</td>\n",
       "      <td>0</td>\n",
       "      <td>0</td>\n",
       "      <td>3</td>\n",
       "      <td>2</td>\n",
       "    </tr>\n",
       "    <tr>\n",
       "      <th>5</th>\n",
       "      <td>2</td>\n",
       "      <td>5</td>\n",
       "      <td>1</td>\n",
       "      <td>1</td>\n",
       "      <td>1</td>\n",
       "      <td>18</td>\n",
       "      <td>4</td>\n",
       "      <td>0</td>\n",
       "      <td>0</td>\n",
       "      <td>2</td>\n",
       "      <td>...</td>\n",
       "      <td>0</td>\n",
       "      <td>0</td>\n",
       "      <td>4</td>\n",
       "      <td>4</td>\n",
       "      <td>1</td>\n",
       "      <td>2</td>\n",
       "      <td>0</td>\n",
       "      <td>0</td>\n",
       "      <td>0</td>\n",
       "      <td>1</td>\n",
       "    </tr>\n",
       "    <tr>\n",
       "      <th>6</th>\n",
       "      <td>0</td>\n",
       "      <td>7</td>\n",
       "      <td>2</td>\n",
       "      <td>1</td>\n",
       "      <td>5</td>\n",
       "      <td>6</td>\n",
       "      <td>19</td>\n",
       "      <td>1</td>\n",
       "      <td>2</td>\n",
       "      <td>0</td>\n",
       "      <td>...</td>\n",
       "      <td>1</td>\n",
       "      <td>0</td>\n",
       "      <td>1</td>\n",
       "      <td>1</td>\n",
       "      <td>0</td>\n",
       "      <td>0</td>\n",
       "      <td>1</td>\n",
       "      <td>0</td>\n",
       "      <td>1</td>\n",
       "      <td>0</td>\n",
       "    </tr>\n",
       "    <tr>\n",
       "      <th>7</th>\n",
       "      <td>2</td>\n",
       "      <td>5</td>\n",
       "      <td>1</td>\n",
       "      <td>0</td>\n",
       "      <td>4</td>\n",
       "      <td>1</td>\n",
       "      <td>3</td>\n",
       "      <td>3</td>\n",
       "      <td>0</td>\n",
       "      <td>0</td>\n",
       "      <td>...</td>\n",
       "      <td>0</td>\n",
       "      <td>1</td>\n",
       "      <td>1</td>\n",
       "      <td>0</td>\n",
       "      <td>0</td>\n",
       "      <td>1</td>\n",
       "      <td>3</td>\n",
       "      <td>0</td>\n",
       "      <td>3</td>\n",
       "      <td>1</td>\n",
       "    </tr>\n",
       "    <tr>\n",
       "      <th>8</th>\n",
       "      <td>2</td>\n",
       "      <td>0</td>\n",
       "      <td>0</td>\n",
       "      <td>5</td>\n",
       "      <td>1</td>\n",
       "      <td>2</td>\n",
       "      <td>0</td>\n",
       "      <td>1</td>\n",
       "      <td>6</td>\n",
       "      <td>0</td>\n",
       "      <td>...</td>\n",
       "      <td>1</td>\n",
       "      <td>0</td>\n",
       "      <td>2</td>\n",
       "      <td>1</td>\n",
       "      <td>2</td>\n",
       "      <td>0</td>\n",
       "      <td>0</td>\n",
       "      <td>4</td>\n",
       "      <td>3</td>\n",
       "      <td>1</td>\n",
       "    </tr>\n",
       "    <tr>\n",
       "      <th>9</th>\n",
       "      <td>3</td>\n",
       "      <td>0</td>\n",
       "      <td>1</td>\n",
       "      <td>0</td>\n",
       "      <td>1</td>\n",
       "      <td>0</td>\n",
       "      <td>1</td>\n",
       "      <td>0</td>\n",
       "      <td>0</td>\n",
       "      <td>17</td>\n",
       "      <td>...</td>\n",
       "      <td>4</td>\n",
       "      <td>0</td>\n",
       "      <td>1</td>\n",
       "      <td>1</td>\n",
       "      <td>0</td>\n",
       "      <td>2</td>\n",
       "      <td>0</td>\n",
       "      <td>0</td>\n",
       "      <td>1</td>\n",
       "      <td>0</td>\n",
       "    </tr>\n",
       "    <tr>\n",
       "      <th>10</th>\n",
       "      <td>3</td>\n",
       "      <td>0</td>\n",
       "      <td>0</td>\n",
       "      <td>0</td>\n",
       "      <td>0</td>\n",
       "      <td>0</td>\n",
       "      <td>0</td>\n",
       "      <td>0</td>\n",
       "      <td>0</td>\n",
       "      <td>2</td>\n",
       "      <td>...</td>\n",
       "      <td>1</td>\n",
       "      <td>2</td>\n",
       "      <td>3</td>\n",
       "      <td>0</td>\n",
       "      <td>2</td>\n",
       "      <td>3</td>\n",
       "      <td>0</td>\n",
       "      <td>1</td>\n",
       "      <td>0</td>\n",
       "      <td>0</td>\n",
       "    </tr>\n",
       "    <tr>\n",
       "      <th>11</th>\n",
       "      <td>0</td>\n",
       "      <td>10</td>\n",
       "      <td>0</td>\n",
       "      <td>5</td>\n",
       "      <td>2</td>\n",
       "      <td>5</td>\n",
       "      <td>4</td>\n",
       "      <td>0</td>\n",
       "      <td>0</td>\n",
       "      <td>0</td>\n",
       "      <td>...</td>\n",
       "      <td>0</td>\n",
       "      <td>0</td>\n",
       "      <td>0</td>\n",
       "      <td>1</td>\n",
       "      <td>0</td>\n",
       "      <td>0</td>\n",
       "      <td>2</td>\n",
       "      <td>0</td>\n",
       "      <td>0</td>\n",
       "      <td>1</td>\n",
       "    </tr>\n",
       "    <tr>\n",
       "      <th>12</th>\n",
       "      <td>0</td>\n",
       "      <td>0</td>\n",
       "      <td>0</td>\n",
       "      <td>3</td>\n",
       "      <td>0</td>\n",
       "      <td>1</td>\n",
       "      <td>0</td>\n",
       "      <td>0</td>\n",
       "      <td>0</td>\n",
       "      <td>1</td>\n",
       "      <td>...</td>\n",
       "      <td>0</td>\n",
       "      <td>3</td>\n",
       "      <td>0</td>\n",
       "      <td>0</td>\n",
       "      <td>1</td>\n",
       "      <td>4</td>\n",
       "      <td>0</td>\n",
       "      <td>0</td>\n",
       "      <td>2</td>\n",
       "      <td>0</td>\n",
       "    </tr>\n",
       "    <tr>\n",
       "      <th>13</th>\n",
       "      <td>6</td>\n",
       "      <td>0</td>\n",
       "      <td>0</td>\n",
       "      <td>0</td>\n",
       "      <td>0</td>\n",
       "      <td>0</td>\n",
       "      <td>0</td>\n",
       "      <td>0</td>\n",
       "      <td>0</td>\n",
       "      <td>5</td>\n",
       "      <td>...</td>\n",
       "      <td>3</td>\n",
       "      <td>1</td>\n",
       "      <td>0</td>\n",
       "      <td>0</td>\n",
       "      <td>4</td>\n",
       "      <td>2</td>\n",
       "      <td>1</td>\n",
       "      <td>0</td>\n",
       "      <td>0</td>\n",
       "      <td>1</td>\n",
       "    </tr>\n",
       "    <tr>\n",
       "      <th>14</th>\n",
       "      <td>0</td>\n",
       "      <td>0</td>\n",
       "      <td>1</td>\n",
       "      <td>6</td>\n",
       "      <td>0</td>\n",
       "      <td>1</td>\n",
       "      <td>1</td>\n",
       "      <td>1</td>\n",
       "      <td>3</td>\n",
       "      <td>3</td>\n",
       "      <td>...</td>\n",
       "      <td>4</td>\n",
       "      <td>1</td>\n",
       "      <td>0</td>\n",
       "      <td>0</td>\n",
       "      <td>0</td>\n",
       "      <td>0</td>\n",
       "      <td>0</td>\n",
       "      <td>3</td>\n",
       "      <td>2</td>\n",
       "      <td>0</td>\n",
       "    </tr>\n",
       "    <tr>\n",
       "      <th>15</th>\n",
       "      <td>7</td>\n",
       "      <td>0</td>\n",
       "      <td>0</td>\n",
       "      <td>0</td>\n",
       "      <td>0</td>\n",
       "      <td>1</td>\n",
       "      <td>0</td>\n",
       "      <td>0</td>\n",
       "      <td>0</td>\n",
       "      <td>2</td>\n",
       "      <td>...</td>\n",
       "      <td>5</td>\n",
       "      <td>1</td>\n",
       "      <td>0</td>\n",
       "      <td>2</td>\n",
       "      <td>3</td>\n",
       "      <td>1</td>\n",
       "      <td>0</td>\n",
       "      <td>0</td>\n",
       "      <td>0</td>\n",
       "      <td>0</td>\n",
       "    </tr>\n",
       "    <tr>\n",
       "      <th>16</th>\n",
       "      <td>0</td>\n",
       "      <td>0</td>\n",
       "      <td>1</td>\n",
       "      <td>0</td>\n",
       "      <td>2</td>\n",
       "      <td>0</td>\n",
       "      <td>1</td>\n",
       "      <td>3</td>\n",
       "      <td>0</td>\n",
       "      <td>4</td>\n",
       "      <td>...</td>\n",
       "      <td>0</td>\n",
       "      <td>0</td>\n",
       "      <td>0</td>\n",
       "      <td>1</td>\n",
       "      <td>1</td>\n",
       "      <td>3</td>\n",
       "      <td>0</td>\n",
       "      <td>1</td>\n",
       "      <td>0</td>\n",
       "      <td>0</td>\n",
       "    </tr>\n",
       "    <tr>\n",
       "      <th>17</th>\n",
       "      <td>7</td>\n",
       "      <td>1</td>\n",
       "      <td>3</td>\n",
       "      <td>1</td>\n",
       "      <td>1</td>\n",
       "      <td>3</td>\n",
       "      <td>4</td>\n",
       "      <td>1</td>\n",
       "      <td>0</td>\n",
       "      <td>0</td>\n",
       "      <td>...</td>\n",
       "      <td>1</td>\n",
       "      <td>0</td>\n",
       "      <td>2</td>\n",
       "      <td>2</td>\n",
       "      <td>1</td>\n",
       "      <td>1</td>\n",
       "      <td>1</td>\n",
       "      <td>0</td>\n",
       "      <td>5</td>\n",
       "      <td>2</td>\n",
       "    </tr>\n",
       "    <tr>\n",
       "      <th>18</th>\n",
       "      <td>3</td>\n",
       "      <td>1</td>\n",
       "      <td>1</td>\n",
       "      <td>0</td>\n",
       "      <td>4</td>\n",
       "      <td>2</td>\n",
       "      <td>9</td>\n",
       "      <td>2</td>\n",
       "      <td>2</td>\n",
       "      <td>0</td>\n",
       "      <td>...</td>\n",
       "      <td>2</td>\n",
       "      <td>0</td>\n",
       "      <td>1</td>\n",
       "      <td>0</td>\n",
       "      <td>1</td>\n",
       "      <td>1</td>\n",
       "      <td>2</td>\n",
       "      <td>1</td>\n",
       "      <td>3</td>\n",
       "      <td>1</td>\n",
       "    </tr>\n",
       "    <tr>\n",
       "      <th>19</th>\n",
       "      <td>2</td>\n",
       "      <td>0</td>\n",
       "      <td>3</td>\n",
       "      <td>3</td>\n",
       "      <td>0</td>\n",
       "      <td>3</td>\n",
       "      <td>0</td>\n",
       "      <td>0</td>\n",
       "      <td>1</td>\n",
       "      <td>1</td>\n",
       "      <td>...</td>\n",
       "      <td>0</td>\n",
       "      <td>2</td>\n",
       "      <td>4</td>\n",
       "      <td>0</td>\n",
       "      <td>0</td>\n",
       "      <td>2</td>\n",
       "      <td>2</td>\n",
       "      <td>0</td>\n",
       "      <td>2</td>\n",
       "      <td>0</td>\n",
       "    </tr>\n",
       "    <tr>\n",
       "      <th>20</th>\n",
       "      <td>7</td>\n",
       "      <td>2</td>\n",
       "      <td>2</td>\n",
       "      <td>8</td>\n",
       "      <td>3</td>\n",
       "      <td>1</td>\n",
       "      <td>1</td>\n",
       "      <td>1</td>\n",
       "      <td>2</td>\n",
       "      <td>0</td>\n",
       "      <td>...</td>\n",
       "      <td>4</td>\n",
       "      <td>0</td>\n",
       "      <td>0</td>\n",
       "      <td>1</td>\n",
       "      <td>3</td>\n",
       "      <td>0</td>\n",
       "      <td>0</td>\n",
       "      <td>3</td>\n",
       "      <td>4</td>\n",
       "      <td>0</td>\n",
       "    </tr>\n",
       "    <tr>\n",
       "      <th>21</th>\n",
       "      <td>7</td>\n",
       "      <td>2</td>\n",
       "      <td>0</td>\n",
       "      <td>3</td>\n",
       "      <td>4</td>\n",
       "      <td>2</td>\n",
       "      <td>6</td>\n",
       "      <td>0</td>\n",
       "      <td>1</td>\n",
       "      <td>0</td>\n",
       "      <td>...</td>\n",
       "      <td>1</td>\n",
       "      <td>0</td>\n",
       "      <td>1</td>\n",
       "      <td>0</td>\n",
       "      <td>3</td>\n",
       "      <td>0</td>\n",
       "      <td>0</td>\n",
       "      <td>0</td>\n",
       "      <td>0</td>\n",
       "      <td>0</td>\n",
       "    </tr>\n",
       "    <tr>\n",
       "      <th>22</th>\n",
       "      <td>1</td>\n",
       "      <td>6</td>\n",
       "      <td>0</td>\n",
       "      <td>3</td>\n",
       "      <td>2</td>\n",
       "      <td>4</td>\n",
       "      <td>4</td>\n",
       "      <td>1</td>\n",
       "      <td>0</td>\n",
       "      <td>0</td>\n",
       "      <td>...</td>\n",
       "      <td>2</td>\n",
       "      <td>0</td>\n",
       "      <td>2</td>\n",
       "      <td>0</td>\n",
       "      <td>0</td>\n",
       "      <td>0</td>\n",
       "      <td>1</td>\n",
       "      <td>0</td>\n",
       "      <td>0</td>\n",
       "      <td>0</td>\n",
       "    </tr>\n",
       "    <tr>\n",
       "      <th>23</th>\n",
       "      <td>5</td>\n",
       "      <td>2</td>\n",
       "      <td>1</td>\n",
       "      <td>11</td>\n",
       "      <td>5</td>\n",
       "      <td>2</td>\n",
       "      <td>4</td>\n",
       "      <td>1</td>\n",
       "      <td>6</td>\n",
       "      <td>0</td>\n",
       "      <td>...</td>\n",
       "      <td>3</td>\n",
       "      <td>0</td>\n",
       "      <td>0</td>\n",
       "      <td>1</td>\n",
       "      <td>4</td>\n",
       "      <td>0</td>\n",
       "      <td>1</td>\n",
       "      <td>0</td>\n",
       "      <td>1</td>\n",
       "      <td>0</td>\n",
       "    </tr>\n",
       "    <tr>\n",
       "      <th>24</th>\n",
       "      <td>6</td>\n",
       "      <td>0</td>\n",
       "      <td>1</td>\n",
       "      <td>1</td>\n",
       "      <td>2</td>\n",
       "      <td>0</td>\n",
       "      <td>0</td>\n",
       "      <td>0</td>\n",
       "      <td>1</td>\n",
       "      <td>1</td>\n",
       "      <td>...</td>\n",
       "      <td>10</td>\n",
       "      <td>1</td>\n",
       "      <td>0</td>\n",
       "      <td>0</td>\n",
       "      <td>3</td>\n",
       "      <td>0</td>\n",
       "      <td>2</td>\n",
       "      <td>1</td>\n",
       "      <td>2</td>\n",
       "      <td>0</td>\n",
       "    </tr>\n",
       "    <tr>\n",
       "      <th>25</th>\n",
       "      <td>3</td>\n",
       "      <td>2</td>\n",
       "      <td>1</td>\n",
       "      <td>0</td>\n",
       "      <td>0</td>\n",
       "      <td>3</td>\n",
       "      <td>0</td>\n",
       "      <td>0</td>\n",
       "      <td>3</td>\n",
       "      <td>0</td>\n",
       "      <td>...</td>\n",
       "      <td>3</td>\n",
       "      <td>1</td>\n",
       "      <td>4</td>\n",
       "      <td>0</td>\n",
       "      <td>0</td>\n",
       "      <td>5</td>\n",
       "      <td>2</td>\n",
       "      <td>1</td>\n",
       "      <td>0</td>\n",
       "      <td>0</td>\n",
       "    </tr>\n",
       "    <tr>\n",
       "      <th>26</th>\n",
       "      <td>2</td>\n",
       "      <td>2</td>\n",
       "      <td>1</td>\n",
       "      <td>1</td>\n",
       "      <td>0</td>\n",
       "      <td>2</td>\n",
       "      <td>0</td>\n",
       "      <td>0</td>\n",
       "      <td>2</td>\n",
       "      <td>1</td>\n",
       "      <td>...</td>\n",
       "      <td>0</td>\n",
       "      <td>0</td>\n",
       "      <td>0</td>\n",
       "      <td>0</td>\n",
       "      <td>0</td>\n",
       "      <td>1</td>\n",
       "      <td>0</td>\n",
       "      <td>0</td>\n",
       "      <td>1</td>\n",
       "      <td>0</td>\n",
       "    </tr>\n",
       "    <tr>\n",
       "      <th>27</th>\n",
       "      <td>9</td>\n",
       "      <td>0</td>\n",
       "      <td>2</td>\n",
       "      <td>0</td>\n",
       "      <td>0</td>\n",
       "      <td>0</td>\n",
       "      <td>1</td>\n",
       "      <td>0</td>\n",
       "      <td>1</td>\n",
       "      <td>2</td>\n",
       "      <td>...</td>\n",
       "      <td>2</td>\n",
       "      <td>0</td>\n",
       "      <td>0</td>\n",
       "      <td>0</td>\n",
       "      <td>1</td>\n",
       "      <td>2</td>\n",
       "      <td>0</td>\n",
       "      <td>0</td>\n",
       "      <td>2</td>\n",
       "      <td>0</td>\n",
       "    </tr>\n",
       "    <tr>\n",
       "      <th>28</th>\n",
       "      <td>7</td>\n",
       "      <td>2</td>\n",
       "      <td>1</td>\n",
       "      <td>1</td>\n",
       "      <td>2</td>\n",
       "      <td>3</td>\n",
       "      <td>3</td>\n",
       "      <td>2</td>\n",
       "      <td>2</td>\n",
       "      <td>1</td>\n",
       "      <td>...</td>\n",
       "      <td>2</td>\n",
       "      <td>1</td>\n",
       "      <td>0</td>\n",
       "      <td>1</td>\n",
       "      <td>5</td>\n",
       "      <td>2</td>\n",
       "      <td>1</td>\n",
       "      <td>0</td>\n",
       "      <td>5</td>\n",
       "      <td>2</td>\n",
       "    </tr>\n",
       "    <tr>\n",
       "      <th>29</th>\n",
       "      <td>0</td>\n",
       "      <td>1</td>\n",
       "      <td>2</td>\n",
       "      <td>0</td>\n",
       "      <td>2</td>\n",
       "      <td>3</td>\n",
       "      <td>2</td>\n",
       "      <td>6</td>\n",
       "      <td>1</td>\n",
       "      <td>2</td>\n",
       "      <td>...</td>\n",
       "      <td>0</td>\n",
       "      <td>0</td>\n",
       "      <td>3</td>\n",
       "      <td>1</td>\n",
       "      <td>0</td>\n",
       "      <td>0</td>\n",
       "      <td>0</td>\n",
       "      <td>1</td>\n",
       "      <td>2</td>\n",
       "      <td>2</td>\n",
       "    </tr>\n",
       "    <tr>\n",
       "      <th>30</th>\n",
       "      <td>0</td>\n",
       "      <td>1</td>\n",
       "      <td>0</td>\n",
       "      <td>2</td>\n",
       "      <td>0</td>\n",
       "      <td>1</td>\n",
       "      <td>1</td>\n",
       "      <td>0</td>\n",
       "      <td>0</td>\n",
       "      <td>4</td>\n",
       "      <td>...</td>\n",
       "      <td>1</td>\n",
       "      <td>1</td>\n",
       "      <td>2</td>\n",
       "      <td>0</td>\n",
       "      <td>1</td>\n",
       "      <td>2</td>\n",
       "      <td>0</td>\n",
       "      <td>2</td>\n",
       "      <td>1</td>\n",
       "      <td>0</td>\n",
       "    </tr>\n",
       "    <tr>\n",
       "      <th>31</th>\n",
       "      <td>5</td>\n",
       "      <td>6</td>\n",
       "      <td>0</td>\n",
       "      <td>0</td>\n",
       "      <td>5</td>\n",
       "      <td>1</td>\n",
       "      <td>14</td>\n",
       "      <td>1</td>\n",
       "      <td>2</td>\n",
       "      <td>2</td>\n",
       "      <td>...</td>\n",
       "      <td>1</td>\n",
       "      <td>2</td>\n",
       "      <td>3</td>\n",
       "      <td>2</td>\n",
       "      <td>0</td>\n",
       "      <td>0</td>\n",
       "      <td>2</td>\n",
       "      <td>3</td>\n",
       "      <td>4</td>\n",
       "      <td>0</td>\n",
       "    </tr>\n",
       "    <tr>\n",
       "      <th>32</th>\n",
       "      <td>1</td>\n",
       "      <td>0</td>\n",
       "      <td>0</td>\n",
       "      <td>0</td>\n",
       "      <td>2</td>\n",
       "      <td>3</td>\n",
       "      <td>5</td>\n",
       "      <td>0</td>\n",
       "      <td>1</td>\n",
       "      <td>3</td>\n",
       "      <td>...</td>\n",
       "      <td>1</td>\n",
       "      <td>0</td>\n",
       "      <td>3</td>\n",
       "      <td>0</td>\n",
       "      <td>1</td>\n",
       "      <td>0</td>\n",
       "      <td>2</td>\n",
       "      <td>1</td>\n",
       "      <td>9</td>\n",
       "      <td>0</td>\n",
       "    </tr>\n",
       "    <tr>\n",
       "      <th>33</th>\n",
       "      <td>4</td>\n",
       "      <td>0</td>\n",
       "      <td>2</td>\n",
       "      <td>0</td>\n",
       "      <td>2</td>\n",
       "      <td>0</td>\n",
       "      <td>1</td>\n",
       "      <td>1</td>\n",
       "      <td>3</td>\n",
       "      <td>2</td>\n",
       "      <td>...</td>\n",
       "      <td>3</td>\n",
       "      <td>2</td>\n",
       "      <td>2</td>\n",
       "      <td>0</td>\n",
       "      <td>0</td>\n",
       "      <td>3</td>\n",
       "      <td>4</td>\n",
       "      <td>0</td>\n",
       "      <td>1</td>\n",
       "      <td>1</td>\n",
       "    </tr>\n",
       "    <tr>\n",
       "      <th>34</th>\n",
       "      <td>3</td>\n",
       "      <td>4</td>\n",
       "      <td>1</td>\n",
       "      <td>2</td>\n",
       "      <td>5</td>\n",
       "      <td>2</td>\n",
       "      <td>1</td>\n",
       "      <td>2</td>\n",
       "      <td>3</td>\n",
       "      <td>2</td>\n",
       "      <td>...</td>\n",
       "      <td>7</td>\n",
       "      <td>3</td>\n",
       "      <td>2</td>\n",
       "      <td>2</td>\n",
       "      <td>3</td>\n",
       "      <td>2</td>\n",
       "      <td>1</td>\n",
       "      <td>2</td>\n",
       "      <td>2</td>\n",
       "      <td>2</td>\n",
       "    </tr>\n",
       "    <tr>\n",
       "      <th>35</th>\n",
       "      <td>0</td>\n",
       "      <td>2</td>\n",
       "      <td>2</td>\n",
       "      <td>1</td>\n",
       "      <td>4</td>\n",
       "      <td>0</td>\n",
       "      <td>2</td>\n",
       "      <td>2</td>\n",
       "      <td>2</td>\n",
       "      <td>2</td>\n",
       "      <td>...</td>\n",
       "      <td>0</td>\n",
       "      <td>2</td>\n",
       "      <td>2</td>\n",
       "      <td>0</td>\n",
       "      <td>1</td>\n",
       "      <td>1</td>\n",
       "      <td>0</td>\n",
       "      <td>1</td>\n",
       "      <td>7</td>\n",
       "      <td>0</td>\n",
       "    </tr>\n",
       "    <tr>\n",
       "      <th>36</th>\n",
       "      <td>2</td>\n",
       "      <td>2</td>\n",
       "      <td>0</td>\n",
       "      <td>2</td>\n",
       "      <td>1</td>\n",
       "      <td>0</td>\n",
       "      <td>2</td>\n",
       "      <td>1</td>\n",
       "      <td>1</td>\n",
       "      <td>2</td>\n",
       "      <td>...</td>\n",
       "      <td>1</td>\n",
       "      <td>0</td>\n",
       "      <td>1</td>\n",
       "      <td>0</td>\n",
       "      <td>0</td>\n",
       "      <td>2</td>\n",
       "      <td>0</td>\n",
       "      <td>3</td>\n",
       "      <td>0</td>\n",
       "      <td>0</td>\n",
       "    </tr>\n",
       "    <tr>\n",
       "      <th>37</th>\n",
       "      <td>0</td>\n",
       "      <td>2</td>\n",
       "      <td>3</td>\n",
       "      <td>1</td>\n",
       "      <td>3</td>\n",
       "      <td>4</td>\n",
       "      <td>2</td>\n",
       "      <td>0</td>\n",
       "      <td>2</td>\n",
       "      <td>1</td>\n",
       "      <td>...</td>\n",
       "      <td>0</td>\n",
       "      <td>1</td>\n",
       "      <td>0</td>\n",
       "      <td>0</td>\n",
       "      <td>1</td>\n",
       "      <td>1</td>\n",
       "      <td>2</td>\n",
       "      <td>1</td>\n",
       "      <td>3</td>\n",
       "      <td>5</td>\n",
       "    </tr>\n",
       "    <tr>\n",
       "      <th>38</th>\n",
       "      <td>0</td>\n",
       "      <td>0</td>\n",
       "      <td>4</td>\n",
       "      <td>3</td>\n",
       "      <td>4</td>\n",
       "      <td>6</td>\n",
       "      <td>3</td>\n",
       "      <td>3</td>\n",
       "      <td>2</td>\n",
       "      <td>4</td>\n",
       "      <td>...</td>\n",
       "      <td>1</td>\n",
       "      <td>2</td>\n",
       "      <td>1</td>\n",
       "      <td>0</td>\n",
       "      <td>1</td>\n",
       "      <td>1</td>\n",
       "      <td>4</td>\n",
       "      <td>0</td>\n",
       "      <td>0</td>\n",
       "      <td>1</td>\n",
       "    </tr>\n",
       "    <tr>\n",
       "      <th>39</th>\n",
       "      <td>8</td>\n",
       "      <td>0</td>\n",
       "      <td>3</td>\n",
       "      <td>0</td>\n",
       "      <td>1</td>\n",
       "      <td>1</td>\n",
       "      <td>3</td>\n",
       "      <td>0</td>\n",
       "      <td>0</td>\n",
       "      <td>2</td>\n",
       "      <td>...</td>\n",
       "      <td>1</td>\n",
       "      <td>2</td>\n",
       "      <td>1</td>\n",
       "      <td>1</td>\n",
       "      <td>6</td>\n",
       "      <td>4</td>\n",
       "      <td>0</td>\n",
       "      <td>0</td>\n",
       "      <td>0</td>\n",
       "      <td>0</td>\n",
       "    </tr>\n",
       "    <tr>\n",
       "      <th>40</th>\n",
       "      <td>2</td>\n",
       "      <td>2</td>\n",
       "      <td>0</td>\n",
       "      <td>1</td>\n",
       "      <td>0</td>\n",
       "      <td>3</td>\n",
       "      <td>0</td>\n",
       "      <td>0</td>\n",
       "      <td>0</td>\n",
       "      <td>4</td>\n",
       "      <td>...</td>\n",
       "      <td>28</td>\n",
       "      <td>0</td>\n",
       "      <td>0</td>\n",
       "      <td>1</td>\n",
       "      <td>1</td>\n",
       "      <td>0</td>\n",
       "      <td>0</td>\n",
       "      <td>0</td>\n",
       "      <td>3</td>\n",
       "      <td>0</td>\n",
       "    </tr>\n",
       "    <tr>\n",
       "      <th>41</th>\n",
       "      <td>1</td>\n",
       "      <td>0</td>\n",
       "      <td>1</td>\n",
       "      <td>3</td>\n",
       "      <td>1</td>\n",
       "      <td>1</td>\n",
       "      <td>1</td>\n",
       "      <td>0</td>\n",
       "      <td>2</td>\n",
       "      <td>5</td>\n",
       "      <td>...</td>\n",
       "      <td>1</td>\n",
       "      <td>2</td>\n",
       "      <td>2</td>\n",
       "      <td>0</td>\n",
       "      <td>0</td>\n",
       "      <td>2</td>\n",
       "      <td>0</td>\n",
       "      <td>1</td>\n",
       "      <td>2</td>\n",
       "      <td>4</td>\n",
       "    </tr>\n",
       "    <tr>\n",
       "      <th>42</th>\n",
       "      <td>5</td>\n",
       "      <td>2</td>\n",
       "      <td>1</td>\n",
       "      <td>1</td>\n",
       "      <td>1</td>\n",
       "      <td>3</td>\n",
       "      <td>6</td>\n",
       "      <td>2</td>\n",
       "      <td>1</td>\n",
       "      <td>0</td>\n",
       "      <td>...</td>\n",
       "      <td>1</td>\n",
       "      <td>3</td>\n",
       "      <td>7</td>\n",
       "      <td>0</td>\n",
       "      <td>0</td>\n",
       "      <td>3</td>\n",
       "      <td>1</td>\n",
       "      <td>0</td>\n",
       "      <td>4</td>\n",
       "      <td>0</td>\n",
       "    </tr>\n",
       "    <tr>\n",
       "      <th>43</th>\n",
       "      <td>5</td>\n",
       "      <td>2</td>\n",
       "      <td>0</td>\n",
       "      <td>2</td>\n",
       "      <td>1</td>\n",
       "      <td>2</td>\n",
       "      <td>1</td>\n",
       "      <td>1</td>\n",
       "      <td>0</td>\n",
       "      <td>3</td>\n",
       "      <td>...</td>\n",
       "      <td>1</td>\n",
       "      <td>1</td>\n",
       "      <td>0</td>\n",
       "      <td>5</td>\n",
       "      <td>1</td>\n",
       "      <td>5</td>\n",
       "      <td>0</td>\n",
       "      <td>0</td>\n",
       "      <td>0</td>\n",
       "      <td>0</td>\n",
       "    </tr>\n",
       "    <tr>\n",
       "      <th>44</th>\n",
       "      <td>9</td>\n",
       "      <td>0</td>\n",
       "      <td>1</td>\n",
       "      <td>0</td>\n",
       "      <td>0</td>\n",
       "      <td>0</td>\n",
       "      <td>1</td>\n",
       "      <td>0</td>\n",
       "      <td>0</td>\n",
       "      <td>0</td>\n",
       "      <td>...</td>\n",
       "      <td>2</td>\n",
       "      <td>0</td>\n",
       "      <td>0</td>\n",
       "      <td>2</td>\n",
       "      <td>31</td>\n",
       "      <td>1</td>\n",
       "      <td>1</td>\n",
       "      <td>0</td>\n",
       "      <td>1</td>\n",
       "      <td>1</td>\n",
       "    </tr>\n",
       "    <tr>\n",
       "      <th>45</th>\n",
       "      <td>1</td>\n",
       "      <td>1</td>\n",
       "      <td>0</td>\n",
       "      <td>2</td>\n",
       "      <td>0</td>\n",
       "      <td>1</td>\n",
       "      <td>0</td>\n",
       "      <td>0</td>\n",
       "      <td>0</td>\n",
       "      <td>2</td>\n",
       "      <td>...</td>\n",
       "      <td>1</td>\n",
       "      <td>1</td>\n",
       "      <td>1</td>\n",
       "      <td>1</td>\n",
       "      <td>1</td>\n",
       "      <td>23</td>\n",
       "      <td>0</td>\n",
       "      <td>0</td>\n",
       "      <td>0</td>\n",
       "      <td>0</td>\n",
       "    </tr>\n",
       "    <tr>\n",
       "      <th>46</th>\n",
       "      <td>1</td>\n",
       "      <td>4</td>\n",
       "      <td>4</td>\n",
       "      <td>5</td>\n",
       "      <td>1</td>\n",
       "      <td>2</td>\n",
       "      <td>1</td>\n",
       "      <td>0</td>\n",
       "      <td>6</td>\n",
       "      <td>0</td>\n",
       "      <td>...</td>\n",
       "      <td>0</td>\n",
       "      <td>0</td>\n",
       "      <td>0</td>\n",
       "      <td>0</td>\n",
       "      <td>3</td>\n",
       "      <td>1</td>\n",
       "      <td>6</td>\n",
       "      <td>1</td>\n",
       "      <td>4</td>\n",
       "      <td>1</td>\n",
       "    </tr>\n",
       "    <tr>\n",
       "      <th>47</th>\n",
       "      <td>1</td>\n",
       "      <td>2</td>\n",
       "      <td>0</td>\n",
       "      <td>0</td>\n",
       "      <td>0</td>\n",
       "      <td>1</td>\n",
       "      <td>2</td>\n",
       "      <td>0</td>\n",
       "      <td>0</td>\n",
       "      <td>1</td>\n",
       "      <td>...</td>\n",
       "      <td>2</td>\n",
       "      <td>1</td>\n",
       "      <td>1</td>\n",
       "      <td>1</td>\n",
       "      <td>0</td>\n",
       "      <td>0</td>\n",
       "      <td>0</td>\n",
       "      <td>3</td>\n",
       "      <td>1</td>\n",
       "      <td>0</td>\n",
       "    </tr>\n",
       "    <tr>\n",
       "      <th>48</th>\n",
       "      <td>0</td>\n",
       "      <td>1</td>\n",
       "      <td>3</td>\n",
       "      <td>2</td>\n",
       "      <td>3</td>\n",
       "      <td>2</td>\n",
       "      <td>2</td>\n",
       "      <td>0</td>\n",
       "      <td>1</td>\n",
       "      <td>1</td>\n",
       "      <td>...</td>\n",
       "      <td>5</td>\n",
       "      <td>2</td>\n",
       "      <td>0</td>\n",
       "      <td>0</td>\n",
       "      <td>1</td>\n",
       "      <td>1</td>\n",
       "      <td>0</td>\n",
       "      <td>0</td>\n",
       "      <td>50</td>\n",
       "      <td>5</td>\n",
       "    </tr>\n",
       "    <tr>\n",
       "      <th>49</th>\n",
       "      <td>5</td>\n",
       "      <td>0</td>\n",
       "      <td>4</td>\n",
       "      <td>3</td>\n",
       "      <td>4</td>\n",
       "      <td>1</td>\n",
       "      <td>0</td>\n",
       "      <td>0</td>\n",
       "      <td>1</td>\n",
       "      <td>0</td>\n",
       "      <td>...</td>\n",
       "      <td>1</td>\n",
       "      <td>0</td>\n",
       "      <td>1</td>\n",
       "      <td>0</td>\n",
       "      <td>1</td>\n",
       "      <td>0</td>\n",
       "      <td>1</td>\n",
       "      <td>1</td>\n",
       "      <td>4</td>\n",
       "      <td>12</td>\n",
       "    </tr>\n",
       "  </tbody>\n",
       "</table>\n",
       "<p>50 rows × 50 columns</p>\n",
       "</div>"
      ],
      "text/plain": [
       "Predicted  0   1   2   3   4   5   6   7   8   9  ...  40  41  42  43  44  45  \\\n",
       "Actual                                            ...                           \n",
       "0          37   0   1   0   2   4   2   0   1   1 ...   1   1   3   2   3   2   \n",
       "1           0  24   2   2   5   3   7   1   1   0 ...   0   0   3   0   0   1   \n",
       "2           4   2   5   2   1   4   0   2   1   0 ...   0   2   2   1   3   5   \n",
       "3           0   4   1  29   9   4   0   0   2   0 ...   1   0   0   0   0   1   \n",
       "4           0  11   1   5  22   6   7   1   0   0 ...   0   1   0   0   0   1   \n",
       "5           2   5   1   1   1  18   4   0   0   2 ...   0   0   4   4   1   2   \n",
       "6           0   7   2   1   5   6  19   1   2   0 ...   1   0   1   1   0   0   \n",
       "7           2   5   1   0   4   1   3   3   0   0 ...   0   1   1   0   0   1   \n",
       "8           2   0   0   5   1   2   0   1   6   0 ...   1   0   2   1   2   0   \n",
       "9           3   0   1   0   1   0   1   0   0  17 ...   4   0   1   1   0   2   \n",
       "10          3   0   0   0   0   0   0   0   0   2 ...   1   2   3   0   2   3   \n",
       "11          0  10   0   5   2   5   4   0   0   0 ...   0   0   0   1   0   0   \n",
       "12          0   0   0   3   0   1   0   0   0   1 ...   0   3   0   0   1   4   \n",
       "13          6   0   0   0   0   0   0   0   0   5 ...   3   1   0   0   4   2   \n",
       "14          0   0   1   6   0   1   1   1   3   3 ...   4   1   0   0   0   0   \n",
       "15          7   0   0   0   0   1   0   0   0   2 ...   5   1   0   2   3   1   \n",
       "16          0   0   1   0   2   0   1   3   0   4 ...   0   0   0   1   1   3   \n",
       "17          7   1   3   1   1   3   4   1   0   0 ...   1   0   2   2   1   1   \n",
       "18          3   1   1   0   4   2   9   2   2   0 ...   2   0   1   0   1   1   \n",
       "19          2   0   3   3   0   3   0   0   1   1 ...   0   2   4   0   0   2   \n",
       "20          7   2   2   8   3   1   1   1   2   0 ...   4   0   0   1   3   0   \n",
       "21          7   2   0   3   4   2   6   0   1   0 ...   1   0   1   0   3   0   \n",
       "22          1   6   0   3   2   4   4   1   0   0 ...   2   0   2   0   0   0   \n",
       "23          5   2   1  11   5   2   4   1   6   0 ...   3   0   0   1   4   0   \n",
       "24          6   0   1   1   2   0   0   0   1   1 ...  10   1   0   0   3   0   \n",
       "25          3   2   1   0   0   3   0   0   3   0 ...   3   1   4   0   0   5   \n",
       "26          2   2   1   1   0   2   0   0   2   1 ...   0   0   0   0   0   1   \n",
       "27          9   0   2   0   0   0   1   0   1   2 ...   2   0   0   0   1   2   \n",
       "28          7   2   1   1   2   3   3   2   2   1 ...   2   1   0   1   5   2   \n",
       "29          0   1   2   0   2   3   2   6   1   2 ...   0   0   3   1   0   0   \n",
       "30          0   1   0   2   0   1   1   0   0   4 ...   1   1   2   0   1   2   \n",
       "31          5   6   0   0   5   1  14   1   2   2 ...   1   2   3   2   0   0   \n",
       "32          1   0   0   0   2   3   5   0   1   3 ...   1   0   3   0   1   0   \n",
       "33          4   0   2   0   2   0   1   1   3   2 ...   3   2   2   0   0   3   \n",
       "34          3   4   1   2   5   2   1   2   3   2 ...   7   3   2   2   3   2   \n",
       "35          0   2   2   1   4   0   2   2   2   2 ...   0   2   2   0   1   1   \n",
       "36          2   2   0   2   1   0   2   1   1   2 ...   1   0   1   0   0   2   \n",
       "37          0   2   3   1   3   4   2   0   2   1 ...   0   1   0   0   1   1   \n",
       "38          0   0   4   3   4   6   3   3   2   4 ...   1   2   1   0   1   1   \n",
       "39          8   0   3   0   1   1   3   0   0   2 ...   1   2   1   1   6   4   \n",
       "40          2   2   0   1   0   3   0   0   0   4 ...  28   0   0   1   1   0   \n",
       "41          1   0   1   3   1   1   1   0   2   5 ...   1   2   2   0   0   2   \n",
       "42          5   2   1   1   1   3   6   2   1   0 ...   1   3   7   0   0   3   \n",
       "43          5   2   0   2   1   2   1   1   0   3 ...   1   1   0   5   1   5   \n",
       "44          9   0   1   0   0   0   1   0   0   0 ...   2   0   0   2  31   1   \n",
       "45          1   1   0   2   0   1   0   0   0   2 ...   1   1   1   1   1  23   \n",
       "46          1   4   4   5   1   2   1   0   6   0 ...   0   0   0   0   3   1   \n",
       "47          1   2   0   0   0   1   2   0   0   1 ...   2   1   1   1   0   0   \n",
       "48          0   1   3   2   3   2   2   0   1   1 ...   5   2   0   0   1   1   \n",
       "49          5   0   4   3   4   1   0   0   1   0 ...   1   0   1   0   1   0   \n",
       "\n",
       "Predicted  46  47  48  49  \n",
       "Actual                     \n",
       "0           0   0   0   0  \n",
       "1           1   0   1   1  \n",
       "2           1   0   1   0  \n",
       "3           1   2   2   0  \n",
       "4           0   0   3   2  \n",
       "5           0   0   0   1  \n",
       "6           1   0   1   0  \n",
       "7           3   0   3   1  \n",
       "8           0   4   3   1  \n",
       "9           0   0   1   0  \n",
       "10          0   1   0   0  \n",
       "11          2   0   0   1  \n",
       "12          0   0   2   0  \n",
       "13          1   0   0   1  \n",
       "14          0   3   2   0  \n",
       "15          0   0   0   0  \n",
       "16          0   1   0   0  \n",
       "17          1   0   5   2  \n",
       "18          2   1   3   1  \n",
       "19          2   0   2   0  \n",
       "20          0   3   4   0  \n",
       "21          0   0   0   0  \n",
       "22          1   0   0   0  \n",
       "23          1   0   1   0  \n",
       "24          2   1   2   0  \n",
       "25          2   1   0   0  \n",
       "26          0   0   1   0  \n",
       "27          0   0   2   0  \n",
       "28          1   0   5   2  \n",
       "29          0   1   2   2  \n",
       "30          0   2   1   0  \n",
       "31          2   3   4   0  \n",
       "32          2   1   9   0  \n",
       "33          4   0   1   1  \n",
       "34          1   2   2   2  \n",
       "35          0   1   7   0  \n",
       "36          0   3   0   0  \n",
       "37          2   1   3   5  \n",
       "38          4   0   0   1  \n",
       "39          0   0   0   0  \n",
       "40          0   0   3   0  \n",
       "41          0   1   2   4  \n",
       "42          1   0   4   0  \n",
       "43          0   0   0   0  \n",
       "44          1   0   1   1  \n",
       "45          0   0   0   0  \n",
       "46          6   1   4   1  \n",
       "47          0   3   1   0  \n",
       "48          0   0  50   5  \n",
       "49          1   1   4  12  \n",
       "\n",
       "[50 rows x 50 columns]"
      ]
     },
     "execution_count": 31,
     "metadata": {},
     "output_type": "execute_result"
    }
   ],
   "source": [
    "pd.crosstab(y_test, clf.predict(X_std1), rownames=['Actual'], colnames=['Predicted'])"
   ]
  }
 ],
 "metadata": {
  "anaconda-cloud": {},
  "kernelspec": {
   "display_name": "Python [default]",
   "language": "python",
   "name": "python3"
  },
  "language_info": {
   "codemirror_mode": {
    "name": "ipython",
    "version": 3
   },
   "file_extension": ".py",
   "mimetype": "text/x-python",
   "name": "python",
   "nbconvert_exporter": "python",
   "pygments_lexer": "ipython3",
   "version": "3.5.2"
  }
 },
 "nbformat": 4,
 "nbformat_minor": 1
}

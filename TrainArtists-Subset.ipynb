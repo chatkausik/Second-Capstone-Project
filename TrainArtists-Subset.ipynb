{
 "cells": [
  {
   "cell_type": "markdown",
   "metadata": {},
   "source": [
    "# Pull all data and fit on it - classify artists"
   ]
  },
  {
   "cell_type": "code",
   "execution_count": 1,
   "metadata": {
    "collapsed": false
   },
   "outputs": [
    {
     "name": "stdout",
     "output_type": "stream",
     "text": [
      "<class 'torch.LongTensor'>\n",
      "<class 'torch.FloatTensor'>\n"
     ]
    }
   ],
   "source": [
    "import torch\n",
    "import torch.nn as nn\n",
    "import torch.optim as optim\n",
    "from torch.autograd import Variable\n",
    "from torch.utils.data import DataLoader\n",
    "from torch.utils.data import sampler\n",
    "from torch.utils.data import TensorDataset\n",
    "\n",
    "import torchvision.datasets as dset\n",
    "import torchvision.models as models\n",
    "import torchvision.transforms as T\n",
    "\n",
    "import numpy as np\n",
    "import timeit\n",
    "\n",
    "dtype = torch.FloatTensor\n",
    "ytype = torch.LongTensor\n",
    "if (torch.cuda.is_available()):\n",
    "   dtype = torch.cuda.FloatTensor\n",
    "print(ytype)\n",
    "print(dtype)\n",
    "print_every = 20\n",
    "\n",
    "    \n",
    "class Flatten(nn.Module):\n",
    "    def forward(self, x):\n",
    "        N, C, H, W = x.size() # read in N, C, H, W\n",
    "        return x.view(N, -1)  # \"flatten\" the C * H * W values into a single vector per image\n",
    "    \n",
    "def reset(m):\n",
    "    if hasattr(m, 'reset_parameters'):\n",
    "        m.reset_parameters()\n",
    "\n",
    "def train(model, loss_fn, optimizer, loader_train, loader_val, num_epochs = 1):\n",
    "    # train_loss_hist = []\n",
    "    train_acc_hist = []\n",
    "    # val_loss_hist = []\n",
    "    val_acc_hist = []\n",
    "    for epoch in range(num_epochs):\n",
    "        print('Starting epoch %d / %d' % (epoch + 1, num_epochs))\n",
    "        model.train()\n",
    "        for t, (x, y) in enumerate(loader_train):\n",
    "            x_var = Variable(x.type(dtype))\n",
    "            y_var = Variable(y.type(dtype).long())\n",
    "            scores = model(x_var)\n",
    "            loss = loss_fn(scores, y_var)\n",
    "            if (t + 1) % print_every == 0:\n",
    "                print('t = %d, loss = %.4f' % (t + 1, loss.data[0]))\n",
    "            optimizer.zero_grad()\n",
    "            loss.backward()\n",
    "            optimizer.step()\n",
    "        # record training and validation accuracy at the end of each epoch\n",
    "        train_acc_hist.append(check_accuracy(model, loader_train))\n",
    "        val_acc_hist.append(check_accuracy(model, loader_val))\n",
    "        \n",
    "    return [train_acc_hist, val_acc_hist]\n",
    "    \n",
    "def check_accuracy(model, loader):\n",
    "    print('Checking accuracy!')\n",
    "    num_correct = 0\n",
    "    num_samples = 0\n",
    "    model.eval() # Put the model in test mode (the opposite of model.train(), essentially)\n",
    "    for x, y in loader:\n",
    "        y = y.view(-1, 1).type(ytype)\n",
    "        x_var = Variable(x.type(dtype), volatile=True)\n",
    "        scores = model(x_var)\n",
    "        _, preds = scores.data.cpu().max(1)\n",
    "        \n",
    "        num_correct += (preds == y).sum()\n",
    "        num_samples += preds.size(0)\n",
    "    acc = float(num_correct) / num_samples\n",
    "    print('Got %d / %d correct (%.2f)' % (num_correct, num_samples, 100 * acc))\n",
    "    return 100*acc"
   ]
  },
  {
   "cell_type": "markdown",
   "metadata": {},
   "source": [
    "# Prep the data"
   ]
  },
  {
   "cell_type": "code",
   "execution_count": 2,
   "metadata": {
    "collapsed": true
   },
   "outputs": [],
   "source": [
    "## ALL MAIN ARGUMENTS FOR THE SCRIPT ##\n",
    "\n",
    "dat_folder = 'Data/'\n",
    "img_folder = 'Data/train_1/'\n",
    "#img_folder = '../data/images/'\n",
    "\n",
    "filter_subset = True # True if we want to filter to just train _1\n",
    "\n",
    "## THIS VERSION OF SCRIPT HAS EQUAL NUMBER OF PAINTINGS PER ARTIST\n",
    "num_train = 40\n",
    "num_val = 10\n",
    "num_samples = num_train + num_val # threshold to include an artist\n",
    "b_size = 5 # batch size for the data loaders\n"
   ]
  },
  {
   "cell_type": "code",
   "execution_count": 3,
   "metadata": {
    "collapsed": false
   },
   "outputs": [
    {
     "data": {
      "text/html": [
       "<div>\n",
       "<style>\n",
       "    .dataframe thead tr:only-child th {\n",
       "        text-align: right;\n",
       "    }\n",
       "\n",
       "    .dataframe thead th {\n",
       "        text-align: left;\n",
       "    }\n",
       "\n",
       "    .dataframe tbody tr th {\n",
       "        vertical-align: top;\n",
       "    }\n",
       "</style>\n",
       "<table border=\"1\" class=\"dataframe\">\n",
       "  <thead>\n",
       "    <tr style=\"text-align: right;\">\n",
       "      <th></th>\n",
       "      <th>artist</th>\n",
       "      <th>date</th>\n",
       "      <th>genre</th>\n",
       "      <th>pixelsx</th>\n",
       "      <th>pixelsy</th>\n",
       "      <th>size_bytes</th>\n",
       "      <th>source</th>\n",
       "      <th>style</th>\n",
       "      <th>title</th>\n",
       "      <th>artist_group</th>\n",
       "      <th>in_train</th>\n",
       "      <th>new_filename</th>\n",
       "    </tr>\n",
       "  </thead>\n",
       "  <tbody>\n",
       "    <tr>\n",
       "      <th>0</th>\n",
       "      <td>Barnett Newman</td>\n",
       "      <td>1955.0</td>\n",
       "      <td>abstract</td>\n",
       "      <td>15530.0</td>\n",
       "      <td>6911.0</td>\n",
       "      <td>9201912.0</td>\n",
       "      <td>wikiart</td>\n",
       "      <td>Color Field Painting</td>\n",
       "      <td>Uriel</td>\n",
       "      <td>train_only</td>\n",
       "      <td>True</td>\n",
       "      <td>102257.jpg</td>\n",
       "    </tr>\n",
       "    <tr>\n",
       "      <th>23</th>\n",
       "      <td>Jan van Eyck</td>\n",
       "      <td>1439</td>\n",
       "      <td>religious painting</td>\n",
       "      <td>4000.0</td>\n",
       "      <td>8311.0</td>\n",
       "      <td>28783029.0</td>\n",
       "      <td>wikiart</td>\n",
       "      <td>Northern Renaissance</td>\n",
       "      <td>The Madonna in the Church</td>\n",
       "      <td>train_and_test</td>\n",
       "      <td>True</td>\n",
       "      <td>16876.jpg</td>\n",
       "    </tr>\n",
       "    <tr>\n",
       "      <th>42</th>\n",
       "      <td>Thomas Gainsborough</td>\n",
       "      <td>1783</td>\n",
       "      <td>landscape</td>\n",
       "      <td>5712.0</td>\n",
       "      <td>4704.0</td>\n",
       "      <td>11791905.0</td>\n",
       "      <td>wikiart</td>\n",
       "      <td>Rococo</td>\n",
       "      <td>The Mall in St. James's Park</td>\n",
       "      <td>train_and_test</td>\n",
       "      <td>True</td>\n",
       "      <td>1164.jpg</td>\n",
       "    </tr>\n",
       "    <tr>\n",
       "      <th>46</th>\n",
       "      <td>Lyonel Feininger</td>\n",
       "      <td>1926.0</td>\n",
       "      <td>cityscape</td>\n",
       "      <td>4472.0</td>\n",
       "      <td>5894.0</td>\n",
       "      <td>7382419.0</td>\n",
       "      <td>wikiart</td>\n",
       "      <td>Cubism</td>\n",
       "      <td>Gelmeroda IX</td>\n",
       "      <td>train_only</td>\n",
       "      <td>True</td>\n",
       "      <td>19385.jpg</td>\n",
       "    </tr>\n",
       "    <tr>\n",
       "      <th>74</th>\n",
       "      <td>Henri de Toulouse-Lautrec</td>\n",
       "      <td>1895</td>\n",
       "      <td>genre painting</td>\n",
       "      <td>5833.0</td>\n",
       "      <td>3985.0</td>\n",
       "      <td>3389831.0</td>\n",
       "      <td>wikiart</td>\n",
       "      <td>Post-Impressionism</td>\n",
       "      <td>Abandonment (The pair)</td>\n",
       "      <td>train_and_test</td>\n",
       "      <td>True</td>\n",
       "      <td>17354.jpg</td>\n",
       "    </tr>\n",
       "  </tbody>\n",
       "</table>\n",
       "</div>"
      ],
      "text/plain": [
       "                       artist    date               genre  pixelsx  pixelsy  \\\n",
       "0              Barnett Newman  1955.0            abstract  15530.0   6911.0   \n",
       "23               Jan van Eyck    1439  religious painting   4000.0   8311.0   \n",
       "42        Thomas Gainsborough    1783           landscape   5712.0   4704.0   \n",
       "46           Lyonel Feininger  1926.0           cityscape   4472.0   5894.0   \n",
       "74  Henri de Toulouse-Lautrec    1895      genre painting   5833.0   3985.0   \n",
       "\n",
       "    size_bytes   source                 style                         title  \\\n",
       "0    9201912.0  wikiart  Color Field Painting                         Uriel   \n",
       "23  28783029.0  wikiart  Northern Renaissance     The Madonna in the Church   \n",
       "42  11791905.0  wikiart                Rococo  The Mall in St. James's Park   \n",
       "46   7382419.0  wikiart                Cubism                 Gelmeroda IX    \n",
       "74   3389831.0  wikiart    Post-Impressionism        Abandonment (The pair)   \n",
       "\n",
       "      artist_group  in_train new_filename  \n",
       "0       train_only      True   102257.jpg  \n",
       "23  train_and_test      True    16876.jpg  \n",
       "42  train_and_test      True     1164.jpg  \n",
       "46      train_only      True    19385.jpg  \n",
       "74  train_and_test      True    17354.jpg  "
      ]
     },
     "execution_count": 3,
     "metadata": {},
     "output_type": "execute_result"
    }
   ],
   "source": [
    "import numpy as np\n",
    "import pandas as pd\n",
    "import matplotlib.pyplot as plt\n",
    "%matplotlib inline\n",
    "from PIL import Image, ImageFilter\n",
    "import random\n",
    "import cv2\n",
    "import os, glob\n",
    "\n",
    "t = pd.read_csv(dat_folder + 'all_data_info.csv')\n",
    "\n",
    "# filter down (if needed)\n",
    "if (filter_subset):\n",
    "    t = t[t['new_filename'].str.startswith('1')]\n",
    "    t = t[t['in_train']]\n",
    "\n",
    "t.head()\n",
    "# print(t.shape)"
   ]
  },
  {
   "cell_type": "code",
   "execution_count": 4,
   "metadata": {
    "collapsed": false,
    "scrolled": true
   },
   "outputs": [],
   "source": [
    "x = list(t['artist'].value_counts())"
   ]
  },
  {
   "cell_type": "code",
   "execution_count": 5,
   "metadata": {
    "collapsed": false
   },
   "outputs": [
    {
     "name": "stdout",
     "output_type": "stream",
     "text": [
      "24 artists being classified\n",
      "(960, 13)\n",
      "(240, 13)\n",
      "Done\n"
     ]
    }
   ],
   "source": [
    "# list of all artists to include\n",
    "temp = t['artist'].value_counts()\n",
    "threshold = num_samples\n",
    "artists = temp[temp >= threshold].index.tolist()\n",
    "num_artists = len(artists)\n",
    "\n",
    "print(str(len(artists)) + ' artists being classified')\n",
    "\n",
    "# pull train and val data for just those artists\n",
    "train_dfs = []\n",
    "val_dfs = []\n",
    "\n",
    "for a in artists:\n",
    "    df = t[t['artist'].str.startswith(a, na=False)].sample(n=num_samples)\n",
    "    t_df = df.sample(n=num_train)\n",
    "    v_df = df.loc[~df.index.isin(t_df.index)]\n",
    "    \n",
    "    train_dfs.append(t_df)\n",
    "    val_dfs.append(v_df)\n",
    "\n",
    "train_df = pd.concat(train_dfs)\n",
    "val_df = pd.concat(val_dfs)\n",
    "\n",
    "# modify data to have numbers for artists and style, and create appropriate mappings\n",
    "unique_artists = train_df['artist'].str.upper().unique()\n",
    "unique_styles = train_df['style'].str.upper().unique()\n",
    "\n",
    "artist_l = {val: idx for (idx, val) in enumerate(unique_artists)}\n",
    "# style_l = {val: idx for (idx, val) in enumerate(unique_styles)}\n",
    "\n",
    "artist_labels = {idx: val for (idx, val) in enumerate(unique_artists)}\n",
    "# style_labels = {idx: val for (idx, val) in enumerate(unique_styles)}\n",
    "\n",
    "train_df['artist_label'] = np.array([artist_l[a] for a in train_df['artist'].str.upper().values])\n",
    "# train_df['style_label'] = np.array([style_l[a] for a in train_df['style'].str.upper().values])\n",
    "\n",
    "val_df['artist_label'] = np.array([artist_l[a] for a in val_df['artist'].str.upper().values])\n",
    "# val_df['style_label'] = np.array([style_l[a] for a in val_df['style'].str.upper().values])\n",
    "\n",
    "print(train_df.shape)\n",
    "print(val_df.shape)\n",
    "print(\"Done\")"
   ]
  },
  {
   "cell_type": "code",
   "execution_count": 6,
   "metadata": {
    "collapsed": false
   },
   "outputs": [
    {
     "name": "stdout",
     "output_type": "stream",
     "text": [
      "Done\n"
     ]
    }
   ],
   "source": [
    "train_tensors = []\n",
    "val_tensors = []\n",
    "\n",
    "# load in imags with cv2, then convert to matrices that work with pytorch\n",
    "train_transform = T.Compose([\n",
    "        T.ToPILImage(),\n",
    "        T.RandomSizedCrop(224),\n",
    "        T.RandomHorizontalFlip(),\n",
    "        T.ToTensor(),\n",
    "        T.Normalize([0.485, 0.456, 0.406], [0.229, 0.224, 0.225])\n",
    "    ])\n",
    "val_transform = T.Compose([\n",
    "        T.ToPILImage(),\n",
    "        T.Scale(256),\n",
    "        T.CenterCrop(224),\n",
    "        T.ToTensor(),\n",
    "        T.Normalize([0.485, 0.456, 0.406], [0.229, 0.224, 0.225])\n",
    "    ])\n",
    "\n",
    "for i in train_df['new_filename']:\n",
    "    img = cv2.imread(img_folder + i)\n",
    "    img_tensor = train_transform(img)\n",
    "    train_tensors.append(img_tensor)\n",
    "\n",
    "for i in val_df['new_filename']:\n",
    "    img = cv2.imread(img_folder + i)\n",
    "    img_tensor = val_transform(img)\n",
    "    val_tensors.append(img_tensor)\n",
    "    \n",
    "train_tensors = torch.stack(train_tensors)\n",
    "val_tensors = torch.stack(val_tensors)\n",
    "\n",
    "# create DataLoaders\n",
    "train_labels = torch.Tensor(train_df['artist_label'].values.astype(np.float32)).type(dtype)\n",
    "val_labels = torch.Tensor(val_df['artist_label'].values.astype(np.float32)).type(dtype)\n",
    "\n",
    "train_dset = TensorDataset(train_tensors, train_labels)\n",
    "loader_train = DataLoader(train_dset, batch_size=b_size, shuffle=True)\n",
    "    \n",
    "val_dset = TensorDataset(val_tensors, val_labels)\n",
    "loader_val = DataLoader(val_dset, batch_size=b_size, shuffle=True)\n",
    "\n",
    "print(\"Done\")"
   ]
  },
  {
   "cell_type": "code",
   "execution_count": 7,
   "metadata": {
    "collapsed": true
   },
   "outputs": [],
   "source": [
    "# Create a simple network to use as a baseline\n",
    "\n",
    "simple_model = nn.Sequential(\n",
    "    nn.Conv2d(3, 32, kernel_size=3, stride=2, padding=1), # -> 112\n",
    "    nn.ReLU(inplace=True),\n",
    "    nn.BatchNorm2d(32),\n",
    "    nn.MaxPool2d(2), # -> 56\n",
    "    nn.Conv2d(32, 32, kernel_size=3, stride=2, padding=1), # -> 28\n",
    "    nn.ReLU(inplace=True),\n",
    "    nn.BatchNorm2d(32),\n",
    "    nn.MaxPool2d(2), # -> 14\n",
    "    Flatten(),\n",
    "    nn.Linear(6272, 200),\n",
    "    nn.ReLU(inplace=True),\n",
    "    nn.Linear(200, num_artists),\n",
    ")\n",
    "\n",
    "simple_model.type(dtype)\n",
    "loss_fn = nn.CrossEntropyLoss().type(dtype)\n",
    "optimizer = optim.Adam(simple_model.parameters(), lr=1e-2)\n",
    "optimizer2 = optim.Adam(simple_model.parameters(), lr=1e-3)"
   ]
  },
  {
   "cell_type": "code",
   "execution_count": 8,
   "metadata": {
    "collapsed": false
   },
   "outputs": [
    {
     "data": {
      "text/plain": [
       "True"
      ]
     },
     "execution_count": 8,
     "metadata": {},
     "output_type": "execute_result"
    }
   ],
   "source": [
    "# Now we're going to feed a random batch into the model and make sure the output is the right size\n",
    "x = torch.randn(64, 3, 224, 224).type(dtype)\n",
    "x_var = Variable(x.type(dtype)) # Construct a PyTorch Variable out of your input data\n",
    "ans = simple_model(x_var)        # Feed it through the model! \n",
    "\n",
    "# Check to make sure what comes out of your model\n",
    "# is the right dimensionality... this should be True\n",
    "# if you've done everything correctly\n",
    "np.array_equal(np.array(ans.size()), np.array([64, num_artists]))"
   ]
  },
  {
   "cell_type": "code",
   "execution_count": 9,
   "metadata": {
    "collapsed": false,
    "scrolled": true
   },
   "outputs": [
    {
     "name": "stdout",
     "output_type": "stream",
     "text": [
      "Starting epoch 1 / 5\n",
      "t = 20, loss = 3.8204\n",
      "t = 40, loss = 3.2577\n",
      "t = 60, loss = 3.2348\n",
      "t = 80, loss = 3.8441\n",
      "t = 100, loss = 2.6704\n",
      "t = 120, loss = 3.4367\n",
      "t = 140, loss = 2.3455\n",
      "t = 160, loss = 3.2964\n",
      "t = 180, loss = 2.4350\n",
      "Checking accuracy!\n",
      "Got 371 / 960 correct (38.65)\n",
      "Checking accuracy!\n",
      "Got 64 / 240 correct (26.67)\n",
      "Starting epoch 2 / 5\n",
      "t = 20, loss = 2.4287\n",
      "t = 40, loss = 3.0929\n",
      "t = 60, loss = 3.0092\n",
      "t = 80, loss = 3.0900\n",
      "t = 100, loss = 2.5456\n",
      "t = 120, loss = 3.0957\n",
      "t = 140, loss = 3.7420\n",
      "t = 160, loss = 3.1332\n",
      "t = 180, loss = 2.6960\n",
      "Checking accuracy!\n",
      "Got 525 / 960 correct (54.69)\n",
      "Checking accuracy!\n",
      "Got 95 / 240 correct (39.58)\n",
      "Starting epoch 3 / 5\n",
      "t = 20, loss = 2.5934\n",
      "t = 40, loss = 1.9230\n",
      "t = 60, loss = 2.5639\n",
      "t = 80, loss = 2.5040\n",
      "t = 100, loss = 1.9878\n",
      "t = 120, loss = 1.8124\n",
      "t = 140, loss = 2.2429\n",
      "t = 160, loss = 2.8040\n",
      "t = 180, loss = 2.1125\n",
      "Checking accuracy!\n",
      "Got 687 / 960 correct (71.56)\n",
      "Checking accuracy!\n",
      "Got 97 / 240 correct (40.42)\n",
      "Starting epoch 4 / 5\n",
      "t = 20, loss = 1.3160\n",
      "t = 40, loss = 1.3339\n",
      "t = 60, loss = 1.4211\n",
      "t = 80, loss = 0.9797\n",
      "t = 100, loss = 1.9398\n",
      "t = 120, loss = 1.2359\n",
      "t = 140, loss = 1.0355\n",
      "t = 160, loss = 1.8778\n",
      "t = 180, loss = 1.8310\n",
      "Checking accuracy!\n",
      "Got 961 / 960 correct (100.10)\n",
      "Checking accuracy!\n",
      "Got 88 / 240 correct (36.67)\n",
      "Starting epoch 5 / 5\n",
      "t = 20, loss = 0.3504\n",
      "t = 40, loss = 1.0421\n",
      "t = 60, loss = 0.2344\n",
      "t = 80, loss = 0.2656\n",
      "t = 100, loss = 0.7281\n",
      "t = 120, loss = 0.7108\n",
      "t = 140, loss = 0.4451\n",
      "t = 160, loss = 0.8310\n",
      "t = 180, loss = 1.2497\n",
      "Checking accuracy!\n",
      "Got 1011 / 960 correct (105.31)\n",
      "Checking accuracy!\n",
      "Got 85 / 240 correct (35.42)\n"
     ]
    }
   ],
   "source": [
    "# apply my simple network to the dataset\n",
    "reset(simple_model)\n",
    "# train(simple_model, loss_fn, optimizer, loader_train, num_epochs = 5)\n",
    "train_acc_hist1, val_acc_hist1 = train(simple_model, loss_fn, optimizer2, loader_train, loader_val, num_epochs = 5)"
   ]
  },
  {
   "cell_type": "markdown",
   "metadata": {},
   "source": [
    "# Training accuracy over time chart - showing the overfit\n"
   ]
  },
  {
   "cell_type": "code",
   "execution_count": 10,
   "metadata": {
    "collapsed": false
   },
   "outputs": [
    {
     "name": "stdout",
     "output_type": "stream",
     "text": [
      "[38.645833333333336, 54.6875, 71.5625, 100.10416666666666, 105.31250000000001]\n",
      "[26.666666666666668, 39.58333333333333, 40.416666666666664, 36.666666666666664, 35.41666666666667]\n",
      "[1 2 3 4 5]\n"
     ]
    },
    {
     "data": {
      "image/png": "[encoded data removed]",
      "text/plain": [
       "<matplotlib.figure.Figure at 0x20fcbd12b38>"
      ]
     },
     "metadata": {},
     "output_type": "display_data"
    }
   ],
   "source": [
    "epochs = np.arange(len(train_acc_hist1)) + 1\n",
    "print(train_acc_hist1)\n",
    "print(val_acc_hist1)\n",
    "print(epochs)\n",
    "\n",
    "# Plot the points using matplotlib\n",
    "plt.plot(epochs, train_acc_hist1)\n",
    "plt.plot(epochs, val_acc_hist1)\n",
    "plt.xlabel('Epoch')\n",
    "plt.ylabel('Accuracy')\n",
    "plt.title('Accuracy over training')\n",
    "plt.legend(['Training', 'Validation'])\n",
    "\n",
    "# y ticks\n",
    "plt.gca().set_ylim(ymin=0, ymax=100)\n",
    "vals = plt.gca().get_yticks()\n",
    "plt.gca().set_yticklabels(['{:.0f}%'.format(x) for x in vals])\n",
    "\n",
    "# x ticks\n",
    "# vals = plt.gca().get_xticks()\n",
    "# plt.gca().set_xticklabels(['{:0.0f}'.format(x) for x in vals])\n",
    "\n",
    "plt.show()"
   ]
  },
  {
   "cell_type": "markdown",
   "metadata": {},
   "source": [
    "# ResNet-18 transfer learning"
   ]
  },
  {
   "cell_type": "code",
   "execution_count": 11,
   "metadata": {
    "collapsed": false
   },
   "outputs": [
    {
     "name": "stderr",
     "output_type": "stream",
     "text": [
      "Downloading: \"https://download.pytorch.org/models/resnet18-5c106cde.pth\" to C:\\Users\\Amrita/.torch\\models\\resnet18-5c106cde.pth\n",
      "100.0%\n"
     ]
    }
   ],
   "source": [
    "import torchvision \n",
    "\n",
    "# transfer learning on top of ResNet18 (only replacing final FC layer)\n",
    "model_conv = torchvision.models.resnet18(pretrained=True)\n",
    "for param in model_conv.parameters():\n",
    "    param.requires_grad = False\n",
    "\n",
    "# Parameters of newly constructed modules have requires_grad=True by default\n",
    "num_ftrs = model_conv.fc.in_features\n",
    "model_conv.fc = nn.Linear(num_ftrs, num_artists)\n",
    "\n",
    "if torch.cuda.is_available():\n",
    "    model_conv = model_conv.cuda()\n",
    "\n",
    "criterion = nn.CrossEntropyLoss()\n",
    "\n",
    "# Observe that only parameters of final layer are being optimized as\n",
    "# opoosed to before.\n",
    "optimizer_conv = optim.SGD(model_conv.fc.parameters(), lr=0.001, momentum=0.9)"
   ]
  },
  {
   "cell_type": "code",
   "execution_count": 12,
   "metadata": {
    "collapsed": false
   },
   "outputs": [
    {
     "name": "stdout",
     "output_type": "stream",
     "text": [
      "Starting epoch 1 / 5\n",
      "t = 20, loss = 3.3788\n",
      "t = 40, loss = 3.6143\n",
      "t = 60, loss = 2.9322\n",
      "t = 80, loss = 3.4567\n",
      "t = 100, loss = 3.2339\n",
      "t = 120, loss = 2.5338\n",
      "t = 140, loss = 2.9916\n",
      "t = 160, loss = 2.9502\n",
      "t = 180, loss = 3.1842\n",
      "Checking accuracy!\n",
      "Got 512 / 960 correct (53.33)\n",
      "Checking accuracy!\n",
      "Got 105 / 240 correct (43.75)\n",
      "Starting epoch 2 / 5\n",
      "t = 20, loss = 2.4213\n",
      "t = 40, loss = 2.9153\n",
      "t = 60, loss = 2.3264\n",
      "t = 80, loss = 2.2268\n",
      "t = 100, loss = 2.4027\n",
      "t = 120, loss = 2.3304\n",
      "t = 140, loss = 2.4180\n",
      "t = 160, loss = 2.4616\n",
      "t = 180, loss = 2.1980\n",
      "Checking accuracy!\n",
      "Got 538 / 960 correct (56.04)\n",
      "Checking accuracy!\n",
      "Got 99 / 240 correct (41.25)\n",
      "Starting epoch 3 / 5\n",
      "t = 20, loss = 2.5678\n",
      "t = 40, loss = 1.9677\n",
      "t = 60, loss = 0.9769\n",
      "t = 80, loss = 2.2053\n",
      "t = 100, loss = 2.8000\n",
      "t = 120, loss = 2.6706\n",
      "t = 140, loss = 2.3159\n",
      "t = 160, loss = 1.5168\n",
      "t = 180, loss = 1.6939\n",
      "Checking accuracy!\n",
      "Got 684 / 960 correct (71.25)\n",
      "Checking accuracy!\n",
      "Got 137 / 240 correct (57.08)\n",
      "Starting epoch 4 / 5\n",
      "t = 20, loss = 1.4724\n",
      "t = 40, loss = 2.6473\n",
      "t = 60, loss = 1.4951\n",
      "t = 80, loss = 2.2401\n",
      "t = 100, loss = 2.0112\n",
      "t = 120, loss = 2.3615\n",
      "t = 140, loss = 2.0016\n",
      "t = 160, loss = 1.6990\n",
      "t = 180, loss = 1.8911\n",
      "Checking accuracy!\n",
      "Got 766 / 960 correct (79.79)\n",
      "Checking accuracy!\n",
      "Got 139 / 240 correct (57.92)\n",
      "Starting epoch 5 / 5\n",
      "t = 20, loss = 2.1719\n",
      "t = 40, loss = 1.3398\n",
      "t = 60, loss = 1.6790\n",
      "t = 80, loss = 1.5718\n",
      "t = 100, loss = 1.8544\n",
      "t = 120, loss = 1.6893\n",
      "t = 140, loss = 1.8636\n",
      "t = 160, loss = 0.9324\n",
      "t = 180, loss = 2.6601\n",
      "Checking accuracy!\n",
      "Got 768 / 960 correct (80.00)\n",
      "Checking accuracy!\n",
      "Got 150 / 240 correct (62.50)\n"
     ]
    }
   ],
   "source": [
    "train_acc_hist, val_acc_hist = train(model_conv, loss_fn, optimizer_conv, loader_train, loader_val, num_epochs = 5)"
   ]
  },
  {
   "cell_type": "code",
   "execution_count": 13,
   "metadata": {
    "collapsed": false
   },
   "outputs": [
    {
     "name": "stdout",
     "output_type": "stream",
     "text": [
      "[53.333333333333336, 56.041666666666664, 71.25, 79.79166666666667, 80.0]\n",
      "[43.75, 41.25, 57.08333333333333, 57.91666666666667, 62.5]\n",
      "[1 2 3 4 5]\n"
     ]
    },
    {
     "data": {
      "image/png": "[encoded data removed]",
      "text/plain": [
       "<matplotlib.figure.Figure at 0x20fcb9817b8>"
      ]
     },
     "metadata": {},
     "output_type": "display_data"
    }
   ],
   "source": [
    "epochs = np.arange(len(train_acc_hist)) + 1\n",
    "print(train_acc_hist)\n",
    "print(val_acc_hist)\n",
    "print(epochs)\n",
    "\n",
    "# Plot the points using matplotlib\n",
    "plt.plot(epochs, train_acc_hist)\n",
    "plt.plot(epochs, val_acc_hist)\n",
    "plt.xlabel('Epoch')\n",
    "plt.ylabel('Accuracy')\n",
    "plt.title('Accuracy over training')\n",
    "plt.legend(['Training', 'Validation'])\n",
    "\n",
    "# y ticks\n",
    "plt.gca().set_ylim(ymin=0, ymax=100)\n",
    "vals = plt.gca().get_yticks()\n",
    "plt.gca().set_yticklabels(['{:.0f}%'.format(x) for x in vals])\n",
    "\n",
    "# x ticks\n",
    "# vals = plt.gca().get_xticks()\n",
    "# plt.gca().set_xticklabels(['{:0.0f}'.format(x) for x in vals])\n",
    "\n",
    "plt.show()"
   ]
  },
  {
   "cell_type": "code",
   "execution_count": null,
   "metadata": {
    "collapsed": true
   },
   "outputs": [],
   "source": []
  }
 ],
 "metadata": {
  "anaconda-cloud": {},
  "kernelspec": {
   "display_name": "Python [default]",
   "language": "python",
   "name": "python3"
  },
  "language_info": {
   "codemirror_mode": {
    "name": "ipython",
    "version": 3
   },
   "file_extension": ".py",
   "mimetype": "text/x-python",
   "name": "python",
   "nbconvert_exporter": "python",
   "pygments_lexer": "ipython3",
   "version": "3.5.2"
  }
 },
 "nbformat": 4,
 "nbformat_minor": 0
}

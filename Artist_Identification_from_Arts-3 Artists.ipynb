{
 "cells": [
  {
   "cell_type": "markdown",
   "metadata": {},
   "source": [
    "<div class=\"span5 alert alert-info\">\n",
    "<h3>Artist Identication from Arts</h3>\n",
    "<br/>\n",
    "<b>Introduction:</b> Artist identification of fine art paintings is a challenging problem primarily handled by art historians with extensive training and expertise. Artist identification is the task of identifying the artist ofa painting given no other information about it. This is an important requirement for cataloguing art, especially as art is increasingly digitized. One of the most comprehensive datasets, Wikiart, has around 150,000 artworks by 2,500 artists [30]. Artsy has a growing collection with the aim of making all art easily available and accessible online [1]. As these collections grow, it becomes increasingly important to be able to efficiently label and identify newly digitized art pieces. A reliable way to identify artists is not only useful for labeling art pieces but also for identifying forgeries, another important art historical problem.\n",
    "<br/>\n",
    "<b>Dataset Overview:</b> In order to train a CNN to identify artists, i first obtain a large dataset of art compiled by Kaggle that is based on the WikiArt dataset [13]. This dataset contains roughly 100,000 paintings by 2,300 artists spanning a variety of time periods and styles.The images vary widely in size and shape. Every image is labeled with its artist in a separate .csv file.\n",
    "</div>"
   ]
  },
  {
   "cell_type": "code",
   "execution_count": 1,
   "metadata": {
    "collapsed": false
   },
   "outputs": [],
   "source": [
    "#Importing all the libraries.\n",
    "import pickle\n",
    "import os\n",
    "from os import listdir\n",
    "from PIL import Image as PImage\n",
    "import numpy as np\n",
    "import pandas as pd\n",
    "import itertools\n",
    "import matplotlib.pyplot as plt\n",
    "%matplotlib inline\n",
    "import seaborn as sns\n",
    "from IPython.display import Image\n",
    "from sklearn import svm\n",
    "from scipy.misc import imresize\n",
    "import patoolib\n",
    "import os, sys, tarfile\n",
    "import cv2    #opencv for image/video manipulation"
   ]
  },
  {
   "cell_type": "code",
   "execution_count": 2,
   "metadata": {
    "collapsed": false
   },
   "outputs": [
    {
     "data": {
      "text/html": [
       "<div>\n",
       "<style>\n",
       "    .dataframe thead tr:only-child th {\n",
       "        text-align: right;\n",
       "    }\n",
       "\n",
       "    .dataframe thead th {\n",
       "        text-align: left;\n",
       "    }\n",
       "\n",
       "    .dataframe tbody tr th {\n",
       "        vertical-align: top;\n",
       "    }\n",
       "</style>\n",
       "<table border=\"1\" class=\"dataframe\">\n",
       "  <thead>\n",
       "    <tr style=\"text-align: right;\">\n",
       "      <th></th>\n",
       "      <th>artist</th>\n",
       "      <th>date</th>\n",
       "      <th>genre</th>\n",
       "      <th>pixelsx</th>\n",
       "      <th>pixelsy</th>\n",
       "      <th>size_bytes</th>\n",
       "      <th>source</th>\n",
       "      <th>style</th>\n",
       "      <th>title</th>\n",
       "      <th>artist_group</th>\n",
       "      <th>in_train</th>\n",
       "      <th>new_filename</th>\n",
       "    </tr>\n",
       "  </thead>\n",
       "  <tbody>\n",
       "    <tr>\n",
       "      <th>0</th>\n",
       "      <td>Barnett Newman</td>\n",
       "      <td>1955.0</td>\n",
       "      <td>abstract</td>\n",
       "      <td>15530.0</td>\n",
       "      <td>6911.0</td>\n",
       "      <td>9201912.0</td>\n",
       "      <td>wikiart</td>\n",
       "      <td>Color Field Painting</td>\n",
       "      <td>Uriel</td>\n",
       "      <td>train_only</td>\n",
       "      <td>True</td>\n",
       "      <td>102257.jpg</td>\n",
       "    </tr>\n",
       "    <tr>\n",
       "      <th>1</th>\n",
       "      <td>Barnett Newman</td>\n",
       "      <td>1950.0</td>\n",
       "      <td>abstract</td>\n",
       "      <td>14559.0</td>\n",
       "      <td>6866.0</td>\n",
       "      <td>8867532.0</td>\n",
       "      <td>wikiart</td>\n",
       "      <td>Color Field Painting</td>\n",
       "      <td>Vir Heroicus Sublimis</td>\n",
       "      <td>train_only</td>\n",
       "      <td>True</td>\n",
       "      <td>75232.jpg</td>\n",
       "    </tr>\n",
       "    <tr>\n",
       "      <th>2</th>\n",
       "      <td>kiri nichol</td>\n",
       "      <td>2013.0</td>\n",
       "      <td>NaN</td>\n",
       "      <td>9003.0</td>\n",
       "      <td>9004.0</td>\n",
       "      <td>1756681.0</td>\n",
       "      <td>NaN</td>\n",
       "      <td>Neoplasticism</td>\n",
       "      <td>NaN</td>\n",
       "      <td>test_only</td>\n",
       "      <td>False</td>\n",
       "      <td>32145.jpg</td>\n",
       "    </tr>\n",
       "    <tr>\n",
       "      <th>3</th>\n",
       "      <td>kiri nichol</td>\n",
       "      <td>2013.0</td>\n",
       "      <td>NaN</td>\n",
       "      <td>9003.0</td>\n",
       "      <td>9004.0</td>\n",
       "      <td>1942046.0</td>\n",
       "      <td>NaN</td>\n",
       "      <td>Neoplasticism</td>\n",
       "      <td>NaN</td>\n",
       "      <td>test_only</td>\n",
       "      <td>False</td>\n",
       "      <td>20304.jpg</td>\n",
       "    </tr>\n",
       "    <tr>\n",
       "      <th>4</th>\n",
       "      <td>kiri nichol</td>\n",
       "      <td>2013.0</td>\n",
       "      <td>NaN</td>\n",
       "      <td>9003.0</td>\n",
       "      <td>9004.0</td>\n",
       "      <td>1526212.0</td>\n",
       "      <td>NaN</td>\n",
       "      <td>Neoplasticism</td>\n",
       "      <td>NaN</td>\n",
       "      <td>test_only</td>\n",
       "      <td>False</td>\n",
       "      <td>836.jpg</td>\n",
       "    </tr>\n",
       "  </tbody>\n",
       "</table>\n",
       "</div>"
      ],
      "text/plain": [
       "           artist    date     genre  pixelsx  pixelsy  size_bytes   source  \\\n",
       "0  Barnett Newman  1955.0  abstract  15530.0   6911.0   9201912.0  wikiart   \n",
       "1  Barnett Newman  1950.0  abstract  14559.0   6866.0   8867532.0  wikiart   \n",
       "2     kiri nichol  2013.0       NaN   9003.0   9004.0   1756681.0      NaN   \n",
       "3     kiri nichol  2013.0       NaN   9003.0   9004.0   1942046.0      NaN   \n",
       "4     kiri nichol  2013.0       NaN   9003.0   9004.0   1526212.0      NaN   \n",
       "\n",
       "                  style                  title artist_group  in_train  \\\n",
       "0  Color Field Painting                  Uriel   train_only      True   \n",
       "1  Color Field Painting  Vir Heroicus Sublimis   train_only      True   \n",
       "2         Neoplasticism                    NaN    test_only     False   \n",
       "3         Neoplasticism                    NaN    test_only     False   \n",
       "4         Neoplasticism                    NaN    test_only     False   \n",
       "\n",
       "  new_filename  \n",
       "0   102257.jpg  \n",
       "1    75232.jpg  \n",
       "2    32145.jpg  \n",
       "3    20304.jpg  \n",
       "4      836.jpg  "
      ]
     },
     "execution_count": 2,
     "metadata": {},
     "output_type": "execute_result"
    }
   ],
   "source": [
    "df = pd.read_csv('all_data_info.csv')\n",
    "df.head()"
   ]
  },
  {
   "cell_type": "code",
   "execution_count": 3,
   "metadata": {
    "collapsed": false
   },
   "outputs": [
    {
     "data": {
      "text/plain": [
       "(103250, 12)"
      ]
     },
     "execution_count": 3,
     "metadata": {},
     "output_type": "execute_result"
    }
   ],
   "source": [
    "df.shape"
   ]
  },
  {
   "cell_type": "markdown",
   "metadata": {},
   "source": [
    "<div class=\"span5 alert alert-info\">\n",
    "<b>Art selection:</b> The vast majority of artists in the full dataset have fewer than 50 paintings, so in order to ensure sufficient sample sizes for training networks we use only the artists with 300 or more paintings in the dataset. Therefore, our dataset consists of 300 paintings per artist from 50 artists (about 22,629 total paintings) from a wide variety of styles and time periods.\n",
    "</div>"
   ]
  },
  {
   "cell_type": "code",
   "execution_count": 3,
   "metadata": {
    "collapsed": true
   },
   "outputs": [],
   "source": [
    "#Selecting only top 3 artists and their paintings."
   ]
  },
  {
   "cell_type": "code",
   "execution_count": 4,
   "metadata": {
    "collapsed": true
   },
   "outputs": [],
   "source": [
    "df=df[(df['artist']=='Albrecht Durer')|(df['artist']=='Pierre-Auguste Renoir')|(df['artist']=='Gustave Dore')]"
   ]
  },
  {
   "cell_type": "code",
   "execution_count": 5,
   "metadata": {
    "collapsed": false
   },
   "outputs": [
    {
     "data": {
      "text/plain": [
       "(1500, 12)"
      ]
     },
     "execution_count": 5,
     "metadata": {},
     "output_type": "execute_result"
    }
   ],
   "source": [
    "df.shape"
   ]
  },
  {
   "cell_type": "code",
   "execution_count": 141,
   "metadata": {
    "collapsed": false
   },
   "outputs": [],
   "source": [
    "#Creating list of rest of artists those painting will be removed from my dataset.\n",
    "'''d2=pd.Series(df['artist'].value_counts().tail(2269).index)\n",
    "df_remove = pd.DataFrame(data=d2,columns=['artist'],index=range(len(d2)))\n",
    "df1 = df.merge(df_remove)'''"
   ]
  },
  {
   "cell_type": "code",
   "execution_count": 6,
   "metadata": {
    "collapsed": false
   },
   "outputs": [
    {
     "data": {
      "text/plain": [
       "Gustave Dore             500\n",
       "Albrecht Durer           500\n",
       "Pierre-Auguste Renoir    500\n",
       "Name: artist, dtype: int64"
      ]
     },
     "execution_count": 6,
     "metadata": {},
     "output_type": "execute_result"
    }
   ],
   "source": [
    "df['artist'].value_counts()"
   ]
  },
  {
   "cell_type": "code",
   "execution_count": 8,
   "metadata": {
    "collapsed": false
   },
   "outputs": [
    {
     "data": {
      "text/html": [
       "<div>\n",
       "<style>\n",
       "    .dataframe thead tr:only-child th {\n",
       "        text-align: right;\n",
       "    }\n",
       "\n",
       "    .dataframe thead th {\n",
       "        text-align: left;\n",
       "    }\n",
       "\n",
       "    .dataframe tbody tr th {\n",
       "        vertical-align: top;\n",
       "    }\n",
       "</style>\n",
       "<table border=\"1\" class=\"dataframe\">\n",
       "  <thead>\n",
       "    <tr style=\"text-align: right;\">\n",
       "      <th></th>\n",
       "      <th>new_filename</th>\n",
       "      <th>new_file_name</th>\n",
       "    </tr>\n",
       "  </thead>\n",
       "  <tbody>\n",
       "    <tr>\n",
       "      <th>29809</th>\n",
       "      <td>100006.jpg</td>\n",
       "      <td>Pierre-Auguste_Renoir_100006.jpg</td>\n",
       "    </tr>\n",
       "    <tr>\n",
       "      <th>32254</th>\n",
       "      <td>100046.jpg</td>\n",
       "      <td>Albrecht_Durer_100046.jpg</td>\n",
       "    </tr>\n",
       "    <tr>\n",
       "      <th>32450</th>\n",
       "      <td>100114.jpg</td>\n",
       "      <td>Gustave_Dore_100114.jpg</td>\n",
       "    </tr>\n",
       "    <tr>\n",
       "      <th>48924</th>\n",
       "      <td>100116.jpg</td>\n",
       "      <td>Gustave_Dore_100116.jpg</td>\n",
       "    </tr>\n",
       "    <tr>\n",
       "      <th>25779</th>\n",
       "      <td>100159.jpg</td>\n",
       "      <td>Pierre-Auguste_Renoir_100159.jpg</td>\n",
       "    </tr>\n",
       "  </tbody>\n",
       "</table>\n",
       "</div>"
      ],
      "text/plain": [
       "      new_filename                     new_file_name\n",
       "29809   100006.jpg  Pierre-Auguste_Renoir_100006.jpg\n",
       "32254   100046.jpg         Albrecht_Durer_100046.jpg\n",
       "32450   100114.jpg           Gustave_Dore_100114.jpg\n",
       "48924   100116.jpg           Gustave_Dore_100116.jpg\n",
       "25779   100159.jpg  Pierre-Auguste_Renoir_100159.jpg"
      ]
     },
     "execution_count": 8,
     "metadata": {},
     "output_type": "execute_result"
    }
   ],
   "source": [
    "df.head()"
   ]
  },
  {
   "cell_type": "code",
   "execution_count": 7,
   "metadata": {
    "collapsed": false
   },
   "outputs": [],
   "source": [
    "# This step will append corresponding artist name for each and very paintings \n",
    "df = df[['artist', 'new_filename']].sort_values(by='new_filename')\n",
    "#Creating new columns with updaed file names\n",
    "new_file = df['artist'].apply(lambda x: (x.replace(\" \", \"_\") + \"_\"))\n",
    "df['new_file'] = new_file\n",
    "df['new_file_name'] = df['new_file'] + df['new_filename']\n",
    "df = df[['new_filename', 'new_file_name']]"
   ]
  },
  {
   "cell_type": "markdown",
   "metadata": {},
   "source": [
    "<div class=\"span5 alert alert-info\">\n",
    "<b></b> So we have 1500 Paintings for 3 artists.\n",
    "</div>"
   ]
  },
  {
   "cell_type": "code",
   "execution_count": 7,
   "metadata": {
    "collapsed": false
   },
   "outputs": [],
   "source": [
    "#PImage.open('Selected_Data/images/William_Merritt_Chase_9803.jpg')\n",
    "image=cv2.imread('Selected_Data/images/Zinaida_Serebriakova_102964.jpg')\n",
    "#print(image.T)\n",
    "cv2.imshow('102964.jpg', image)\n",
    "#r,g,b = cv2.split(image)\n",
    "#res=cv2.resize(image,(250,250))\n",
    "#gray_image = cv2.cvtColor(res, cv2.COLOR_BGR2GRAY)\n",
    "#cv2.imshow('gray',gray_image)\n",
    "\n",
    "#The intensity of red is 166, green is 175 and blue is 204!"
   ]
  },
  {
   "cell_type": "code",
   "execution_count": 42,
   "metadata": {
    "collapsed": false
   },
   "outputs": [],
   "source": [
    "crop=image[200:500, 600:900]\n",
    "cv2.imshow('crop',crop)"
   ]
  },
  {
   "cell_type": "markdown",
   "metadata": {
    "collapsed": true
   },
   "source": [
    "# GLCM feature extraction to reduce dimentionality"
   ]
  },
  {
   "cell_type": "markdown",
   "metadata": {},
   "source": [
    "Grey Level Co-occurence matrix:  GLCM considers the spatial relationship of pixels and characterizes the\n",
    "texture of an image by calculating how often pairs of pixel with specific values\n",
    "and spatial relationships occur in an image. Once the GLCM is constructed,\n",
    "statistical measures are extracted from the matrix."
   ]
  },
  {
   "cell_type": "code",
   "execution_count": 16,
   "metadata": {
    "collapsed": false
   },
   "outputs": [],
   "source": [
    "import cv2\n",
    "import skimage.feature as sk\n",
    "import mahotas.features as feature"
   ]
  },
  {
   "cell_type": "code",
   "execution_count": 9,
   "metadata": {
    "collapsed": false
   },
   "outputs": [
    {
     "data": {
      "text/plain": [
       "array([[51, 50, 48, ..., 50, 53, 53],\n",
       "       [60, 54, 48, ..., 42, 44, 44],\n",
       "       [54, 45, 37, ..., 34, 35, 36],\n",
       "       ..., \n",
       "       [92, 85, 59, ..., 35, 34, 36],\n",
       "       [76, 83, 60, ..., 39, 36, 36],\n",
       "       [79, 74, 75, ..., 42, 35, 42]], dtype=uint8)"
      ]
     },
     "execution_count": 9,
     "metadata": {},
     "output_type": "execute_result"
    }
   ],
   "source": [
    "img=cv2.imread('Selected_Data/images/William_Merritt_Chase_9803.jpg',0)\n",
    "img"
   ]
  },
  {
   "cell_type": "code",
   "execution_count": 10,
   "metadata": {
    "collapsed": true
   },
   "outputs": [],
   "source": [
    "cv2.imshow('pic',img)"
   ]
  },
  {
   "cell_type": "code",
   "execution_count": 4,
   "metadata": {
    "collapsed": false
   },
   "outputs": [
    {
     "data": {
      "text/plain": [
       "(337, 256)"
      ]
     },
     "execution_count": 4,
     "metadata": {},
     "output_type": "execute_result"
    }
   ],
   "source": [
    "img.shape"
   ]
  },
  {
   "cell_type": "code",
   "execution_count": 5,
   "metadata": {
    "collapsed": false
   },
   "outputs": [],
   "source": [
    "glcm=sk.greycomatrix(image=img,distances=[1],angles=[0,np.pi/4,np.pi/2,3*np.pi/4])"
   ]
  },
  {
   "cell_type": "code",
   "execution_count": 6,
   "metadata": {
    "collapsed": false
   },
   "outputs": [
    {
     "data": {
      "text/plain": [
       "array([[[ 1,  5,  3,  0],\n",
       "        [ 0,  1,  0,  0],\n",
       "        [ 1,  0,  2,  0],\n",
       "        ..., \n",
       "        [ 0,  0,  0,  0],\n",
       "        [ 0,  0,  0,  0],\n",
       "        [ 0,  0,  0,  0]],\n",
       "\n",
       "       [[ 0,  0,  0,  0],\n",
       "        [ 0,  0,  0,  0],\n",
       "        [ 0,  0,  1,  0],\n",
       "        ..., \n",
       "        [ 0,  0,  0,  0],\n",
       "        [ 0,  0,  0,  0],\n",
       "        [ 0,  0,  0,  0]],\n",
       "\n",
       "       [[ 1,  0,  1,  1],\n",
       "        [ 0,  0,  0,  0],\n",
       "        [ 0,  0,  0,  1],\n",
       "        ..., \n",
       "        [ 0,  0,  0,  0],\n",
       "        [ 0,  0,  0,  0],\n",
       "        [ 0,  0,  0,  0]],\n",
       "\n",
       "       ..., \n",
       "       [[ 0,  0,  0,  0],\n",
       "        [ 0,  0,  0,  0],\n",
       "        [ 0,  0,  0,  0],\n",
       "        ..., \n",
       "        [ 2,  3,  5,  1],\n",
       "        [ 5,  3,  1,  4],\n",
       "        [18,  8,  7,  4]],\n",
       "\n",
       "       [[ 0,  0,  0,  0],\n",
       "        [ 0,  0,  0,  0],\n",
       "        [ 0,  0,  0,  0],\n",
       "        ..., \n",
       "        [ 3,  4,  1,  0],\n",
       "        [ 5,  2,  3,  5],\n",
       "        [10, 11, 10,  6]],\n",
       "\n",
       "       [[ 0,  0,  0,  0],\n",
       "        [ 0,  0,  0,  0],\n",
       "        [ 0,  0,  0,  0],\n",
       "        ..., \n",
       "        [ 7,  7,  7,  9],\n",
       "        [13,  8, 11,  4],\n",
       "        [40, 35, 31, 21]]], dtype=uint32)"
      ]
     },
     "execution_count": 6,
     "metadata": {},
     "output_type": "execute_result"
    }
   ],
   "source": [
    "glcm[:,:,0]"
   ]
  },
  {
   "cell_type": "code",
   "execution_count": 7,
   "metadata": {
    "collapsed": true
   },
   "outputs": [],
   "source": [
    "F14 = feature.haralick(img).mean(0)"
   ]
  },
  {
   "cell_type": "code",
   "execution_count": 8,
   "metadata": {
    "collapsed": false
   },
   "outputs": [
    {
     "data": {
      "text/plain": [
       "array([  4.86743530e-04,   3.40974930e+02,   9.62950718e-01,\n",
       "         4.60097897e+03,   1.61278887e-01,   1.54637113e+02,\n",
       "         1.80629409e+04,   8.17469155e+00,   1.25522912e+01,\n",
       "         2.08094516e-04,   4.80212330e+00,  -2.59818659e-01,\n",
       "         9.87685703e-01])"
      ]
     },
     "execution_count": 8,
     "metadata": {},
     "output_type": "execute_result"
    }
   ],
   "source": [
    "F14"
   ]
  },
  {
   "cell_type": "code",
   "execution_count": 11,
   "metadata": {
    "collapsed": true
   },
   "outputs": [],
   "source": [
    "def glcm(img):\n",
    "    F14 = feature.haralick(img).mean(0)\n",
    "    return F14\n",
    "    "
   ]
  },
  {
   "cell_type": "markdown",
   "metadata": {},
   "source": [
    "# Local Binary Pattern(LBP) Feature Extraction for reduction of dimentions"
   ]
  },
  {
   "cell_type": "markdown",
   "metadata": {},
   "source": [
    "\"To calculate the LBP value for a pixel in the grayscale image,\n",
    "we compare the central pixel value with the neighbouring pixel values. We\n",
    "can start from any neighbouring pixel and then we can transverse either in\n",
    "clockwise or anti-clockwise direction but we must use the same order for all\n",
    "the pixels. Since there are 8 neighbouring pixels – for each pixel, we will\n",
    "perform 8 comparisons. The results of the comparisons are stored in a 8-bit\n",
    "binary array.\n",
    "If the current pixel value is greater or equal to the neighbouring pixel\n",
    "value, the corresponding bit in the binary array is set to 1 else if the current\n",
    "pixel value is less than the neighbouring pixel value, the corresponding bit\n",
    "in the binary array is set to 0.\""
   ]
  },
  {
   "cell_type": "markdown",
   "metadata": {},
   "source": [
    "# Local Directional Pattern(LDP) Feature Extraction for dimention reduction"
   ]
  },
  {
   "cell_type": "markdown",
   "metadata": {},
   "source": [
    "The local binary pattern (LBP) operator depends on the change of the intensity around the pixel to encode the micro-level information of spot, edges and other local features in the image (Jabid et al., 2010a). The gradient is known to be more stable than the gray level; that is why some researches have replaced the intensity value at a pixel position with its gradient magnitude and calculated the LBP (Ferrer et al., 2010). The local directional pattern (LDP) was proposed by Jabid et al. (2010b) to resolve the problem with LBP, mentioned earlier. Since the LBP depends on the neighboring pixels’ intensity which makes it unstable. Instead, LDP considers the edge response value in different direction. LDP features are based on eight bit binary codes assigned to each pixel of an input image."
   ]
  },
  {
   "cell_type": "markdown",
   "metadata": {},
   "source": [
    "<div class=\"span5 alert alert-info\">\n",
    "<h3>Support Vector Machine(SVM) for Image Classification</h3>\n",
    "<br/>\n",
    "<b>Overview:</b> Our goal is to evaluate the accuracy of a performant classifier such as Support Vector Machine on\n",
    "object recognition and image classification.\n",
    "<b>Introduction:</b>The general framework to measure the accuracy of a SVM on a given database is composed of the\n",
    "following stages :\n",
    "\n",
    "<ol>\n",
    "<li> Preprocessing of the images.\n",
    "<li> Separation of the images in training and test sets\n",
    "<li> train the classifier over the training set and test on the test set\n",
    "<li> print the accuracy scores for both the training and the test sets\n",
    "</ol>\n",
    "\n",
    "</div>"
   ]
  },
  {
   "cell_type": "markdown",
   "metadata": {},
   "source": [
    "# Transforming the paintings "
   ]
  },
  {
   "cell_type": "markdown",
   "metadata": {},
   "source": [
    "So now we have 22629 images with labels. Next we need to put these images into a format suitable for analysis.\n",
    "\n",
    "One way to represent images in a numerical format is to convert each image to a series of RGB pixels. For example, if we had a 300x150 px image, we'd convert it to a series of 45,000 RGB pixels. We could also explore other numerical measures like hue and saturation, but let's keep it simple for now.\n",
    "\n",
    "we flatten the images using the flatten_image function, so each is represented as a row in a 2D array."
   ]
  },
  {
   "cell_type": "code",
   "execution_count": 9,
   "metadata": {
    "collapsed": false
   },
   "outputs": [],
   "source": [
    "#setup a standard image size; this will distort some images but will get everything into the same shape\n",
    "STANDARD_SIZE = (233, 233)\n",
    "def img_to_matrix(filename, verbose=False):\n",
    "    \"\"\"\n",
    "    takes a filename and turns it into a numpy array of RGB pixels\n",
    "    \"\"\"\n",
    "    #img = PImage.open(filename)\n",
    "    img = cv2.imread(filename,0)\n",
    "    #img = cv2.cvtColor(img, cv2.COLOR_BGR2GRAY)\n",
    "    if verbose==True:\n",
    "        print (\"changing size from %s to %s\" % (str(img.size), str(STANDARD_SIZE)))\n",
    "    #img = img.resize(STANDARD_SIZE)\n",
    "    img=cv2.resize(img, STANDARD_SIZE)\n",
    "    #img = list(img.getdata())\n",
    "    #img = map(list, img)\n",
    "    img = np.array(img)\n",
    "    return img\n",
    "\n",
    "def flatten_image(img):\n",
    "    \"\"\"\n",
    "    takes in an (m, n) numpy array and flattens it \n",
    "    into an array of shape (1, m * n)\n",
    "    \"\"\"\n",
    "    s = img.shape[0] * img.shape[1]\n",
    "    #print(img.shape[0])\n",
    "    #print(img.shape[1])\n",
    "    #print(img.shape)\n",
    "    img_wide = img.reshape(1, s)\n",
    "    #print(img_wide[0])\n",
    "    return img_wide[0]"
   ]
  },
  {
   "cell_type": "code",
   "execution_count": 24,
   "metadata": {
    "collapsed": false
   },
   "outputs": [
    {
     "name": "stdout",
     "output_type": "stream",
     "text": [
      "changing size from 83456 to (233, 233)\n",
      "Gray Scale Image[[129 164 150 ..., 192 197 206]\n",
      " [133 163 150 ..., 170 165 184]\n",
      " [114 152 181 ..., 185 166 178]\n",
      " ..., \n",
      " [103 125 125 ..., 132 147 168]\n",
      " [104 138  95 ..., 140 158 181]\n",
      " [110 135  98 ..., 158 175 196]]\n",
      "Flatten Image[129 164 150 ..., 158 175 196]\n"
     ]
    }
   ],
   "source": [
    "#Checking one image\n",
    "\n",
    "filename='images/Pierre-Auguste_Renoir_99721.jpg'\n",
    "img_gray=img_to_matrix(filename, verbose=True)\n",
    "print(\"Gray Scale Image\"  + str(img_gray))\n",
    "#glcimg=glcm(img_gray)\n",
    "#print('glc image' + str(glcimg))\n",
    "img=flatten_image(img_gray)\n",
    "print(\"Flatten Image\" + str(img))\n",
    "#img.size\n",
    "#test_imgs.shape\n",
    "#print(img)\n",
    "#cv2.imshow('show',glcimg)"
   ]
  },
  {
   "cell_type": "markdown",
   "metadata": {},
   "source": [
    "# Normalize the data"
   ]
  },
  {
   "cell_type": "markdown",
   "metadata": {},
   "source": [
    "We need to normalize the images so they're in the same shape. To do that, we resize each observation to 233X233 px."
   ]
  },
  {
   "cell_type": "code",
   "execution_count": 10,
   "metadata": {
    "collapsed": false
   },
   "outputs": [
    {
     "data": {
      "text/plain": [
       "array([[184, 187, 187, ...,  92,  91,  92],\n",
       "       [  0,   0,   0, ...,  74,  54,  58],\n",
       "       [245, 244, 245, ..., 254, 254, 247],\n",
       "       ..., \n",
       "       [142, 143, 130, ...,  90,  90, 111],\n",
       "       [ 44,  89,  58, ...,  60,  51,  81],\n",
       "       [129, 164, 150, ..., 158, 175, 196]], dtype=uint8)"
      ]
     },
     "execution_count": 10,
     "metadata": {},
     "output_type": "execute_result"
    }
   ],
   "source": [
    "#Nomalize the data\n",
    "\n",
    "img_dir = \"images_3artists/\"\n",
    "images = [img_dir + f for f in os.listdir(img_dir)]\n",
    "\n",
    "data = []\n",
    "for image in images:\n",
    "    img = img_to_matrix(image)\n",
    "    img = flatten_image(img)\n",
    "    #img = glcm(img)\n",
    "    data.append(img)\n",
    "\n",
    "data = np.array(data)\n",
    "data"
   ]
  },
  {
   "cell_type": "code",
   "execution_count": 11,
   "metadata": {
    "collapsed": false
   },
   "outputs": [
    {
     "data": {
      "text/plain": [
       "(1500, 54289)"
      ]
     },
     "execution_count": 11,
     "metadata": {},
     "output_type": "execute_result"
    }
   ],
   "source": [
    "data.shape"
   ]
  },
  {
   "cell_type": "code",
   "execution_count": 12,
   "metadata": {
    "collapsed": false
   },
   "outputs": [
    {
     "data": {
      "text/plain": [
       "<matplotlib.text.Text at 0x1bbad99dd68>"
      ]
     },
     "execution_count": 12,
     "metadata": {},
     "output_type": "execute_result"
    },
    {
     "data": {
      "image/png": "[encoded data removed]",
      "text/plain": [
       "<matplotlib.figure.Figure at 0x1bbad929eb8>"
      ]
     },
     "metadata": {},
     "output_type": "display_data"
    }
   ],
   "source": [
    "from sklearn.decomposition import PCA\n",
    "\n",
    "pca = PCA().fit(data)\n",
    "plt.plot(np.cumsum(pca.explained_variance_ratio_))\n",
    "#plt.xlim(0,200,1)\n",
    "plt.xlabel('Number of components')\n",
    "plt.ylabel('Cumulative explained variance')"
   ]
  },
  {
   "cell_type": "code",
   "execution_count": 13,
   "metadata": {
    "collapsed": true
   },
   "outputs": [],
   "source": [
    "#Since 600 components can explain more than 96% of the variance, we choose the number of the components to be 100\n",
    "sklearn_pca=PCA(n_components=600)\n",
    "X = sklearn_pca.fit_transform(data)"
   ]
  },
  {
   "cell_type": "code",
   "execution_count": 14,
   "metadata": {
    "collapsed": false
   },
   "outputs": [
    {
     "data": {
      "text/plain": [
       "(1500, 600)"
      ]
     },
     "execution_count": 14,
     "metadata": {},
     "output_type": "execute_result"
    }
   ],
   "source": [
    "X.shape"
   ]
  },
  {
   "cell_type": "code",
   "execution_count": 22,
   "metadata": {
    "collapsed": false
   },
   "outputs": [],
   "source": [
    "'''data_df = pd.DataFrame(data)\n",
    "data_df.to_csv('Selected_Data/inputdata.csv')'''"
   ]
  },
  {
   "cell_type": "markdown",
   "metadata": {},
   "source": [
    "Creating Label array"
   ]
  },
  {
   "cell_type": "code",
   "execution_count": 15,
   "metadata": {
    "collapsed": false
   },
   "outputs": [],
   "source": [
    "test_images = pd.DataFrame(next(os.walk('images_3artists'))[2], columns=['new_filename'])\n",
    "test_images = test_images.sort_values(by='new_filename')"
   ]
  },
  {
   "cell_type": "code",
   "execution_count": 16,
   "metadata": {
    "collapsed": false
   },
   "outputs": [
    {
     "data": {
      "text/plain": [
       "(1500, 1)"
      ]
     },
     "execution_count": 16,
     "metadata": {},
     "output_type": "execute_result"
    }
   ],
   "source": [
    "test_images.shape"
   ]
  },
  {
   "cell_type": "code",
   "execution_count": 17,
   "metadata": {
    "collapsed": false
   },
   "outputs": [
    {
     "data": {
      "text/html": [
       "<div>\n",
       "<style>\n",
       "    .dataframe thead tr:only-child th {\n",
       "        text-align: right;\n",
       "    }\n",
       "\n",
       "    .dataframe thead th {\n",
       "        text-align: left;\n",
       "    }\n",
       "\n",
       "    .dataframe tbody tr th {\n",
       "        vertical-align: top;\n",
       "    }\n",
       "</style>\n",
       "<table border=\"1\" class=\"dataframe\">\n",
       "  <thead>\n",
       "    <tr style=\"text-align: right;\">\n",
       "      <th></th>\n",
       "      <th>new_filename</th>\n",
       "    </tr>\n",
       "  </thead>\n",
       "  <tbody>\n",
       "    <tr>\n",
       "      <th>1495</th>\n",
       "      <td>Pierre-Auguste_Renoir_99063.jpg</td>\n",
       "    </tr>\n",
       "    <tr>\n",
       "      <th>1496</th>\n",
       "      <td>Pierre-Auguste_Renoir_99125.jpg</td>\n",
       "    </tr>\n",
       "    <tr>\n",
       "      <th>1497</th>\n",
       "      <td>Pierre-Auguste_Renoir_99187.jpg</td>\n",
       "    </tr>\n",
       "    <tr>\n",
       "      <th>1498</th>\n",
       "      <td>Pierre-Auguste_Renoir_99647.jpg</td>\n",
       "    </tr>\n",
       "    <tr>\n",
       "      <th>1499</th>\n",
       "      <td>Pierre-Auguste_Renoir_99721.jpg</td>\n",
       "    </tr>\n",
       "  </tbody>\n",
       "</table>\n",
       "</div>"
      ],
      "text/plain": [
       "                         new_filename\n",
       "1495  Pierre-Auguste_Renoir_99063.jpg\n",
       "1496  Pierre-Auguste_Renoir_99125.jpg\n",
       "1497  Pierre-Auguste_Renoir_99187.jpg\n",
       "1498  Pierre-Auguste_Renoir_99647.jpg\n",
       "1499  Pierre-Auguste_Renoir_99721.jpg"
      ]
     },
     "execution_count": 17,
     "metadata": {},
     "output_type": "execute_result"
    }
   ],
   "source": [
    "test_images.tail()"
   ]
  },
  {
   "cell_type": "code",
   "execution_count": 18,
   "metadata": {
    "collapsed": false
   },
   "outputs": [],
   "source": [
    "test_images = test_images['new_filename'].apply(lambda x: x.replace(x.split('_')[-1],''))"
   ]
  },
  {
   "cell_type": "code",
   "execution_count": 19,
   "metadata": {
    "collapsed": false
   },
   "outputs": [],
   "source": [
    "test_images = test_images.apply(lambda x: x.replace('_', ' '))"
   ]
  },
  {
   "cell_type": "code",
   "execution_count": 20,
   "metadata": {
    "collapsed": false
   },
   "outputs": [
    {
     "data": {
      "text/plain": [
       "(1500,)"
      ]
     },
     "execution_count": 20,
     "metadata": {},
     "output_type": "execute_result"
    }
   ],
   "source": [
    "test_images=test_images.ravel()\n",
    "test_images.shape"
   ]
  },
  {
   "cell_type": "code",
   "execution_count": 21,
   "metadata": {
    "collapsed": false
   },
   "outputs": [
    {
     "data": {
      "text/plain": [
       "array(['Albrecht Durer ', 'Albrecht Durer ', 'Albrecht Durer ', ...,\n",
       "       'Pierre-Auguste Renoir ', 'Pierre-Auguste Renoir ',\n",
       "       'Pierre-Auguste Renoir '], dtype=object)"
      ]
     },
     "execution_count": 21,
     "metadata": {},
     "output_type": "execute_result"
    }
   ],
   "source": [
    "test_images"
   ]
  },
  {
   "cell_type": "code",
   "execution_count": 24,
   "metadata": {
    "collapsed": false
   },
   "outputs": [],
   "source": [
    "'''data_df1 = pd.DataFrame(test_images)\n",
    "data_df1.to_csv('Selected_Data/labeldata.csv')'''"
   ]
  },
  {
   "cell_type": "code",
   "execution_count": 22,
   "metadata": {
    "collapsed": false
   },
   "outputs": [],
   "source": [
    "from sklearn.preprocessing import LabelEncoder, OneHotEncoder\n",
    "labelencoder = LabelEncoder()\n",
    "\n",
    "y = labelencoder.fit_transform(test_images)"
   ]
  },
  {
   "cell_type": "code",
   "execution_count": 23,
   "metadata": {
    "collapsed": false
   },
   "outputs": [
    {
     "data": {
      "text/plain": [
       "array([0, 0, 0, ..., 2, 2, 2], dtype=int64)"
      ]
     },
     "execution_count": 23,
     "metadata": {},
     "output_type": "execute_result"
    }
   ],
   "source": [
    "y"
   ]
  },
  {
   "cell_type": "code",
   "execution_count": null,
   "metadata": {
    "collapsed": false
   },
   "outputs": [],
   "source": [
    "# Import TSNE\n",
    "from sklearn.manifold import TSNE \n",
    "\n",
    "# Create a TSNE instance: model\n",
    "model = TSNE(learning_rate=200)\n",
    "\n",
    "# Apply fit_transform to samples: tsne_features\n",
    "tsne_features = model.fit_transform(data)\n",
    "\n",
    "# Select the 0th feature: xs\n",
    "xs = tsne_features[:,0]\n",
    "\n",
    "# Select the 1st feature: ys\n",
    "ys = tsne_features[:,1]\n"
   ]
  },
  {
   "cell_type": "code",
   "execution_count": 25,
   "metadata": {
    "collapsed": false
   },
   "outputs": [
    {
     "data": {
      "image/png": "[encoded data removed]",
      "text/plain": [
       "<matplotlib.figure.Figure at 0x1bbad929b70>"
      ]
     },
     "metadata": {},
     "output_type": "display_data"
    }
   ],
   "source": [
    "with plt.style.context('seaborn-whitegrid'):\n",
    "    plt.figure(figsize=(6, 4))\n",
    "    for lab, col in zip((\"Albrecht Durer \", \"Gustave Dore \", \"Pierre-Auguste Renoir \"), \n",
    "                        ('blue', 'red', 'green')):\n",
    "        plt.scatter(X[test_images==lab, 0],\n",
    "                    X[test_images==lab, 1],\n",
    "                    label=lab,\n",
    "                    c=col)\n",
    "    plt.xlabel('Principal Component 1')\n",
    "    plt.ylabel('Principal Component 2')\n",
    "    plt.legend(loc='upper right')\n",
    "    plt.tight_layout()\n",
    "    plt.show()"
   ]
  },
  {
   "cell_type": "code",
   "execution_count": 26,
   "metadata": {
    "collapsed": false
   },
   "outputs": [],
   "source": [
    "from sklearn.model_selection import train_test_split\n",
    "\n",
    "X_train, X_test, y_train, y_test = train_test_split(X, y, test_size=0.20, random_state=42)"
   ]
  },
  {
   "cell_type": "code",
   "execution_count": 27,
   "metadata": {
    "collapsed": false
   },
   "outputs": [
    {
     "name": "stdout",
     "output_type": "stream",
     "text": [
      "X_train shape:  (1200, 600)\n",
      "y_train shape:  (1200,)\n",
      "X_test shape:  (300, 600)\n",
      "y_test shape:  (300,)\n"
     ]
    }
   ],
   "source": [
    "print(\"X_train shape:  \" + str(X_train.shape))\n",
    "print(\"y_train shape:  \" + str(y_train.shape))\n",
    "print(\"X_test shape:  \" + str(X_test.shape))\n",
    "print(\"y_test shape:  \" + str(y_test.shape))"
   ]
  },
  {
   "cell_type": "code",
   "execution_count": 28,
   "metadata": {
    "collapsed": true
   },
   "outputs": [],
   "source": [
    "# Feature Scaling\n",
    "from sklearn.preprocessing import StandardScaler\n",
    "sc_X = StandardScaler()\n",
    "X_std = sc_X.fit_transform(X_train)\n",
    "X_std1 = sc_X.fit_transform(X_test)"
   ]
  },
  {
   "cell_type": "code",
   "execution_count": 29,
   "metadata": {
    "collapsed": false
   },
   "outputs": [
    {
     "name": "stderr",
     "output_type": "stream",
     "text": [
      "C:\\Users\\Amrita\\Anaconda342\\lib\\site-packages\\sklearn\\cross_validation.py:44: DeprecationWarning: This module was deprecated in version 0.18 in favor of the model_selection module into which all the refactored classes and functions are moved. Also note that the interface of the new CV iterators are different from that of this module. This module will be removed in 0.20.\n",
      "  \"This module will be removed in 0.20.\", DeprecationWarning)\n"
     ]
    }
   ],
   "source": [
    "from sklearn import preprocessing\n",
    "from sklearn import cross_validation\n",
    "from sklearn.ensemble import RandomForestClassifier, AdaBoostClassifier\n",
    "from sklearn.metrics import accuracy_score,confusion_matrix\n",
    "from sklearn.naive_bayes import GaussianNB\n",
    "from sklearn.neighbors import KNeighborsClassifier\n",
    "from sklearn.svm import SVC\n",
    "from sklearn.tree import DecisionTreeClassifier"
   ]
  },
  {
   "cell_type": "code",
   "execution_count": 30,
   "metadata": {
    "collapsed": false
   },
   "outputs": [
    {
     "name": "stdout",
     "output_type": "stream",
     "text": [
      " Accuracy_score:: 0.363333333333\n",
      " Accuracy_score:: 0.286666666667\n",
      " Accuracy_score:: 0.37\n",
      " Accuracy_score:: 0.72\n",
      " Accuracy_score:: 0.656666666667\n",
      " Accuracy_score:: 0.52\n",
      " Accuracy_score:: 0.726666666667\n",
      " Accuracy_score:: 0.53\n"
     ]
    }
   ],
   "source": [
    "\n",
    "classifier = [\n",
    "    KNeighborsClassifier(2),\n",
    "    #SVC(kernel='linear', C=0.025),\n",
    "    SVC(kernel='rbf', gamma=2, C=1),\n",
    "    SVC(kernel='poly', degree=2, C=1),\n",
    "    DecisionTreeClassifier(max_depth=5),\n",
    "    DecisionTreeClassifier(criterion='entropy',min_samples_split=10),\n",
    "    RandomForestClassifier(max_depth=5,n_estimators=10,max_features=1),\n",
    "    AdaBoostClassifier(),\n",
    "    GaussianNB()]\n",
    "\n",
    "for clf in classifier:\n",
    "    clf.fit(X_std, y_train)\n",
    "    pred=clf.predict(X_std1)\n",
    "    print(\" Accuracy_score:: \" + str(accuracy_score(y_test,pred)))"
   ]
  },
  {
   "cell_type": "code",
   "execution_count": 31,
   "metadata": {
    "collapsed": false
   },
   "outputs": [
    {
     "data": {
      "text/plain": [
       "AdaBoostClassifier(algorithm='SAMME.R', base_estimator=None,\n",
       "          learning_rate=1.0, n_estimators=50, random_state=None)"
      ]
     },
     "execution_count": 31,
     "metadata": {},
     "output_type": "execute_result"
    }
   ],
   "source": [
    "clf=AdaBoostClassifier()\n",
    "clf.fit(X_std, y_train)"
   ]
  },
  {
   "cell_type": "markdown",
   "metadata": {
    "collapsed": true
   },
   "source": [
    "# Evaluating the model"
   ]
  },
  {
   "cell_type": "markdown",
   "metadata": {},
   "source": [
    "When we make predictions on our holdout set, we find the the classifier performs well."
   ]
  },
  {
   "cell_type": "code",
   "execution_count": 32,
   "metadata": {
    "collapsed": false
   },
   "outputs": [
    {
     "data": {
      "text/html": [
       "<div>\n",
       "<style>\n",
       "    .dataframe thead tr:only-child th {\n",
       "        text-align: right;\n",
       "    }\n",
       "\n",
       "    .dataframe thead th {\n",
       "        text-align: left;\n",
       "    }\n",
       "\n",
       "    .dataframe tbody tr th {\n",
       "        vertical-align: top;\n",
       "    }\n",
       "</style>\n",
       "<table border=\"1\" class=\"dataframe\">\n",
       "  <thead>\n",
       "    <tr style=\"text-align: right;\">\n",
       "      <th>Predicted</th>\n",
       "      <th>0</th>\n",
       "      <th>1</th>\n",
       "      <th>2</th>\n",
       "    </tr>\n",
       "    <tr>\n",
       "      <th>Actual</th>\n",
       "      <th></th>\n",
       "      <th></th>\n",
       "      <th></th>\n",
       "    </tr>\n",
       "  </thead>\n",
       "  <tbody>\n",
       "    <tr>\n",
       "      <th>0</th>\n",
       "      <td>68</td>\n",
       "      <td>12</td>\n",
       "      <td>24</td>\n",
       "    </tr>\n",
       "    <tr>\n",
       "      <th>1</th>\n",
       "      <td>11</td>\n",
       "      <td>65</td>\n",
       "      <td>10</td>\n",
       "    </tr>\n",
       "    <tr>\n",
       "      <th>2</th>\n",
       "      <td>14</td>\n",
       "      <td>11</td>\n",
       "      <td>85</td>\n",
       "    </tr>\n",
       "  </tbody>\n",
       "</table>\n",
       "</div>"
      ],
      "text/plain": [
       "Predicted   0   1   2\n",
       "Actual               \n",
       "0          68  12  24\n",
       "1          11  65  10\n",
       "2          14  11  85"
      ]
     },
     "execution_count": 32,
     "metadata": {},
     "output_type": "execute_result"
    }
   ],
   "source": [
    "pd.crosstab(y_test, clf.predict(X_std1), rownames=['Actual'], colnames=['Predicted'])"
   ]
  },
  {
   "cell_type": "code",
   "execution_count": 33,
   "metadata": {
    "collapsed": true
   },
   "outputs": [],
   "source": [
    "from sklearn.metrics import classification_report, confusion_matrix"
   ]
  },
  {
   "cell_type": "code",
   "execution_count": 34,
   "metadata": {
    "collapsed": false
   },
   "outputs": [
    {
     "name": "stdout",
     "output_type": "stream",
     "text": [
      "             precision    recall  f1-score   support\n",
      "\n",
      "          0       0.73      0.65      0.69       104\n",
      "          1       0.74      0.76      0.75        86\n",
      "          2       0.71      0.77      0.74       110\n",
      "\n",
      "avg / total       0.73      0.73      0.73       300\n",
      "\n"
     ]
    }
   ],
   "source": [
    "print(classification_report(y_test, clf.predict(X_std1)))"
   ]
  },
  {
   "cell_type": "code",
   "execution_count": null,
   "metadata": {
    "collapsed": true
   },
   "outputs": [],
   "source": [
    "#Parameter Tuning"
   ]
  },
  {
   "cell_type": "code",
   "execution_count": 35,
   "metadata": {
    "collapsed": false
   },
   "outputs": [
    {
     "data": {
      "text/plain": [
       "(0.79000000000000004,\n",
       " {'learning_rate': 0.20000000000000001, 'n_estimators': 80})"
      ]
     },
     "execution_count": 35,
     "metadata": {},
     "output_type": "execute_result"
    }
   ],
   "source": [
    "#Gridsearch: Hyperparameter Optimization with Adaboost classifier\n",
    "n_estimators_values = np.arange(10,100,10)\n",
    "learning_rate_values = np.arange(0.1,10,.1)\n",
    "\n",
    "best_score = 0  \n",
    "best_params = {'n_estimators': None, 'learning_rate': None}\n",
    "\n",
    "for n in n_estimators_values:  \n",
    "    for lrn in learning_rate_values:\n",
    "        clf=AdaBoostClassifier(n_estimators=n, learning_rate=lrn)\n",
    "        clf.fit(X_std, y_train)\n",
    "        score = clf.score(X_std1, y_test)\n",
    "\n",
    "        if score > best_score:\n",
    "            best_score = score\n",
    "            best_params['n_estimators'] = n\n",
    "            best_params['learning_rate'] = lrn\n",
    "\n",
    "best_score, best_params"
   ]
  },
  {
   "cell_type": "code",
   "execution_count": 36,
   "metadata": {
    "collapsed": false
   },
   "outputs": [
    {
     "name": "stdout",
     "output_type": "stream",
     "text": [
      "{'max_depth': 11}\n",
      "0.700833333333\n"
     ]
    }
   ],
   "source": [
    "#Gridsearch: Hyperparameter Optimization for DecisionTree Classifier\n",
    "from sklearn.model_selection import GridSearchCV\n",
    "\n",
    "param_grid={'max_depth': np.arange(1,50)}\n",
    "\n",
    "tree=DecisionTreeClassifier()\n",
    "tree_cv = GridSearchCV(tree,param_grid,cv=5)\n",
    "tree_cv.fit(X_std, y_train)\n",
    "\n",
    "print(tree_cv.best_params_)\n",
    "print(tree_cv.best_score_)"
   ]
  },
  {
   "cell_type": "code",
   "execution_count": 37,
   "metadata": {
    "collapsed": false
   },
   "outputs": [
    {
     "name": "stdout",
     "output_type": "stream",
     "text": [
      "{'C': 3}\n",
      "0.4875\n"
     ]
    }
   ],
   "source": [
    "#Hyperparameter tuning with Support Vector Mahine Classifier\n",
    "\n",
    "from sklearn.model_selection import GridSearchCV\n",
    "\n",
    "param_grid={'C': np.arange(1,50)}\n",
    "svc=SVC(kernel='poly', degree=2)\n",
    "svc_cv = GridSearchCV(svc,param_grid,cv=5)\n",
    "svc_cv.fit(X_std, y_train)\n",
    "\n",
    "print(svc_cv.best_params_)\n",
    "print(svc_cv.best_score_)"
   ]
  },
  {
   "cell_type": "code",
   "execution_count": 38,
   "metadata": {
    "collapsed": false
   },
   "outputs": [
    {
     "data": {
      "text/plain": [
       "AdaBoostClassifier(algorithm='SAMME.R', base_estimator=None,\n",
       "          learning_rate=0.2, n_estimators=80, random_state=None)"
      ]
     },
     "execution_count": 38,
     "metadata": {},
     "output_type": "execute_result"
    }
   ],
   "source": [
    "clf=AdaBoostClassifier(learning_rate=0.2, n_estimators=80)\n",
    "clf.fit(X_std, y_train)"
   ]
  },
  {
   "cell_type": "code",
   "execution_count": 39,
   "metadata": {
    "collapsed": false
   },
   "outputs": [
    {
     "name": "stdout",
     "output_type": "stream",
     "text": [
      "             precision    recall  f1-score   support\n",
      "\n",
      "          0       0.79      0.62      0.69       104\n",
      "          1       0.82      0.85      0.83        86\n",
      "          2       0.77      0.91      0.83       110\n",
      "\n",
      "avg / total       0.79      0.79      0.78       300\n",
      "\n"
     ]
    }
   ],
   "source": [
    "from sklearn.metrics import classification_report, confusion_matrix\n",
    "print(classification_report(y_test, clf.predict(X_std1)))"
   ]
  },
  {
   "cell_type": "markdown",
   "metadata": {
    "collapsed": true
   },
   "source": [
    "So we are getting best accuracy score 79% with adaboost classifier for 3 arist having 1500 paintings only."
   ]
  }
 ],
 "metadata": {
  "anaconda-cloud": {},
  "kernelspec": {
   "display_name": "Python [default]",
   "language": "python",
   "name": "python3"
  },
  "language_info": {
   "codemirror_mode": {
    "name": "ipython",
    "version": 3
   },
   "file_extension": ".py",
   "mimetype": "text/x-python",
   "name": "python",
   "nbconvert_exporter": "python",
   "pygments_lexer": "ipython3",
   "version": "3.5.2"
  }
 },
 "nbformat": 4,
 "nbformat_minor": 1
}
